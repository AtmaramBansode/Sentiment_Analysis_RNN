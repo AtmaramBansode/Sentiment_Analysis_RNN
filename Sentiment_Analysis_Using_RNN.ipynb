{
  "cells": [
    {
      "cell_type": "markdown",
      "id": "related-comfort",
      "metadata": {
        "id": "related-comfort"
      },
      "source": [
        "### Sentiment Analysis Using RNN"
      ]
    },
    {
      "cell_type": "code",
      "source": [
        "from google.colab import drive\n",
        "drive.mount('/content/drive')"
      ],
      "metadata": {
        "colab": {
          "base_uri": "https://localhost:8080/"
        },
        "id": "5kFu-q7vFEYn",
        "outputId": "1fb333d5-e541-4941-e243-20db78e894b6"
      },
      "id": "5kFu-q7vFEYn",
      "execution_count": 1,
      "outputs": [
        {
          "output_type": "stream",
          "name": "stdout",
          "text": [
            "Mounted at /content/drive\n"
          ]
        }
      ]
    },
    {
      "cell_type": "code",
      "source": [
        "%cd /gdrive/My Drive/imarticus/"
      ],
      "metadata": {
        "colab": {
          "base_uri": "https://localhost:8080/"
        },
        "id": "fV0VqlG9jmlT",
        "outputId": "07ccef68-9124-424e-d46b-477e63fd96e5"
      },
      "id": "fV0VqlG9jmlT",
      "execution_count": 2,
      "outputs": [
        {
          "output_type": "stream",
          "name": "stdout",
          "text": [
            "[Errno 2] No such file or directory: '/gdrive/My Drive/imarticus/'\n",
            "/content\n"
          ]
        }
      ]
    },
    {
      "cell_type": "markdown",
      "id": "mediterranean-pregnancy",
      "metadata": {
        "id": "mediterranean-pregnancy"
      },
      "source": [
        "Steps:\n",
        "\n",
        "1. Importing (or installing) tensorflow and other packages on your system\n",
        "2. Loading your data from disk\n",
        "3. Data Preprocessing and visualization\n",
        "4. Creating your training and testing splits\n",
        "5. Defining your RNN model architecture\n",
        "6. Compiling your RNN model\n",
        "7. Training your model on your training data\n",
        "8. Evaluating your model on your test data\n",
        "9. Making predictions for unseen data"
      ]
    },
    {
      "cell_type": "markdown",
      "id": "universal-roller",
      "metadata": {
        "id": "universal-roller"
      },
      "source": [
        "### 1. Importing packages on your system"
      ]
    },
    {
      "cell_type": "code",
      "source": [],
      "metadata": {
        "id": "mzoYOn3iY8Hn"
      },
      "id": "mzoYOn3iY8Hn",
      "execution_count": 2,
      "outputs": []
    },
    {
      "cell_type": "code",
      "execution_count": 3,
      "id": "deadly-sellers",
      "metadata": {
        "id": "deadly-sellers"
      },
      "outputs": [],
      "source": [
        "# import libraries\n",
        "import pandas as pd\n",
        "import numpy as np\n",
        "import re\n",
        "import matplotlib.pyplot as plt\n",
        "from sklearn.model_selection import train_test_split\n",
        "from sklearn.metrics import confusion_matrix , accuracy_score, classification_report\n",
        "from tensorflow import keras\n",
        "from tensorflow.keras.preprocessing.text import Tokenizer\n",
        "from tensorflow.keras.preprocessing.sequence import pad_sequences\n",
        "from tensorflow.keras.layers import Dense,LSTM , GlobalMaxPooling1D\n",
        "from tensorflow.keras.models import Model\n",
        "from tensorflow.keras.layers import Flatten\n",
        "from tensorflow.keras.layers import  Embedding\n",
        "from tensorflow.keras.models import Sequential\n",
        "import tensorflow as tf\n",
        "import itertools\n",
        "\n",
        "import seaborn as sns\n",
        "sns.set()"
      ]
    },
    {
      "cell_type": "code",
      "execution_count": 4,
      "id": "provincial-present",
      "metadata": {
        "id": "provincial-present"
      },
      "outputs": [],
      "source": [
        "import warnings\n",
        "warnings.filterwarnings('ignore')"
      ]
    },
    {
      "cell_type": "code",
      "execution_count": 5,
      "id": "silent-victoria",
      "metadata": {
        "colab": {
          "base_uri": "https://localhost:8080/"
        },
        "id": "silent-victoria",
        "outputId": "6cf1e55a-4cbe-49e1-9e9f-81bc4d33358e"
      },
      "outputs": [
        {
          "output_type": "stream",
          "name": "stdout",
          "text": [
            "Tensorflow Version: 2.15.0\n"
          ]
        }
      ],
      "source": [
        "print(\"Tensorflow Version: {}\".format(tf.__version__))"
      ]
    },
    {
      "cell_type": "markdown",
      "id": "hundred-tyler",
      "metadata": {
        "id": "hundred-tyler"
      },
      "source": [
        "### 2. Load data from disk"
      ]
    },
    {
      "cell_type": "code",
      "execution_count": 6,
      "id": "radio-honey",
      "metadata": {
        "id": "radio-honey"
      },
      "outputs": [],
      "source": [
        "df = pd.read_csv(\"/content/drive/MyDrive/imarticus/IMDB Dataset.csv\")"
      ]
    },
    {
      "cell_type": "code",
      "execution_count": 7,
      "id": "other-leone",
      "metadata": {
        "id": "other-leone",
        "colab": {
          "base_uri": "https://localhost:8080/",
          "height": 206
        },
        "outputId": "651d9b51-1e73-42ad-da69-5a467daa7d49"
      },
      "outputs": [
        {
          "output_type": "execute_result",
          "data": {
            "text/plain": [
              "                                              review sentiment\n",
              "0  One of the other reviewers has mentioned that ...  positive\n",
              "1  A wonderful little production. <br /><br />The...  positive\n",
              "2  I thought this was a wonderful way to spend ti...  positive\n",
              "3  Basically there's a family where a little boy ...  negative\n",
              "4  Petter Mattei's \"Love in the Time of Money\" is...  positive"
            ],
            "text/html": [
              "\n",
              "  <div id=\"df-51a0d67f-7657-4cd5-9dd8-f4552334a1b1\" class=\"colab-df-container\">\n",
              "    <div>\n",
              "<style scoped>\n",
              "    .dataframe tbody tr th:only-of-type {\n",
              "        vertical-align: middle;\n",
              "    }\n",
              "\n",
              "    .dataframe tbody tr th {\n",
              "        vertical-align: top;\n",
              "    }\n",
              "\n",
              "    .dataframe thead th {\n",
              "        text-align: right;\n",
              "    }\n",
              "</style>\n",
              "<table border=\"1\" class=\"dataframe\">\n",
              "  <thead>\n",
              "    <tr style=\"text-align: right;\">\n",
              "      <th></th>\n",
              "      <th>review</th>\n",
              "      <th>sentiment</th>\n",
              "    </tr>\n",
              "  </thead>\n",
              "  <tbody>\n",
              "    <tr>\n",
              "      <th>0</th>\n",
              "      <td>One of the other reviewers has mentioned that ...</td>\n",
              "      <td>positive</td>\n",
              "    </tr>\n",
              "    <tr>\n",
              "      <th>1</th>\n",
              "      <td>A wonderful little production. &lt;br /&gt;&lt;br /&gt;The...</td>\n",
              "      <td>positive</td>\n",
              "    </tr>\n",
              "    <tr>\n",
              "      <th>2</th>\n",
              "      <td>I thought this was a wonderful way to spend ti...</td>\n",
              "      <td>positive</td>\n",
              "    </tr>\n",
              "    <tr>\n",
              "      <th>3</th>\n",
              "      <td>Basically there's a family where a little boy ...</td>\n",
              "      <td>negative</td>\n",
              "    </tr>\n",
              "    <tr>\n",
              "      <th>4</th>\n",
              "      <td>Petter Mattei's \"Love in the Time of Money\" is...</td>\n",
              "      <td>positive</td>\n",
              "    </tr>\n",
              "  </tbody>\n",
              "</table>\n",
              "</div>\n",
              "    <div class=\"colab-df-buttons\">\n",
              "\n",
              "  <div class=\"colab-df-container\">\n",
              "    <button class=\"colab-df-convert\" onclick=\"convertToInteractive('df-51a0d67f-7657-4cd5-9dd8-f4552334a1b1')\"\n",
              "            title=\"Convert this dataframe to an interactive table.\"\n",
              "            style=\"display:none;\">\n",
              "\n",
              "  <svg xmlns=\"http://www.w3.org/2000/svg\" height=\"24px\" viewBox=\"0 -960 960 960\">\n",
              "    <path d=\"M120-120v-720h720v720H120Zm60-500h600v-160H180v160Zm220 220h160v-160H400v160Zm0 220h160v-160H400v160ZM180-400h160v-160H180v160Zm440 0h160v-160H620v160ZM180-180h160v-160H180v160Zm440 0h160v-160H620v160Z\"/>\n",
              "  </svg>\n",
              "    </button>\n",
              "\n",
              "  <style>\n",
              "    .colab-df-container {\n",
              "      display:flex;\n",
              "      gap: 12px;\n",
              "    }\n",
              "\n",
              "    .colab-df-convert {\n",
              "      background-color: #E8F0FE;\n",
              "      border: none;\n",
              "      border-radius: 50%;\n",
              "      cursor: pointer;\n",
              "      display: none;\n",
              "      fill: #1967D2;\n",
              "      height: 32px;\n",
              "      padding: 0 0 0 0;\n",
              "      width: 32px;\n",
              "    }\n",
              "\n",
              "    .colab-df-convert:hover {\n",
              "      background-color: #E2EBFA;\n",
              "      box-shadow: 0px 1px 2px rgba(60, 64, 67, 0.3), 0px 1px 3px 1px rgba(60, 64, 67, 0.15);\n",
              "      fill: #174EA6;\n",
              "    }\n",
              "\n",
              "    .colab-df-buttons div {\n",
              "      margin-bottom: 4px;\n",
              "    }\n",
              "\n",
              "    [theme=dark] .colab-df-convert {\n",
              "      background-color: #3B4455;\n",
              "      fill: #D2E3FC;\n",
              "    }\n",
              "\n",
              "    [theme=dark] .colab-df-convert:hover {\n",
              "      background-color: #434B5C;\n",
              "      box-shadow: 0px 1px 3px 1px rgba(0, 0, 0, 0.15);\n",
              "      filter: drop-shadow(0px 1px 2px rgba(0, 0, 0, 0.3));\n",
              "      fill: #FFFFFF;\n",
              "    }\n",
              "  </style>\n",
              "\n",
              "    <script>\n",
              "      const buttonEl =\n",
              "        document.querySelector('#df-51a0d67f-7657-4cd5-9dd8-f4552334a1b1 button.colab-df-convert');\n",
              "      buttonEl.style.display =\n",
              "        google.colab.kernel.accessAllowed ? 'block' : 'none';\n",
              "\n",
              "      async function convertToInteractive(key) {\n",
              "        const element = document.querySelector('#df-51a0d67f-7657-4cd5-9dd8-f4552334a1b1');\n",
              "        const dataTable =\n",
              "          await google.colab.kernel.invokeFunction('convertToInteractive',\n",
              "                                                    [key], {});\n",
              "        if (!dataTable) return;\n",
              "\n",
              "        const docLinkHtml = 'Like what you see? Visit the ' +\n",
              "          '<a target=\"_blank\" href=https://colab.research.google.com/notebooks/data_table.ipynb>data table notebook</a>'\n",
              "          + ' to learn more about interactive tables.';\n",
              "        element.innerHTML = '';\n",
              "        dataTable['output_type'] = 'display_data';\n",
              "        await google.colab.output.renderOutput(dataTable, element);\n",
              "        const docLink = document.createElement('div');\n",
              "        docLink.innerHTML = docLinkHtml;\n",
              "        element.appendChild(docLink);\n",
              "      }\n",
              "    </script>\n",
              "  </div>\n",
              "\n",
              "\n",
              "<div id=\"df-b0a832d6-9a49-4f2c-82a6-9a9c453016a8\">\n",
              "  <button class=\"colab-df-quickchart\" onclick=\"quickchart('df-b0a832d6-9a49-4f2c-82a6-9a9c453016a8')\"\n",
              "            title=\"Suggest charts\"\n",
              "            style=\"display:none;\">\n",
              "\n",
              "<svg xmlns=\"http://www.w3.org/2000/svg\" height=\"24px\"viewBox=\"0 0 24 24\"\n",
              "     width=\"24px\">\n",
              "    <g>\n",
              "        <path d=\"M19 3H5c-1.1 0-2 .9-2 2v14c0 1.1.9 2 2 2h14c1.1 0 2-.9 2-2V5c0-1.1-.9-2-2-2zM9 17H7v-7h2v7zm4 0h-2V7h2v10zm4 0h-2v-4h2v4z\"/>\n",
              "    </g>\n",
              "</svg>\n",
              "  </button>\n",
              "\n",
              "<style>\n",
              "  .colab-df-quickchart {\n",
              "      --bg-color: #E8F0FE;\n",
              "      --fill-color: #1967D2;\n",
              "      --hover-bg-color: #E2EBFA;\n",
              "      --hover-fill-color: #174EA6;\n",
              "      --disabled-fill-color: #AAA;\n",
              "      --disabled-bg-color: #DDD;\n",
              "  }\n",
              "\n",
              "  [theme=dark] .colab-df-quickchart {\n",
              "      --bg-color: #3B4455;\n",
              "      --fill-color: #D2E3FC;\n",
              "      --hover-bg-color: #434B5C;\n",
              "      --hover-fill-color: #FFFFFF;\n",
              "      --disabled-bg-color: #3B4455;\n",
              "      --disabled-fill-color: #666;\n",
              "  }\n",
              "\n",
              "  .colab-df-quickchart {\n",
              "    background-color: var(--bg-color);\n",
              "    border: none;\n",
              "    border-radius: 50%;\n",
              "    cursor: pointer;\n",
              "    display: none;\n",
              "    fill: var(--fill-color);\n",
              "    height: 32px;\n",
              "    padding: 0;\n",
              "    width: 32px;\n",
              "  }\n",
              "\n",
              "  .colab-df-quickchart:hover {\n",
              "    background-color: var(--hover-bg-color);\n",
              "    box-shadow: 0 1px 2px rgba(60, 64, 67, 0.3), 0 1px 3px 1px rgba(60, 64, 67, 0.15);\n",
              "    fill: var(--button-hover-fill-color);\n",
              "  }\n",
              "\n",
              "  .colab-df-quickchart-complete:disabled,\n",
              "  .colab-df-quickchart-complete:disabled:hover {\n",
              "    background-color: var(--disabled-bg-color);\n",
              "    fill: var(--disabled-fill-color);\n",
              "    box-shadow: none;\n",
              "  }\n",
              "\n",
              "  .colab-df-spinner {\n",
              "    border: 2px solid var(--fill-color);\n",
              "    border-color: transparent;\n",
              "    border-bottom-color: var(--fill-color);\n",
              "    animation:\n",
              "      spin 1s steps(1) infinite;\n",
              "  }\n",
              "\n",
              "  @keyframes spin {\n",
              "    0% {\n",
              "      border-color: transparent;\n",
              "      border-bottom-color: var(--fill-color);\n",
              "      border-left-color: var(--fill-color);\n",
              "    }\n",
              "    20% {\n",
              "      border-color: transparent;\n",
              "      border-left-color: var(--fill-color);\n",
              "      border-top-color: var(--fill-color);\n",
              "    }\n",
              "    30% {\n",
              "      border-color: transparent;\n",
              "      border-left-color: var(--fill-color);\n",
              "      border-top-color: var(--fill-color);\n",
              "      border-right-color: var(--fill-color);\n",
              "    }\n",
              "    40% {\n",
              "      border-color: transparent;\n",
              "      border-right-color: var(--fill-color);\n",
              "      border-top-color: var(--fill-color);\n",
              "    }\n",
              "    60% {\n",
              "      border-color: transparent;\n",
              "      border-right-color: var(--fill-color);\n",
              "    }\n",
              "    80% {\n",
              "      border-color: transparent;\n",
              "      border-right-color: var(--fill-color);\n",
              "      border-bottom-color: var(--fill-color);\n",
              "    }\n",
              "    90% {\n",
              "      border-color: transparent;\n",
              "      border-bottom-color: var(--fill-color);\n",
              "    }\n",
              "  }\n",
              "</style>\n",
              "\n",
              "  <script>\n",
              "    async function quickchart(key) {\n",
              "      const quickchartButtonEl =\n",
              "        document.querySelector('#' + key + ' button');\n",
              "      quickchartButtonEl.disabled = true;  // To prevent multiple clicks.\n",
              "      quickchartButtonEl.classList.add('colab-df-spinner');\n",
              "      try {\n",
              "        const charts = await google.colab.kernel.invokeFunction(\n",
              "            'suggestCharts', [key], {});\n",
              "      } catch (error) {\n",
              "        console.error('Error during call to suggestCharts:', error);\n",
              "      }\n",
              "      quickchartButtonEl.classList.remove('colab-df-spinner');\n",
              "      quickchartButtonEl.classList.add('colab-df-quickchart-complete');\n",
              "    }\n",
              "    (() => {\n",
              "      let quickchartButtonEl =\n",
              "        document.querySelector('#df-b0a832d6-9a49-4f2c-82a6-9a9c453016a8 button');\n",
              "      quickchartButtonEl.style.display =\n",
              "        google.colab.kernel.accessAllowed ? 'block' : 'none';\n",
              "    })();\n",
              "  </script>\n",
              "</div>\n",
              "\n",
              "    </div>\n",
              "  </div>\n"
            ],
            "application/vnd.google.colaboratory.intrinsic+json": {
              "type": "dataframe",
              "variable_name": "df",
              "summary": "{\n  \"name\": \"df\",\n  \"rows\": 50000,\n  \"fields\": [\n    {\n      \"column\": \"review\",\n      \"properties\": {\n        \"dtype\": \"string\",\n        \"num_unique_values\": 49582,\n        \"samples\": [\n          \"\\\"Soul Plane\\\" is a horrible attempt at comedy that only should appeal people with thick skulls, bloodshot eyes and furry pawns. <br /><br />The plot is not only incoherent but also non-existent, acting is mostly sub sub-par with a gang of highly moronic and dreadful characters thrown in for bad measure, jokes are often spotted miles ahead and almost never even a bit amusing. This movie lacks any structure and is full of racial stereotypes that must have seemed old even in the fifties, the only thing it really has going for it is some pretty ladies, but really, if you want that you can rent something from the \\\"Adult\\\" section. OK?<br /><br />I can hardly see anything here to recommend since you'll probably have a lot a better and productive time chasing rats with a sledgehammer or inventing waterproof teabags or whatever.<br /><br />2/10\",\n          \"Guest from the Future tells a fascinating story of time travel, friendship, battle of good and evil -- all with a small budget, child actors, and few special effects. Something for Spielberg and Lucas to learn from. ;) A sixth-grader Kolya \\\"Nick\\\" Gerasimov finds a time machine in the basement of a decrepit building and travels 100 years into the future. He discovers a near-perfect, utopian society where robots play guitars and write poetry, everyone is kind to each other and people enjoy everything technology has to offer. Alice is the daughter of a prominent scientist who invented a device called Mielophone that allows to read minds of humans and animals. The device can be put to both good and bad use, depending on whose hands it falls into. When two evil space pirates from Saturn who want to rule the universe attempt to steal Mielophone, it falls into the hands of 20th century school boy Nick. With the pirates hot on his tracks, he travels back to his time, followed by the pirates, and Alice. Chaos, confusion and funny situations follow as the luckless pirates try to blend in with the earthlings. Alice enrolls in the same school Nick goes to and demonstrates superhuman abilities in PE class. The catch is, Alice doesn't know what Nick looks like, while the pirates do. Also, the pirates are able to change their appearance and turn literally into anyone. (Hmm, I wonder if this is where James Cameron got the idea for Terminator...) Who gets to Nick -- and Mielophone -- first? Excellent plot, non-stop adventures, and great soundtrack. I wish Hollywood made kid movies like this one...\",\n          \"\\\"National Treasure\\\" (2004) is a thoroughly misguided hodge-podge of plot entanglements that borrow from nearly every cloak and dagger government conspiracy clich\\u00e9 that has ever been written. The film stars Nicholas Cage as Benjamin Franklin Gates (how precious is that, I ask you?); a seemingly normal fellow who, for no other reason than being of a lineage of like-minded misguided fortune hunters, decides to steal a 'national treasure' that has been hidden by the United States founding fathers. After a bit of subtext and background that plays laughably (unintentionally) like Indiana Jones meets The Patriot, the film degenerates into one misguided whimsy after another \\u0096 attempting to create a 'Stanley Goodspeed' regurgitation of Nicholas Cage and launch the whole convoluted mess forward with a series of high octane, but disconnected misadventures.<br /><br />The relevancy and logic to having George Washington and his motley crew of patriots burying a king's ransom someplace on native soil, and then, going through the meticulous plan of leaving clues scattered throughout U.S. currency art work, is something that director Jon Turteltaub never quite gets around to explaining. Couldn't Washington found better usage for such wealth during the start up of the country? Hence, we are left with a mystery built on top of an enigma that is already on shaky ground by the time Ben appoints himself the new custodian of this untold wealth. Ben's intentions are noble \\u0096 if confusing. He's set on protecting the treasure. For who and when?\\u0085your guess is as good as mine.<br /><br />But there are a few problems with Ben's crusade. First up, his friend, Ian Holmes (Sean Bean) decides that he can't wait for Ben to make up his mind about stealing the Declaration of Independence from the National Archives (oh, yeah \\u0096 brilliant idea!). Presumably, the back of that famous document holds the secret answer to the ultimate fortune. So Ian tries to kill Ben. The assassination attempt is, of course, unsuccessful, if overly melodramatic. It also affords Ben the opportunity to pick up, and pick on, the very sultry curator of the archives, Abigail Chase (Diane Kruger). She thinks Ben is clearly a nut \\u0096 at least at the beginning. But true to action/romance form, Abby's resolve melts quicker than you can say, \\\"is that the Hope Diamond?\\\" The film moves into full X-File-ish mode, as the FBI, mistakenly believing that Ben is behind the theft, retaliate in various benign ways that lead to a multi-layering of action sequences reminiscent of Mission Impossible meets The Fugitive. Honestly, don't those guys ever get 'intelligence' information that is correct? In the final analysis, \\\"National Treasure\\\" isn't great film making, so much as it's a patchwork rehash of tired old bits from other movies, woven together from scraps, the likes of which would make IL' Betsy Ross blush.<br /><br />The Buena Vista DVD delivers a far more generous treatment than this film is deserving of. The anamorphic widescreen picture exhibits a very smooth and finely detailed image with very rich colors, natural flesh tones, solid blacks and clean whites. The stylized image is also free of blemishes and digital enhancements. The audio is 5.1 and delivers a nice sonic boom to your side and rear speakers with intensity and realism. Extras include a host of promotional junket material that is rather deep and over the top in its explanation of how and why this film was made. If only, as an audience, we had had more clarification as to why Ben and co. were chasing after an illusive treasure, this might have been one good flick. Extras conclude with the theatrical trailer, audio commentary and deleted scenes. Not for the faint-hearted \\u0096 just the thick-headed.\"\n        ],\n        \"semantic_type\": \"\",\n        \"description\": \"\"\n      }\n    },\n    {\n      \"column\": \"sentiment\",\n      \"properties\": {\n        \"dtype\": \"category\",\n        \"num_unique_values\": 2,\n        \"samples\": [\n          \"negative\",\n          \"positive\"\n        ],\n        \"semantic_type\": \"\",\n        \"description\": \"\"\n      }\n    }\n  ]\n}"
            }
          },
          "metadata": {},
          "execution_count": 7
        }
      ],
      "source": [
        "df.head()"
      ]
    },
    {
      "cell_type": "code",
      "execution_count": 8,
      "id": "victorian-python",
      "metadata": {
        "colab": {
          "base_uri": "https://localhost:8080/"
        },
        "id": "victorian-python",
        "outputId": "778606c7-accb-4dca-ac10-ac05b8556d8d"
      },
      "outputs": [
        {
          "output_type": "execute_result",
          "data": {
            "text/plain": [
              "(50000, 2)"
            ]
          },
          "metadata": {},
          "execution_count": 8
        }
      ],
      "source": [
        "df.shape"
      ]
    },
    {
      "cell_type": "code",
      "execution_count": 9,
      "id": "received-greek",
      "metadata": {
        "id": "received-greek"
      },
      "outputs": [],
      "source": [
        "# split the data set into train and test\n",
        "\n",
        "df_train = df.iloc[:40000]\n",
        "df_test = df.iloc[40000:]\n",
        "\n",
        "# # write to disk\n",
        "df_train.to_csv(\"movie_reviews_train.csv\", index=False)\n",
        "df_test.to_csv(\"movie_reviews_test.csv\", index=False)"
      ]
    },
    {
      "cell_type": "code",
      "execution_count": 10,
      "id": "friendly-sandwich",
      "metadata": {
        "id": "friendly-sandwich"
      },
      "outputs": [],
      "source": [
        "# # read data\n",
        "# df_train = pd.read_csv(\"dataset/movie_reviews_train.csv\")\n",
        "# df_test =  pd.read_csv(\"dataset/movie_reviews_test.csv\")"
      ]
    },
    {
      "cell_type": "code",
      "execution_count": 11,
      "id": "subjective-courtesy",
      "metadata": {
        "colab": {
          "base_uri": "https://localhost:8080/"
        },
        "id": "subjective-courtesy",
        "outputId": "a8c72abb-e3d9-47d2-ccd9-e4bcd42bfe94"
      },
      "outputs": [
        {
          "output_type": "stream",
          "name": "stdout",
          "text": [
            "(40000, 2)\n",
            "(10000, 2)\n"
          ]
        }
      ],
      "source": [
        "# check the shape of the dataframe\n",
        "print(df_train.shape) # this dataset contain 40000 records and 2 columns for training\n",
        "print(df_test.shape) # this dataset contain 10000 records and 2 columns for testing"
      ]
    },
    {
      "cell_type": "code",
      "execution_count": 12,
      "id": "former-shelter",
      "metadata": {
        "colab": {
          "base_uri": "https://localhost:8080/"
        },
        "id": "former-shelter",
        "outputId": "39a4c6bc-ab0a-4a03-ab74-c0e646d3fc9d"
      },
      "outputs": [
        {
          "output_type": "execute_result",
          "data": {
            "text/plain": [
              "Index(['review', 'sentiment'], dtype='object')"
            ]
          },
          "metadata": {},
          "execution_count": 12
        }
      ],
      "source": [
        "df_train.columns"
      ]
    },
    {
      "cell_type": "code",
      "execution_count": 13,
      "id": "veterinary-twist",
      "metadata": {
        "id": "veterinary-twist",
        "colab": {
          "base_uri": "https://localhost:8080/",
          "height": 88
        },
        "outputId": "c2119927-3efe-45f2-8f5d-00c7309c9a88"
      },
      "outputs": [
        {
          "output_type": "execute_result",
          "data": {
            "text/plain": [
              "'Probably my all-time favorite movie, a story of selflessness, sacrifice and dedication to a noble cause, but it\\'s not preachy or boring. It just never gets old, despite my having seen it some 15 or more times in the last 25 years. Paul Lukas\\' performance brings tears to my eyes, and Bette Davis, in one of her very few truly sympathetic roles, is a delight. The kids are, as grandma says, more like \"dressed-up midgets\" than children, but that only makes them more fun to watch. And the mother\\'s slow awakening to what\\'s happening in the world and under her own roof is believable and startling. If I had a dozen thumbs, they\\'d all be \"up\" for this movie.'"
            ],
            "application/vnd.google.colaboratory.intrinsic+json": {
              "type": "string"
            }
          },
          "metadata": {},
          "execution_count": 13
        }
      ],
      "source": [
        "df_train[\"review\"][5]"
      ]
    },
    {
      "cell_type": "markdown",
      "id": "offshore-campus",
      "metadata": {
        "id": "offshore-campus"
      },
      "source": [
        "### 3. Data Preprocessing and Visualization"
      ]
    },
    {
      "cell_type": "code",
      "source": [
        "df_train.isnull().sum()"
      ],
      "metadata": {
        "id": "eDCLK8Jieurj",
        "colab": {
          "base_uri": "https://localhost:8080/"
        },
        "outputId": "a2b08b27-9349-4eef-ee4f-ad3737434888"
      },
      "id": "eDCLK8Jieurj",
      "execution_count": 14,
      "outputs": [
        {
          "output_type": "execute_result",
          "data": {
            "text/plain": [
              "review       0\n",
              "sentiment    0\n",
              "dtype: int64"
            ]
          },
          "metadata": {},
          "execution_count": 14
        }
      ]
    },
    {
      "cell_type": "code",
      "execution_count": 15,
      "id": "pressed-rover",
      "metadata": {
        "id": "pressed-rover"
      },
      "outputs": [],
      "source": [
        "import seaborn as sns\n",
        "# sns.countplot(df_train[\"sentiment\"])"
      ]
    },
    {
      "cell_type": "code",
      "execution_count": 16,
      "id": "shared-coach",
      "metadata": {
        "id": "shared-coach",
        "colab": {
          "base_uri": "https://localhost:8080/"
        },
        "outputId": "1526c558-116d-4410-af01-3202b84d6f2a"
      },
      "outputs": [
        {
          "output_type": "stream",
          "name": "stdout",
          "text": [
            "This train_dataset contain 49.98% Negative Sentiment tweet\n",
            "This train_dataset contain 50.02% Positive Sentiment tweet\n"
          ]
        }
      ],
      "source": [
        "Neg = round(df_train[\"sentiment\"].value_counts()[1]/len(df_train) * 100, 2)\n",
        "Pos = round(df_train[\"sentiment\"].value_counts()[0]/len(df_train) * 100, 2)\n",
        "\n",
        "\n",
        "print('This train_dataset contain {}% Negative Sentiment tweet'.format(Neg))\n",
        "print('This train_dataset contain {}% Positive Sentiment tweet'.format(Pos))"
      ]
    },
    {
      "cell_type": "code",
      "execution_count": 17,
      "id": "pressing-kingdom",
      "metadata": {
        "id": "pressing-kingdom"
      },
      "outputs": [],
      "source": [
        "# select relevent columns"
      ]
    },
    {
      "cell_type": "code",
      "execution_count": 18,
      "id": "processed-potato",
      "metadata": {
        "scrolled": true,
        "colab": {
          "base_uri": "https://localhost:8080/",
          "height": 206
        },
        "id": "processed-potato",
        "outputId": "d343af8a-d997-4446-d3e0-4a97a5cbc471"
      },
      "outputs": [
        {
          "output_type": "execute_result",
          "data": {
            "text/plain": [
              "                                              review sentiment  label\n",
              "0  One of the other reviewers has mentioned that ...  positive      1\n",
              "1  A wonderful little production. <br /><br />The...  positive      1\n",
              "2  I thought this was a wonderful way to spend ti...  positive      1\n",
              "3  Basically there's a family where a little boy ...  negative      0\n",
              "4  Petter Mattei's \"Love in the Time of Money\" is...  positive      1"
            ],
            "text/html": [
              "\n",
              "  <div id=\"df-6fedfb1d-47ed-4cae-9855-a7c40bd0119f\" class=\"colab-df-container\">\n",
              "    <div>\n",
              "<style scoped>\n",
              "    .dataframe tbody tr th:only-of-type {\n",
              "        vertical-align: middle;\n",
              "    }\n",
              "\n",
              "    .dataframe tbody tr th {\n",
              "        vertical-align: top;\n",
              "    }\n",
              "\n",
              "    .dataframe thead th {\n",
              "        text-align: right;\n",
              "    }\n",
              "</style>\n",
              "<table border=\"1\" class=\"dataframe\">\n",
              "  <thead>\n",
              "    <tr style=\"text-align: right;\">\n",
              "      <th></th>\n",
              "      <th>review</th>\n",
              "      <th>sentiment</th>\n",
              "      <th>label</th>\n",
              "    </tr>\n",
              "  </thead>\n",
              "  <tbody>\n",
              "    <tr>\n",
              "      <th>0</th>\n",
              "      <td>One of the other reviewers has mentioned that ...</td>\n",
              "      <td>positive</td>\n",
              "      <td>1</td>\n",
              "    </tr>\n",
              "    <tr>\n",
              "      <th>1</th>\n",
              "      <td>A wonderful little production. &lt;br /&gt;&lt;br /&gt;The...</td>\n",
              "      <td>positive</td>\n",
              "      <td>1</td>\n",
              "    </tr>\n",
              "    <tr>\n",
              "      <th>2</th>\n",
              "      <td>I thought this was a wonderful way to spend ti...</td>\n",
              "      <td>positive</td>\n",
              "      <td>1</td>\n",
              "    </tr>\n",
              "    <tr>\n",
              "      <th>3</th>\n",
              "      <td>Basically there's a family where a little boy ...</td>\n",
              "      <td>negative</td>\n",
              "      <td>0</td>\n",
              "    </tr>\n",
              "    <tr>\n",
              "      <th>4</th>\n",
              "      <td>Petter Mattei's \"Love in the Time of Money\" is...</td>\n",
              "      <td>positive</td>\n",
              "      <td>1</td>\n",
              "    </tr>\n",
              "  </tbody>\n",
              "</table>\n",
              "</div>\n",
              "    <div class=\"colab-df-buttons\">\n",
              "\n",
              "  <div class=\"colab-df-container\">\n",
              "    <button class=\"colab-df-convert\" onclick=\"convertToInteractive('df-6fedfb1d-47ed-4cae-9855-a7c40bd0119f')\"\n",
              "            title=\"Convert this dataframe to an interactive table.\"\n",
              "            style=\"display:none;\">\n",
              "\n",
              "  <svg xmlns=\"http://www.w3.org/2000/svg\" height=\"24px\" viewBox=\"0 -960 960 960\">\n",
              "    <path d=\"M120-120v-720h720v720H120Zm60-500h600v-160H180v160Zm220 220h160v-160H400v160Zm0 220h160v-160H400v160ZM180-400h160v-160H180v160Zm440 0h160v-160H620v160ZM180-180h160v-160H180v160Zm440 0h160v-160H620v160Z\"/>\n",
              "  </svg>\n",
              "    </button>\n",
              "\n",
              "  <style>\n",
              "    .colab-df-container {\n",
              "      display:flex;\n",
              "      gap: 12px;\n",
              "    }\n",
              "\n",
              "    .colab-df-convert {\n",
              "      background-color: #E8F0FE;\n",
              "      border: none;\n",
              "      border-radius: 50%;\n",
              "      cursor: pointer;\n",
              "      display: none;\n",
              "      fill: #1967D2;\n",
              "      height: 32px;\n",
              "      padding: 0 0 0 0;\n",
              "      width: 32px;\n",
              "    }\n",
              "\n",
              "    .colab-df-convert:hover {\n",
              "      background-color: #E2EBFA;\n",
              "      box-shadow: 0px 1px 2px rgba(60, 64, 67, 0.3), 0px 1px 3px 1px rgba(60, 64, 67, 0.15);\n",
              "      fill: #174EA6;\n",
              "    }\n",
              "\n",
              "    .colab-df-buttons div {\n",
              "      margin-bottom: 4px;\n",
              "    }\n",
              "\n",
              "    [theme=dark] .colab-df-convert {\n",
              "      background-color: #3B4455;\n",
              "      fill: #D2E3FC;\n",
              "    }\n",
              "\n",
              "    [theme=dark] .colab-df-convert:hover {\n",
              "      background-color: #434B5C;\n",
              "      box-shadow: 0px 1px 3px 1px rgba(0, 0, 0, 0.15);\n",
              "      filter: drop-shadow(0px 1px 2px rgba(0, 0, 0, 0.3));\n",
              "      fill: #FFFFFF;\n",
              "    }\n",
              "  </style>\n",
              "\n",
              "    <script>\n",
              "      const buttonEl =\n",
              "        document.querySelector('#df-6fedfb1d-47ed-4cae-9855-a7c40bd0119f button.colab-df-convert');\n",
              "      buttonEl.style.display =\n",
              "        google.colab.kernel.accessAllowed ? 'block' : 'none';\n",
              "\n",
              "      async function convertToInteractive(key) {\n",
              "        const element = document.querySelector('#df-6fedfb1d-47ed-4cae-9855-a7c40bd0119f');\n",
              "        const dataTable =\n",
              "          await google.colab.kernel.invokeFunction('convertToInteractive',\n",
              "                                                    [key], {});\n",
              "        if (!dataTable) return;\n",
              "\n",
              "        const docLinkHtml = 'Like what you see? Visit the ' +\n",
              "          '<a target=\"_blank\" href=https://colab.research.google.com/notebooks/data_table.ipynb>data table notebook</a>'\n",
              "          + ' to learn more about interactive tables.';\n",
              "        element.innerHTML = '';\n",
              "        dataTable['output_type'] = 'display_data';\n",
              "        await google.colab.output.renderOutput(dataTable, element);\n",
              "        const docLink = document.createElement('div');\n",
              "        docLink.innerHTML = docLinkHtml;\n",
              "        element.appendChild(docLink);\n",
              "      }\n",
              "    </script>\n",
              "  </div>\n",
              "\n",
              "\n",
              "<div id=\"df-095ec6ce-f573-4fdf-9b49-ce31cceaa3bb\">\n",
              "  <button class=\"colab-df-quickchart\" onclick=\"quickchart('df-095ec6ce-f573-4fdf-9b49-ce31cceaa3bb')\"\n",
              "            title=\"Suggest charts\"\n",
              "            style=\"display:none;\">\n",
              "\n",
              "<svg xmlns=\"http://www.w3.org/2000/svg\" height=\"24px\"viewBox=\"0 0 24 24\"\n",
              "     width=\"24px\">\n",
              "    <g>\n",
              "        <path d=\"M19 3H5c-1.1 0-2 .9-2 2v14c0 1.1.9 2 2 2h14c1.1 0 2-.9 2-2V5c0-1.1-.9-2-2-2zM9 17H7v-7h2v7zm4 0h-2V7h2v10zm4 0h-2v-4h2v4z\"/>\n",
              "    </g>\n",
              "</svg>\n",
              "  </button>\n",
              "\n",
              "<style>\n",
              "  .colab-df-quickchart {\n",
              "      --bg-color: #E8F0FE;\n",
              "      --fill-color: #1967D2;\n",
              "      --hover-bg-color: #E2EBFA;\n",
              "      --hover-fill-color: #174EA6;\n",
              "      --disabled-fill-color: #AAA;\n",
              "      --disabled-bg-color: #DDD;\n",
              "  }\n",
              "\n",
              "  [theme=dark] .colab-df-quickchart {\n",
              "      --bg-color: #3B4455;\n",
              "      --fill-color: #D2E3FC;\n",
              "      --hover-bg-color: #434B5C;\n",
              "      --hover-fill-color: #FFFFFF;\n",
              "      --disabled-bg-color: #3B4455;\n",
              "      --disabled-fill-color: #666;\n",
              "  }\n",
              "\n",
              "  .colab-df-quickchart {\n",
              "    background-color: var(--bg-color);\n",
              "    border: none;\n",
              "    border-radius: 50%;\n",
              "    cursor: pointer;\n",
              "    display: none;\n",
              "    fill: var(--fill-color);\n",
              "    height: 32px;\n",
              "    padding: 0;\n",
              "    width: 32px;\n",
              "  }\n",
              "\n",
              "  .colab-df-quickchart:hover {\n",
              "    background-color: var(--hover-bg-color);\n",
              "    box-shadow: 0 1px 2px rgba(60, 64, 67, 0.3), 0 1px 3px 1px rgba(60, 64, 67, 0.15);\n",
              "    fill: var(--button-hover-fill-color);\n",
              "  }\n",
              "\n",
              "  .colab-df-quickchart-complete:disabled,\n",
              "  .colab-df-quickchart-complete:disabled:hover {\n",
              "    background-color: var(--disabled-bg-color);\n",
              "    fill: var(--disabled-fill-color);\n",
              "    box-shadow: none;\n",
              "  }\n",
              "\n",
              "  .colab-df-spinner {\n",
              "    border: 2px solid var(--fill-color);\n",
              "    border-color: transparent;\n",
              "    border-bottom-color: var(--fill-color);\n",
              "    animation:\n",
              "      spin 1s steps(1) infinite;\n",
              "  }\n",
              "\n",
              "  @keyframes spin {\n",
              "    0% {\n",
              "      border-color: transparent;\n",
              "      border-bottom-color: var(--fill-color);\n",
              "      border-left-color: var(--fill-color);\n",
              "    }\n",
              "    20% {\n",
              "      border-color: transparent;\n",
              "      border-left-color: var(--fill-color);\n",
              "      border-top-color: var(--fill-color);\n",
              "    }\n",
              "    30% {\n",
              "      border-color: transparent;\n",
              "      border-left-color: var(--fill-color);\n",
              "      border-top-color: var(--fill-color);\n",
              "      border-right-color: var(--fill-color);\n",
              "    }\n",
              "    40% {\n",
              "      border-color: transparent;\n",
              "      border-right-color: var(--fill-color);\n",
              "      border-top-color: var(--fill-color);\n",
              "    }\n",
              "    60% {\n",
              "      border-color: transparent;\n",
              "      border-right-color: var(--fill-color);\n",
              "    }\n",
              "    80% {\n",
              "      border-color: transparent;\n",
              "      border-right-color: var(--fill-color);\n",
              "      border-bottom-color: var(--fill-color);\n",
              "    }\n",
              "    90% {\n",
              "      border-color: transparent;\n",
              "      border-bottom-color: var(--fill-color);\n",
              "    }\n",
              "  }\n",
              "</style>\n",
              "\n",
              "  <script>\n",
              "    async function quickchart(key) {\n",
              "      const quickchartButtonEl =\n",
              "        document.querySelector('#' + key + ' button');\n",
              "      quickchartButtonEl.disabled = true;  // To prevent multiple clicks.\n",
              "      quickchartButtonEl.classList.add('colab-df-spinner');\n",
              "      try {\n",
              "        const charts = await google.colab.kernel.invokeFunction(\n",
              "            'suggestCharts', [key], {});\n",
              "      } catch (error) {\n",
              "        console.error('Error during call to suggestCharts:', error);\n",
              "      }\n",
              "      quickchartButtonEl.classList.remove('colab-df-spinner');\n",
              "      quickchartButtonEl.classList.add('colab-df-quickchart-complete');\n",
              "    }\n",
              "    (() => {\n",
              "      let quickchartButtonEl =\n",
              "        document.querySelector('#df-095ec6ce-f573-4fdf-9b49-ce31cceaa3bb button');\n",
              "      quickchartButtonEl.style.display =\n",
              "        google.colab.kernel.accessAllowed ? 'block' : 'none';\n",
              "    })();\n",
              "  </script>\n",
              "</div>\n",
              "\n",
              "    </div>\n",
              "  </div>\n"
            ],
            "application/vnd.google.colaboratory.intrinsic+json": {
              "type": "dataframe",
              "variable_name": "df_train",
              "summary": "{\n  \"name\": \"df_train\",\n  \"rows\": 40000,\n  \"fields\": [\n    {\n      \"column\": \"review\",\n      \"properties\": {\n        \"dtype\": \"string\",\n        \"num_unique_values\": 39734,\n        \"samples\": [\n          \"Ever read Jim Thompson? He's hard-boiled noir with the most extreme fatalism and misanthropy I've ever encountered. There are rarely private detectives in his work - just losers, psychotics and small-time con artists. This film has Thompson nailed - \\\"If God made any real mistakes in this world, it was in giving us a will to live when we've got no excuse for it.\\\" Every character in the film balances on a razor's edge between surreal and creepy realism. There's sleazy, conniving Uncle Bud, played by Bruce Dern and spookily well-intentioned Doc Goldman played by George Dickerson. Jason Patric gives a wonderful, often heart-wrenching performance as Kid Collins, a none-too-bright, shy ex-fighter who's more scared of himself than of anyone else. Rachel Ward is Fay, the sexy femme fatale who we can't quite figure out...It's not your standard film noir, nor is it intended to be. After Dark My Sweet, along with The Grifters, are two excellent adaptations of novels by one of my favorite writers, Jim Thompson.\",\n          \"Where to even start? The horrendous acting? The nonsensical plot? The bargain basement effects? The completely loathsome characters? The choppy editing? The headache-inducing Casio keyboard score??? The embarrassingly racist remarks (\\\"Watch it, Charlie!\\\", \\\"Back off, Jackie Chan!!\\\"??? The constant misogyny??? I am a lifelong horror fan, and I have no problem at all with the current \\\"torture-thon\\\" trend of movies. However, this is a poorly-made piece of garbage. I think I suffered more pain watching this than the characters did dying in it! If you like girls being forced to eat stir-fried penis, really poor soft core porn and think lines like \\\"I'm gonna find that b**** and staple her c*** shut!!\\\" are clever, LIVE FEED is for you.<br /><br />As for me, I feel the need to go wash my eyes out with oven cleaner to prevent from ever seeing this movie again!\",\n          \"A real sudsy soap opera here as Spencer Tracy tackles the role of an illiterate until the age of 20. He marries the woman who teaches him and her ambition and his drive leads him to success.<br /><br />Success but no happiness here. A n'eer-do-well son and a faltering marriage leads to disaster and tragedy. Tracy buys a railroad and succeeds only to be subjected to a disastrous rail strike and the death of 406 workers.<br /><br />The film appeared at the beginning to be uneven but is rejuvenated thanks to the excellent use of flashbacks here.<br /><br />A double separate suicide here. We know that riches can't buy happiness but this is a little too far fetched. Nonetheless, we have riveting performances by Tracy and Colleen Moore. Ms. Vinson, as the 2nd wife, is also quite effective.\"\n        ],\n        \"semantic_type\": \"\",\n        \"description\": \"\"\n      }\n    },\n    {\n      \"column\": \"sentiment\",\n      \"properties\": {\n        \"dtype\": \"category\",\n        \"num_unique_values\": 2,\n        \"samples\": [\n          \"negative\",\n          \"positive\"\n        ],\n        \"semantic_type\": \"\",\n        \"description\": \"\"\n      }\n    },\n    {\n      \"column\": \"label\",\n      \"properties\": {\n        \"dtype\": \"number\",\n        \"std\": 0,\n        \"min\": 0,\n        \"max\": 1,\n        \"num_unique_values\": 2,\n        \"samples\": [\n          0,\n          1\n        ],\n        \"semantic_type\": \"\",\n        \"description\": \"\"\n      }\n    }\n  ]\n}"
            }
          },
          "metadata": {},
          "execution_count": 18
        }
      ],
      "source": [
        "# create a label columns using manual label encoding\n",
        "lab = {\"positive\":1,\"negative\":0}\n",
        "df_train['label']= df_train[\"sentiment\"].map(lab)\n",
        "df_train.head()"
      ]
    },
    {
      "cell_type": "code",
      "execution_count": 19,
      "id": "demanding-division",
      "metadata": {
        "id": "demanding-division"
      },
      "outputs": [],
      "source": [
        "def clean_review(text):\n",
        "    '''\n",
        "    Utility function to clean review text by removing links, special characters\n",
        "    using simple regex statements.\n",
        "    '''\n",
        "    return ' '.join(re.sub(\"(@[A-Za-z0-9]+)|([^0-9A-Za-z \\t])|(\\w+:\\/\\/\\S+)\", \" \", text).split()).lower()\n",
        "\n",
        "# clean tweet\n",
        "df_train[\"clean_review\"] = df_train[\"review\"].apply(lambda text : clean_review(text))"
      ]
    },
    {
      "cell_type": "code",
      "execution_count": 20,
      "id": "incredible-partition",
      "metadata": {
        "colab": {
          "base_uri": "https://localhost:8080/",
          "height": 206
        },
        "id": "incredible-partition",
        "outputId": "6a317918-c49f-4281-bf88-f9d48e66b9ae"
      },
      "outputs": [
        {
          "output_type": "execute_result",
          "data": {
            "text/plain": [
              "                                              review sentiment  label  \\\n",
              "0  One of the other reviewers has mentioned that ...  positive      1   \n",
              "1  A wonderful little production. <br /><br />The...  positive      1   \n",
              "2  I thought this was a wonderful way to spend ti...  positive      1   \n",
              "3  Basically there's a family where a little boy ...  negative      0   \n",
              "4  Petter Mattei's \"Love in the Time of Money\" is...  positive      1   \n",
              "\n",
              "                                        clean_review  \n",
              "0  one of the other reviewers has mentioned that ...  \n",
              "1  a wonderful little production br br the filmin...  \n",
              "2  i thought this was a wonderful way to spend ti...  \n",
              "3  basically there s a family where a little boy ...  \n",
              "4  petter mattei s love in the time of money is a...  "
            ],
            "text/html": [
              "\n",
              "  <div id=\"df-02da69ab-45ef-449f-b489-d156fd258519\" class=\"colab-df-container\">\n",
              "    <div>\n",
              "<style scoped>\n",
              "    .dataframe tbody tr th:only-of-type {\n",
              "        vertical-align: middle;\n",
              "    }\n",
              "\n",
              "    .dataframe tbody tr th {\n",
              "        vertical-align: top;\n",
              "    }\n",
              "\n",
              "    .dataframe thead th {\n",
              "        text-align: right;\n",
              "    }\n",
              "</style>\n",
              "<table border=\"1\" class=\"dataframe\">\n",
              "  <thead>\n",
              "    <tr style=\"text-align: right;\">\n",
              "      <th></th>\n",
              "      <th>review</th>\n",
              "      <th>sentiment</th>\n",
              "      <th>label</th>\n",
              "      <th>clean_review</th>\n",
              "    </tr>\n",
              "  </thead>\n",
              "  <tbody>\n",
              "    <tr>\n",
              "      <th>0</th>\n",
              "      <td>One of the other reviewers has mentioned that ...</td>\n",
              "      <td>positive</td>\n",
              "      <td>1</td>\n",
              "      <td>one of the other reviewers has mentioned that ...</td>\n",
              "    </tr>\n",
              "    <tr>\n",
              "      <th>1</th>\n",
              "      <td>A wonderful little production. &lt;br /&gt;&lt;br /&gt;The...</td>\n",
              "      <td>positive</td>\n",
              "      <td>1</td>\n",
              "      <td>a wonderful little production br br the filmin...</td>\n",
              "    </tr>\n",
              "    <tr>\n",
              "      <th>2</th>\n",
              "      <td>I thought this was a wonderful way to spend ti...</td>\n",
              "      <td>positive</td>\n",
              "      <td>1</td>\n",
              "      <td>i thought this was a wonderful way to spend ti...</td>\n",
              "    </tr>\n",
              "    <tr>\n",
              "      <th>3</th>\n",
              "      <td>Basically there's a family where a little boy ...</td>\n",
              "      <td>negative</td>\n",
              "      <td>0</td>\n",
              "      <td>basically there s a family where a little boy ...</td>\n",
              "    </tr>\n",
              "    <tr>\n",
              "      <th>4</th>\n",
              "      <td>Petter Mattei's \"Love in the Time of Money\" is...</td>\n",
              "      <td>positive</td>\n",
              "      <td>1</td>\n",
              "      <td>petter mattei s love in the time of money is a...</td>\n",
              "    </tr>\n",
              "  </tbody>\n",
              "</table>\n",
              "</div>\n",
              "    <div class=\"colab-df-buttons\">\n",
              "\n",
              "  <div class=\"colab-df-container\">\n",
              "    <button class=\"colab-df-convert\" onclick=\"convertToInteractive('df-02da69ab-45ef-449f-b489-d156fd258519')\"\n",
              "            title=\"Convert this dataframe to an interactive table.\"\n",
              "            style=\"display:none;\">\n",
              "\n",
              "  <svg xmlns=\"http://www.w3.org/2000/svg\" height=\"24px\" viewBox=\"0 -960 960 960\">\n",
              "    <path d=\"M120-120v-720h720v720H120Zm60-500h600v-160H180v160Zm220 220h160v-160H400v160Zm0 220h160v-160H400v160ZM180-400h160v-160H180v160Zm440 0h160v-160H620v160ZM180-180h160v-160H180v160Zm440 0h160v-160H620v160Z\"/>\n",
              "  </svg>\n",
              "    </button>\n",
              "\n",
              "  <style>\n",
              "    .colab-df-container {\n",
              "      display:flex;\n",
              "      gap: 12px;\n",
              "    }\n",
              "\n",
              "    .colab-df-convert {\n",
              "      background-color: #E8F0FE;\n",
              "      border: none;\n",
              "      border-radius: 50%;\n",
              "      cursor: pointer;\n",
              "      display: none;\n",
              "      fill: #1967D2;\n",
              "      height: 32px;\n",
              "      padding: 0 0 0 0;\n",
              "      width: 32px;\n",
              "    }\n",
              "\n",
              "    .colab-df-convert:hover {\n",
              "      background-color: #E2EBFA;\n",
              "      box-shadow: 0px 1px 2px rgba(60, 64, 67, 0.3), 0px 1px 3px 1px rgba(60, 64, 67, 0.15);\n",
              "      fill: #174EA6;\n",
              "    }\n",
              "\n",
              "    .colab-df-buttons div {\n",
              "      margin-bottom: 4px;\n",
              "    }\n",
              "\n",
              "    [theme=dark] .colab-df-convert {\n",
              "      background-color: #3B4455;\n",
              "      fill: #D2E3FC;\n",
              "    }\n",
              "\n",
              "    [theme=dark] .colab-df-convert:hover {\n",
              "      background-color: #434B5C;\n",
              "      box-shadow: 0px 1px 3px 1px rgba(0, 0, 0, 0.15);\n",
              "      filter: drop-shadow(0px 1px 2px rgba(0, 0, 0, 0.3));\n",
              "      fill: #FFFFFF;\n",
              "    }\n",
              "  </style>\n",
              "\n",
              "    <script>\n",
              "      const buttonEl =\n",
              "        document.querySelector('#df-02da69ab-45ef-449f-b489-d156fd258519 button.colab-df-convert');\n",
              "      buttonEl.style.display =\n",
              "        google.colab.kernel.accessAllowed ? 'block' : 'none';\n",
              "\n",
              "      async function convertToInteractive(key) {\n",
              "        const element = document.querySelector('#df-02da69ab-45ef-449f-b489-d156fd258519');\n",
              "        const dataTable =\n",
              "          await google.colab.kernel.invokeFunction('convertToInteractive',\n",
              "                                                    [key], {});\n",
              "        if (!dataTable) return;\n",
              "\n",
              "        const docLinkHtml = 'Like what you see? Visit the ' +\n",
              "          '<a target=\"_blank\" href=https://colab.research.google.com/notebooks/data_table.ipynb>data table notebook</a>'\n",
              "          + ' to learn more about interactive tables.';\n",
              "        element.innerHTML = '';\n",
              "        dataTable['output_type'] = 'display_data';\n",
              "        await google.colab.output.renderOutput(dataTable, element);\n",
              "        const docLink = document.createElement('div');\n",
              "        docLink.innerHTML = docLinkHtml;\n",
              "        element.appendChild(docLink);\n",
              "      }\n",
              "    </script>\n",
              "  </div>\n",
              "\n",
              "\n",
              "<div id=\"df-7749cf7a-93da-427d-a8df-36b738f00cf3\">\n",
              "  <button class=\"colab-df-quickchart\" onclick=\"quickchart('df-7749cf7a-93da-427d-a8df-36b738f00cf3')\"\n",
              "            title=\"Suggest charts\"\n",
              "            style=\"display:none;\">\n",
              "\n",
              "<svg xmlns=\"http://www.w3.org/2000/svg\" height=\"24px\"viewBox=\"0 0 24 24\"\n",
              "     width=\"24px\">\n",
              "    <g>\n",
              "        <path d=\"M19 3H5c-1.1 0-2 .9-2 2v14c0 1.1.9 2 2 2h14c1.1 0 2-.9 2-2V5c0-1.1-.9-2-2-2zM9 17H7v-7h2v7zm4 0h-2V7h2v10zm4 0h-2v-4h2v4z\"/>\n",
              "    </g>\n",
              "</svg>\n",
              "  </button>\n",
              "\n",
              "<style>\n",
              "  .colab-df-quickchart {\n",
              "      --bg-color: #E8F0FE;\n",
              "      --fill-color: #1967D2;\n",
              "      --hover-bg-color: #E2EBFA;\n",
              "      --hover-fill-color: #174EA6;\n",
              "      --disabled-fill-color: #AAA;\n",
              "      --disabled-bg-color: #DDD;\n",
              "  }\n",
              "\n",
              "  [theme=dark] .colab-df-quickchart {\n",
              "      --bg-color: #3B4455;\n",
              "      --fill-color: #D2E3FC;\n",
              "      --hover-bg-color: #434B5C;\n",
              "      --hover-fill-color: #FFFFFF;\n",
              "      --disabled-bg-color: #3B4455;\n",
              "      --disabled-fill-color: #666;\n",
              "  }\n",
              "\n",
              "  .colab-df-quickchart {\n",
              "    background-color: var(--bg-color);\n",
              "    border: none;\n",
              "    border-radius: 50%;\n",
              "    cursor: pointer;\n",
              "    display: none;\n",
              "    fill: var(--fill-color);\n",
              "    height: 32px;\n",
              "    padding: 0;\n",
              "    width: 32px;\n",
              "  }\n",
              "\n",
              "  .colab-df-quickchart:hover {\n",
              "    background-color: var(--hover-bg-color);\n",
              "    box-shadow: 0 1px 2px rgba(60, 64, 67, 0.3), 0 1px 3px 1px rgba(60, 64, 67, 0.15);\n",
              "    fill: var(--button-hover-fill-color);\n",
              "  }\n",
              "\n",
              "  .colab-df-quickchart-complete:disabled,\n",
              "  .colab-df-quickchart-complete:disabled:hover {\n",
              "    background-color: var(--disabled-bg-color);\n",
              "    fill: var(--disabled-fill-color);\n",
              "    box-shadow: none;\n",
              "  }\n",
              "\n",
              "  .colab-df-spinner {\n",
              "    border: 2px solid var(--fill-color);\n",
              "    border-color: transparent;\n",
              "    border-bottom-color: var(--fill-color);\n",
              "    animation:\n",
              "      spin 1s steps(1) infinite;\n",
              "  }\n",
              "\n",
              "  @keyframes spin {\n",
              "    0% {\n",
              "      border-color: transparent;\n",
              "      border-bottom-color: var(--fill-color);\n",
              "      border-left-color: var(--fill-color);\n",
              "    }\n",
              "    20% {\n",
              "      border-color: transparent;\n",
              "      border-left-color: var(--fill-color);\n",
              "      border-top-color: var(--fill-color);\n",
              "    }\n",
              "    30% {\n",
              "      border-color: transparent;\n",
              "      border-left-color: var(--fill-color);\n",
              "      border-top-color: var(--fill-color);\n",
              "      border-right-color: var(--fill-color);\n",
              "    }\n",
              "    40% {\n",
              "      border-color: transparent;\n",
              "      border-right-color: var(--fill-color);\n",
              "      border-top-color: var(--fill-color);\n",
              "    }\n",
              "    60% {\n",
              "      border-color: transparent;\n",
              "      border-right-color: var(--fill-color);\n",
              "    }\n",
              "    80% {\n",
              "      border-color: transparent;\n",
              "      border-right-color: var(--fill-color);\n",
              "      border-bottom-color: var(--fill-color);\n",
              "    }\n",
              "    90% {\n",
              "      border-color: transparent;\n",
              "      border-bottom-color: var(--fill-color);\n",
              "    }\n",
              "  }\n",
              "</style>\n",
              "\n",
              "  <script>\n",
              "    async function quickchart(key) {\n",
              "      const quickchartButtonEl =\n",
              "        document.querySelector('#' + key + ' button');\n",
              "      quickchartButtonEl.disabled = true;  // To prevent multiple clicks.\n",
              "      quickchartButtonEl.classList.add('colab-df-spinner');\n",
              "      try {\n",
              "        const charts = await google.colab.kernel.invokeFunction(\n",
              "            'suggestCharts', [key], {});\n",
              "      } catch (error) {\n",
              "        console.error('Error during call to suggestCharts:', error);\n",
              "      }\n",
              "      quickchartButtonEl.classList.remove('colab-df-spinner');\n",
              "      quickchartButtonEl.classList.add('colab-df-quickchart-complete');\n",
              "    }\n",
              "    (() => {\n",
              "      let quickchartButtonEl =\n",
              "        document.querySelector('#df-7749cf7a-93da-427d-a8df-36b738f00cf3 button');\n",
              "      quickchartButtonEl.style.display =\n",
              "        google.colab.kernel.accessAllowed ? 'block' : 'none';\n",
              "    })();\n",
              "  </script>\n",
              "</div>\n",
              "\n",
              "    </div>\n",
              "  </div>\n"
            ],
            "application/vnd.google.colaboratory.intrinsic+json": {
              "type": "dataframe",
              "variable_name": "df_train",
              "summary": "{\n  \"name\": \"df_train\",\n  \"rows\": 40000,\n  \"fields\": [\n    {\n      \"column\": \"review\",\n      \"properties\": {\n        \"dtype\": \"string\",\n        \"num_unique_values\": 39734,\n        \"samples\": [\n          \"Ever read Jim Thompson? He's hard-boiled noir with the most extreme fatalism and misanthropy I've ever encountered. There are rarely private detectives in his work - just losers, psychotics and small-time con artists. This film has Thompson nailed - \\\"If God made any real mistakes in this world, it was in giving us a will to live when we've got no excuse for it.\\\" Every character in the film balances on a razor's edge between surreal and creepy realism. There's sleazy, conniving Uncle Bud, played by Bruce Dern and spookily well-intentioned Doc Goldman played by George Dickerson. Jason Patric gives a wonderful, often heart-wrenching performance as Kid Collins, a none-too-bright, shy ex-fighter who's more scared of himself than of anyone else. Rachel Ward is Fay, the sexy femme fatale who we can't quite figure out...It's not your standard film noir, nor is it intended to be. After Dark My Sweet, along with The Grifters, are two excellent adaptations of novels by one of my favorite writers, Jim Thompson.\",\n          \"Where to even start? The horrendous acting? The nonsensical plot? The bargain basement effects? The completely loathsome characters? The choppy editing? The headache-inducing Casio keyboard score??? The embarrassingly racist remarks (\\\"Watch it, Charlie!\\\", \\\"Back off, Jackie Chan!!\\\"??? The constant misogyny??? I am a lifelong horror fan, and I have no problem at all with the current \\\"torture-thon\\\" trend of movies. However, this is a poorly-made piece of garbage. I think I suffered more pain watching this than the characters did dying in it! If you like girls being forced to eat stir-fried penis, really poor soft core porn and think lines like \\\"I'm gonna find that b**** and staple her c*** shut!!\\\" are clever, LIVE FEED is for you.<br /><br />As for me, I feel the need to go wash my eyes out with oven cleaner to prevent from ever seeing this movie again!\",\n          \"A real sudsy soap opera here as Spencer Tracy tackles the role of an illiterate until the age of 20. He marries the woman who teaches him and her ambition and his drive leads him to success.<br /><br />Success but no happiness here. A n'eer-do-well son and a faltering marriage leads to disaster and tragedy. Tracy buys a railroad and succeeds only to be subjected to a disastrous rail strike and the death of 406 workers.<br /><br />The film appeared at the beginning to be uneven but is rejuvenated thanks to the excellent use of flashbacks here.<br /><br />A double separate suicide here. We know that riches can't buy happiness but this is a little too far fetched. Nonetheless, we have riveting performances by Tracy and Colleen Moore. Ms. Vinson, as the 2nd wife, is also quite effective.\"\n        ],\n        \"semantic_type\": \"\",\n        \"description\": \"\"\n      }\n    },\n    {\n      \"column\": \"sentiment\",\n      \"properties\": {\n        \"dtype\": \"category\",\n        \"num_unique_values\": 2,\n        \"samples\": [\n          \"negative\",\n          \"positive\"\n        ],\n        \"semantic_type\": \"\",\n        \"description\": \"\"\n      }\n    },\n    {\n      \"column\": \"label\",\n      \"properties\": {\n        \"dtype\": \"number\",\n        \"std\": 0,\n        \"min\": 0,\n        \"max\": 1,\n        \"num_unique_values\": 2,\n        \"samples\": [\n          0,\n          1\n        ],\n        \"semantic_type\": \"\",\n        \"description\": \"\"\n      }\n    },\n    {\n      \"column\": \"clean_review\",\n      \"properties\": {\n        \"dtype\": \"string\",\n        \"num_unique_values\": 39732,\n        \"samples\": [\n          \"this is a great movie from the lost age of reactionary made for television drama my all time favourite actor robert culp skillfully plots a trajectory through uptight liberal fairmindedness and faith in the system kneejerk conservativism and fear of crime and homicidal psychosis the teens are a collection of pure sneering evil stereotypes and the eventual message of this film makes episodes of dragnet look evenhanded by comparison but what really shines in this is the great pace of the movie building the fear and paranoia by degrees as well as the feel of the whole california setting the cars are really great as well as i recall i give this film a 10 and i defy anyone to watch this film and not enjoy every minute remember just because it s made for television doesn t mean it isn t great art\",\n          \"it came before the ten commandments land of the pharaohs ben hur and it s overlooked today how unfair based on mika waltari s mammoth novel it doesn t cheapen it waltari s novel was so huge only a miniseries could have done it justice i hope it will be done some day waltari whose message is essentially christian remains intact another of his books the secret of the kingdom first part takes place after christ s death in the holy land br br the egyptian is the rising of a monotheism close to christianism long before christ the pharaoh wilding is some kind of messiah who sacrifices his life because he knows that the true kingdom is not in the material world he asks to return good for evil and he has disciples who will eventually turn into martyrs the scene when simmons and the other worshippers of the sun god are slain is visually stunning looking like some pagan ballet for the priests on the other hand this new religion would mean the end of their influence on the populace and that s why they look for a strong man mature who can lead the army against the hittites as well as against their dangerous compatriots another religion or non religion should we say is sinouh s purdom who during two hours believes in nothing the sequence of the grain of sands is absolutely sensational and rises the whole movie well above the average peplum br br there s another fascinating side the movie looks like a flamboyant melodrama not only for the screenplay notably pharoah s sister s tierney final revelation which predates the ten commandments by two years but also the splendor of the cinematography viviani in his book about curtiz talks about a baudelairian atmosphere blue and gold notably in the scenes which involve the prostitute darvi who contemplates her reflection in the water of her bath supreme narcissism around the hero all the characters appear disappear appear again but when they reappear they have followed their way and all the subplots come together with consummate skill besides as such is often the case in modern melodramas the story is a long flashback framed by two short sequences showing sinouh an old man who s remembering br br this is a wonderful sword and sandals that had a strong influence not only in america but also in europa notably in poland where jerzy kawalerowicz directed a spellbinding faraon 1966 which owed a lot to curtiz\"\n        ],\n        \"semantic_type\": \"\",\n        \"description\": \"\"\n      }\n    }\n  ]\n}"
            }
          },
          "metadata": {},
          "execution_count": 20
        }
      ],
      "source": [
        "df_train.head()"
      ]
    },
    {
      "cell_type": "code",
      "execution_count": 21,
      "id": "authentic-involvement",
      "metadata": {
        "id": "authentic-involvement"
      },
      "outputs": [],
      "source": [
        "df_train = df_train[[\"clean_review\", \"label\"]]"
      ]
    },
    {
      "cell_type": "code",
      "execution_count": 22,
      "id": "foreign-pathology",
      "metadata": {
        "scrolled": true,
        "colab": {
          "base_uri": "https://localhost:8080/",
          "height": 206
        },
        "id": "foreign-pathology",
        "outputId": "3ba2f0f4-f37d-4a03-bcb4-e53ef7d5f369"
      },
      "outputs": [
        {
          "output_type": "execute_result",
          "data": {
            "text/plain": [
              "                                        clean_review  label\n",
              "0  one of the other reviewers has mentioned that ...      1\n",
              "1  a wonderful little production br br the filmin...      1\n",
              "2  i thought this was a wonderful way to spend ti...      1\n",
              "3  basically there s a family where a little boy ...      0\n",
              "4  petter mattei s love in the time of money is a...      1"
            ],
            "text/html": [
              "\n",
              "  <div id=\"df-e3262e38-c206-47ed-a9a0-e9ebb8dbdbc1\" class=\"colab-df-container\">\n",
              "    <div>\n",
              "<style scoped>\n",
              "    .dataframe tbody tr th:only-of-type {\n",
              "        vertical-align: middle;\n",
              "    }\n",
              "\n",
              "    .dataframe tbody tr th {\n",
              "        vertical-align: top;\n",
              "    }\n",
              "\n",
              "    .dataframe thead th {\n",
              "        text-align: right;\n",
              "    }\n",
              "</style>\n",
              "<table border=\"1\" class=\"dataframe\">\n",
              "  <thead>\n",
              "    <tr style=\"text-align: right;\">\n",
              "      <th></th>\n",
              "      <th>clean_review</th>\n",
              "      <th>label</th>\n",
              "    </tr>\n",
              "  </thead>\n",
              "  <tbody>\n",
              "    <tr>\n",
              "      <th>0</th>\n",
              "      <td>one of the other reviewers has mentioned that ...</td>\n",
              "      <td>1</td>\n",
              "    </tr>\n",
              "    <tr>\n",
              "      <th>1</th>\n",
              "      <td>a wonderful little production br br the filmin...</td>\n",
              "      <td>1</td>\n",
              "    </tr>\n",
              "    <tr>\n",
              "      <th>2</th>\n",
              "      <td>i thought this was a wonderful way to spend ti...</td>\n",
              "      <td>1</td>\n",
              "    </tr>\n",
              "    <tr>\n",
              "      <th>3</th>\n",
              "      <td>basically there s a family where a little boy ...</td>\n",
              "      <td>0</td>\n",
              "    </tr>\n",
              "    <tr>\n",
              "      <th>4</th>\n",
              "      <td>petter mattei s love in the time of money is a...</td>\n",
              "      <td>1</td>\n",
              "    </tr>\n",
              "  </tbody>\n",
              "</table>\n",
              "</div>\n",
              "    <div class=\"colab-df-buttons\">\n",
              "\n",
              "  <div class=\"colab-df-container\">\n",
              "    <button class=\"colab-df-convert\" onclick=\"convertToInteractive('df-e3262e38-c206-47ed-a9a0-e9ebb8dbdbc1')\"\n",
              "            title=\"Convert this dataframe to an interactive table.\"\n",
              "            style=\"display:none;\">\n",
              "\n",
              "  <svg xmlns=\"http://www.w3.org/2000/svg\" height=\"24px\" viewBox=\"0 -960 960 960\">\n",
              "    <path d=\"M120-120v-720h720v720H120Zm60-500h600v-160H180v160Zm220 220h160v-160H400v160Zm0 220h160v-160H400v160ZM180-400h160v-160H180v160Zm440 0h160v-160H620v160ZM180-180h160v-160H180v160Zm440 0h160v-160H620v160Z\"/>\n",
              "  </svg>\n",
              "    </button>\n",
              "\n",
              "  <style>\n",
              "    .colab-df-container {\n",
              "      display:flex;\n",
              "      gap: 12px;\n",
              "    }\n",
              "\n",
              "    .colab-df-convert {\n",
              "      background-color: #E8F0FE;\n",
              "      border: none;\n",
              "      border-radius: 50%;\n",
              "      cursor: pointer;\n",
              "      display: none;\n",
              "      fill: #1967D2;\n",
              "      height: 32px;\n",
              "      padding: 0 0 0 0;\n",
              "      width: 32px;\n",
              "    }\n",
              "\n",
              "    .colab-df-convert:hover {\n",
              "      background-color: #E2EBFA;\n",
              "      box-shadow: 0px 1px 2px rgba(60, 64, 67, 0.3), 0px 1px 3px 1px rgba(60, 64, 67, 0.15);\n",
              "      fill: #174EA6;\n",
              "    }\n",
              "\n",
              "    .colab-df-buttons div {\n",
              "      margin-bottom: 4px;\n",
              "    }\n",
              "\n",
              "    [theme=dark] .colab-df-convert {\n",
              "      background-color: #3B4455;\n",
              "      fill: #D2E3FC;\n",
              "    }\n",
              "\n",
              "    [theme=dark] .colab-df-convert:hover {\n",
              "      background-color: #434B5C;\n",
              "      box-shadow: 0px 1px 3px 1px rgba(0, 0, 0, 0.15);\n",
              "      filter: drop-shadow(0px 1px 2px rgba(0, 0, 0, 0.3));\n",
              "      fill: #FFFFFF;\n",
              "    }\n",
              "  </style>\n",
              "\n",
              "    <script>\n",
              "      const buttonEl =\n",
              "        document.querySelector('#df-e3262e38-c206-47ed-a9a0-e9ebb8dbdbc1 button.colab-df-convert');\n",
              "      buttonEl.style.display =\n",
              "        google.colab.kernel.accessAllowed ? 'block' : 'none';\n",
              "\n",
              "      async function convertToInteractive(key) {\n",
              "        const element = document.querySelector('#df-e3262e38-c206-47ed-a9a0-e9ebb8dbdbc1');\n",
              "        const dataTable =\n",
              "          await google.colab.kernel.invokeFunction('convertToInteractive',\n",
              "                                                    [key], {});\n",
              "        if (!dataTable) return;\n",
              "\n",
              "        const docLinkHtml = 'Like what you see? Visit the ' +\n",
              "          '<a target=\"_blank\" href=https://colab.research.google.com/notebooks/data_table.ipynb>data table notebook</a>'\n",
              "          + ' to learn more about interactive tables.';\n",
              "        element.innerHTML = '';\n",
              "        dataTable['output_type'] = 'display_data';\n",
              "        await google.colab.output.renderOutput(dataTable, element);\n",
              "        const docLink = document.createElement('div');\n",
              "        docLink.innerHTML = docLinkHtml;\n",
              "        element.appendChild(docLink);\n",
              "      }\n",
              "    </script>\n",
              "  </div>\n",
              "\n",
              "\n",
              "<div id=\"df-266a3ea4-548c-446b-9980-4c23f233bcf5\">\n",
              "  <button class=\"colab-df-quickchart\" onclick=\"quickchart('df-266a3ea4-548c-446b-9980-4c23f233bcf5')\"\n",
              "            title=\"Suggest charts\"\n",
              "            style=\"display:none;\">\n",
              "\n",
              "<svg xmlns=\"http://www.w3.org/2000/svg\" height=\"24px\"viewBox=\"0 0 24 24\"\n",
              "     width=\"24px\">\n",
              "    <g>\n",
              "        <path d=\"M19 3H5c-1.1 0-2 .9-2 2v14c0 1.1.9 2 2 2h14c1.1 0 2-.9 2-2V5c0-1.1-.9-2-2-2zM9 17H7v-7h2v7zm4 0h-2V7h2v10zm4 0h-2v-4h2v4z\"/>\n",
              "    </g>\n",
              "</svg>\n",
              "  </button>\n",
              "\n",
              "<style>\n",
              "  .colab-df-quickchart {\n",
              "      --bg-color: #E8F0FE;\n",
              "      --fill-color: #1967D2;\n",
              "      --hover-bg-color: #E2EBFA;\n",
              "      --hover-fill-color: #174EA6;\n",
              "      --disabled-fill-color: #AAA;\n",
              "      --disabled-bg-color: #DDD;\n",
              "  }\n",
              "\n",
              "  [theme=dark] .colab-df-quickchart {\n",
              "      --bg-color: #3B4455;\n",
              "      --fill-color: #D2E3FC;\n",
              "      --hover-bg-color: #434B5C;\n",
              "      --hover-fill-color: #FFFFFF;\n",
              "      --disabled-bg-color: #3B4455;\n",
              "      --disabled-fill-color: #666;\n",
              "  }\n",
              "\n",
              "  .colab-df-quickchart {\n",
              "    background-color: var(--bg-color);\n",
              "    border: none;\n",
              "    border-radius: 50%;\n",
              "    cursor: pointer;\n",
              "    display: none;\n",
              "    fill: var(--fill-color);\n",
              "    height: 32px;\n",
              "    padding: 0;\n",
              "    width: 32px;\n",
              "  }\n",
              "\n",
              "  .colab-df-quickchart:hover {\n",
              "    background-color: var(--hover-bg-color);\n",
              "    box-shadow: 0 1px 2px rgba(60, 64, 67, 0.3), 0 1px 3px 1px rgba(60, 64, 67, 0.15);\n",
              "    fill: var(--button-hover-fill-color);\n",
              "  }\n",
              "\n",
              "  .colab-df-quickchart-complete:disabled,\n",
              "  .colab-df-quickchart-complete:disabled:hover {\n",
              "    background-color: var(--disabled-bg-color);\n",
              "    fill: var(--disabled-fill-color);\n",
              "    box-shadow: none;\n",
              "  }\n",
              "\n",
              "  .colab-df-spinner {\n",
              "    border: 2px solid var(--fill-color);\n",
              "    border-color: transparent;\n",
              "    border-bottom-color: var(--fill-color);\n",
              "    animation:\n",
              "      spin 1s steps(1) infinite;\n",
              "  }\n",
              "\n",
              "  @keyframes spin {\n",
              "    0% {\n",
              "      border-color: transparent;\n",
              "      border-bottom-color: var(--fill-color);\n",
              "      border-left-color: var(--fill-color);\n",
              "    }\n",
              "    20% {\n",
              "      border-color: transparent;\n",
              "      border-left-color: var(--fill-color);\n",
              "      border-top-color: var(--fill-color);\n",
              "    }\n",
              "    30% {\n",
              "      border-color: transparent;\n",
              "      border-left-color: var(--fill-color);\n",
              "      border-top-color: var(--fill-color);\n",
              "      border-right-color: var(--fill-color);\n",
              "    }\n",
              "    40% {\n",
              "      border-color: transparent;\n",
              "      border-right-color: var(--fill-color);\n",
              "      border-top-color: var(--fill-color);\n",
              "    }\n",
              "    60% {\n",
              "      border-color: transparent;\n",
              "      border-right-color: var(--fill-color);\n",
              "    }\n",
              "    80% {\n",
              "      border-color: transparent;\n",
              "      border-right-color: var(--fill-color);\n",
              "      border-bottom-color: var(--fill-color);\n",
              "    }\n",
              "    90% {\n",
              "      border-color: transparent;\n",
              "      border-bottom-color: var(--fill-color);\n",
              "    }\n",
              "  }\n",
              "</style>\n",
              "\n",
              "  <script>\n",
              "    async function quickchart(key) {\n",
              "      const quickchartButtonEl =\n",
              "        document.querySelector('#' + key + ' button');\n",
              "      quickchartButtonEl.disabled = true;  // To prevent multiple clicks.\n",
              "      quickchartButtonEl.classList.add('colab-df-spinner');\n",
              "      try {\n",
              "        const charts = await google.colab.kernel.invokeFunction(\n",
              "            'suggestCharts', [key], {});\n",
              "      } catch (error) {\n",
              "        console.error('Error during call to suggestCharts:', error);\n",
              "      }\n",
              "      quickchartButtonEl.classList.remove('colab-df-spinner');\n",
              "      quickchartButtonEl.classList.add('colab-df-quickchart-complete');\n",
              "    }\n",
              "    (() => {\n",
              "      let quickchartButtonEl =\n",
              "        document.querySelector('#df-266a3ea4-548c-446b-9980-4c23f233bcf5 button');\n",
              "      quickchartButtonEl.style.display =\n",
              "        google.colab.kernel.accessAllowed ? 'block' : 'none';\n",
              "    })();\n",
              "  </script>\n",
              "</div>\n",
              "\n",
              "    </div>\n",
              "  </div>\n"
            ],
            "application/vnd.google.colaboratory.intrinsic+json": {
              "type": "dataframe",
              "variable_name": "df_train",
              "summary": "{\n  \"name\": \"df_train\",\n  \"rows\": 40000,\n  \"fields\": [\n    {\n      \"column\": \"clean_review\",\n      \"properties\": {\n        \"dtype\": \"string\",\n        \"num_unique_values\": 39732,\n        \"samples\": [\n          \"this is a great movie from the lost age of reactionary made for television drama my all time favourite actor robert culp skillfully plots a trajectory through uptight liberal fairmindedness and faith in the system kneejerk conservativism and fear of crime and homicidal psychosis the teens are a collection of pure sneering evil stereotypes and the eventual message of this film makes episodes of dragnet look evenhanded by comparison but what really shines in this is the great pace of the movie building the fear and paranoia by degrees as well as the feel of the whole california setting the cars are really great as well as i recall i give this film a 10 and i defy anyone to watch this film and not enjoy every minute remember just because it s made for television doesn t mean it isn t great art\",\n          \"it came before the ten commandments land of the pharaohs ben hur and it s overlooked today how unfair based on mika waltari s mammoth novel it doesn t cheapen it waltari s novel was so huge only a miniseries could have done it justice i hope it will be done some day waltari whose message is essentially christian remains intact another of his books the secret of the kingdom first part takes place after christ s death in the holy land br br the egyptian is the rising of a monotheism close to christianism long before christ the pharaoh wilding is some kind of messiah who sacrifices his life because he knows that the true kingdom is not in the material world he asks to return good for evil and he has disciples who will eventually turn into martyrs the scene when simmons and the other worshippers of the sun god are slain is visually stunning looking like some pagan ballet for the priests on the other hand this new religion would mean the end of their influence on the populace and that s why they look for a strong man mature who can lead the army against the hittites as well as against their dangerous compatriots another religion or non religion should we say is sinouh s purdom who during two hours believes in nothing the sequence of the grain of sands is absolutely sensational and rises the whole movie well above the average peplum br br there s another fascinating side the movie looks like a flamboyant melodrama not only for the screenplay notably pharoah s sister s tierney final revelation which predates the ten commandments by two years but also the splendor of the cinematography viviani in his book about curtiz talks about a baudelairian atmosphere blue and gold notably in the scenes which involve the prostitute darvi who contemplates her reflection in the water of her bath supreme narcissism around the hero all the characters appear disappear appear again but when they reappear they have followed their way and all the subplots come together with consummate skill besides as such is often the case in modern melodramas the story is a long flashback framed by two short sequences showing sinouh an old man who s remembering br br this is a wonderful sword and sandals that had a strong influence not only in america but also in europa notably in poland where jerzy kawalerowicz directed a spellbinding faraon 1966 which owed a lot to curtiz\",\n          \"what s with the murky video in the beginning and sporadically throughout the movie it s like someone put muddy water on the camera lens br br the violence and nudity might turn some people off but that along with the mostly bad acting is what makes a good cult movie i suppose br br my favorite line is delivered by tarquin the vampire alas your breed is dumb okay no one should ever say alas in a movie line unless they re english and living in the 18th century br br the acting by the van helsing character and bad girl rally isn t bad i also liked master little played by ron little wicked martial arts don t take it too seriously and you ll enjoy it\"\n        ],\n        \"semantic_type\": \"\",\n        \"description\": \"\"\n      }\n    },\n    {\n      \"column\": \"label\",\n      \"properties\": {\n        \"dtype\": \"number\",\n        \"std\": 0,\n        \"min\": 0,\n        \"max\": 1,\n        \"num_unique_values\": 2,\n        \"samples\": [\n          0,\n          1\n        ],\n        \"semantic_type\": \"\",\n        \"description\": \"\"\n      }\n    }\n  ]\n}"
            }
          },
          "metadata": {},
          "execution_count": 22
        }
      ],
      "source": [
        "df_train.head()"
      ]
    },
    {
      "cell_type": "code",
      "execution_count": 23,
      "id": "level-success",
      "metadata": {
        "colab": {
          "base_uri": "https://localhost:8080/"
        },
        "id": "level-success",
        "outputId": "0cf62766-d28c-485e-a5c5-675495db4054"
      },
      "outputs": [
        {
          "output_type": "execute_result",
          "data": {
            "text/plain": [
              "clean_review    0\n",
              "label           0\n",
              "dtype: int64"
            ]
          },
          "metadata": {},
          "execution_count": 23
        }
      ],
      "source": [
        "# check for missing value\n",
        "df_train.isnull().sum()"
      ]
    },
    {
      "cell_type": "code",
      "execution_count": 24,
      "id": "northern-inflation",
      "metadata": {
        "id": "northern-inflation"
      },
      "outputs": [],
      "source": [
        "# drop missing rows\n",
        "# df_train = df_train.dropna()\n",
        "# df_train.isnull().sum()"
      ]
    },
    {
      "cell_type": "code",
      "execution_count": 25,
      "id": "billion-theorem",
      "metadata": {
        "id": "billion-theorem"
      },
      "outputs": [],
      "source": [
        "# convert training dataset into tensorflow dataset format\n",
        "train_dataset = (\n",
        "    tf.data.Dataset.from_tensor_slices(\n",
        "        (\n",
        "            tf.cast(df_train[\"clean_review\"].values, tf.string),\n",
        "            tf.cast(df_train['label'].values, tf.int32)\n",
        "        )\n",
        "    )\n",
        ")"
      ]
    },
    {
      "cell_type": "code",
      "execution_count": 26,
      "id": "operating-orchestra",
      "metadata": {
        "colab": {
          "base_uri": "https://localhost:8080/"
        },
        "id": "operating-orchestra",
        "outputId": "0218c139-4ccc-4e54-f1b0-cbb2b19ae64b"
      },
      "outputs": [
        {
          "output_type": "execute_result",
          "data": {
            "text/plain": [
              "<_TensorSliceDataset element_spec=(TensorSpec(shape=(), dtype=tf.string, name=None), TensorSpec(shape=(), dtype=tf.int32, name=None))>"
            ]
          },
          "metadata": {},
          "execution_count": 26
        }
      ],
      "source": [
        "train_dataset"
      ]
    },
    {
      "cell_type": "code",
      "execution_count": 27,
      "id": "breathing-thriller",
      "metadata": {
        "colab": {
          "base_uri": "https://localhost:8080/"
        },
        "id": "breathing-thriller",
        "outputId": "53e7732f-9c9e-46ab-be29-a05e38f3b853"
      },
      "outputs": [
        {
          "output_type": "stream",
          "name": "stdout",
          "text": [
            "----------------------------------------------------------------------------------------------------\n",
            "example :  b'one of the other reviewers has mentioned that after watching just 1 oz episode you ll be hooked they are right as this is exactly what happened with me br br the first thing that struck me about oz was its brutality and unflinching scenes of violence which set in right from the word go trust me this is not a show for the faint hearted or timid this show pulls no punches with regards to drugs sex or violence its is hardcore in the classic use of the word br br it is called oz as that is the nickname given to the oswald maximum security state penitentary it focuses mainly on emerald city an experimental section of the prison where all the cells have glass fronts and face inwards so privacy is not high on the agenda em city is home to many aryans muslims gangstas latinos christians italians irish and more so scuffles death stares dodgy dealings and shady agreements are never far away br br i would say the main appeal of the show is due to the fact that it goes where other shows wouldn t dare forget pretty pictures painted for mainstream audiences forget charm forget romance oz doesn t mess around the first episode i ever saw struck me as so nasty it was surreal i couldn t say i was ready for it but as i watched more i developed a taste for oz and got accustomed to the high levels of graphic violence not just violence but injustice crooked guards who ll be sold out for a nickel inmates who ll kill on order and get away with it well mannered middle class inmates being turned into prison bitches due to their lack of street skills or prison experience watching oz you may become comfortable with what is uncomfortable viewing thats if you can get in touch with your darker side'\n",
            "\n",
            "label:  1\n",
            "----------------------------------------------------------------------------------------------------\n",
            "example :  b'a wonderful little production br br the filming technique is very unassuming very old time bbc fashion and gives a comforting and sometimes discomforting sense of realism to the entire piece br br the actors are extremely well chosen michael sheen not only has got all the polari but he has all the voices down pat too you can truly see the seamless editing guided by the references to williams diary entries not only is it well worth the watching but it is a terrificly written and performed piece a masterful production about one of the great master s of comedy and his life br br the realism really comes home with the little things the fantasy of the guard which rather than use the traditional dream techniques remains solid then disappears it plays on our knowledge and our senses particularly with the scenes concerning orton and halliwell and the sets particularly of their flat with halliwell s murals decorating every surface are terribly well done'\n",
            "\n",
            "label:  1\n",
            "----------------------------------------------------------------------------------------------------\n",
            "example :  b'i thought this was a wonderful way to spend time on a too hot summer weekend sitting in the air conditioned theater and watching a light hearted comedy the plot is simplistic but the dialogue is witty and the characters are likable even the well bread suspected serial killer while some may be disappointed when they realize this is not match point 2 risk addiction i thought it was proof that woody allen is still fully in control of the style many of us have grown to love br br this was the most i d laughed at one of woody s comedies in years dare i say a decade while i ve never been impressed with scarlet johanson in this she managed to tone down her sexy image and jumped right into a average but spirited young woman br br this may not be the crown jewel of his career but it was wittier than devil wears prada and more interesting than superman a great comedy to go see with friends'\n",
            "\n",
            "label:  1\n",
            "----------------------------------------------------------------------------------------------------\n",
            "example :  b'basically there s a family where a little boy jake thinks there s a zombie in his closet his parents are fighting all the time br br this movie is slower than a soap opera and suddenly jake decides to become rambo and kill the zombie br br ok first of all when you re going to make a film you must decide if its a thriller or a drama as a drama the movie is watchable parents are divorcing arguing like in real life and then we have jake with his closet which totally ruins all the film i expected to see a boogeyman similar movie and instead i watched a drama with some meaningless thriller spots br br 3 out of 10 just for the well playing parents descent dialogs as for the shots with jake just ignore them'\n",
            "\n",
            "label:  0\n",
            "----------------------------------------------------------------------------------------------------\n",
            "example :  b'petter mattei s love in the time of money is a visually stunning film to watch mr mattei offers us a vivid portrait about human relations this is a movie that seems to be telling us what money power and success do to people in the different situations we encounter br br this being a variation on the arthur schnitzler s play about the same theme the director transfers the action to the present time new york where all these different characters meet and connect each one is connected in one way or another to the next person but no one seems to know the previous point of contact stylishly the film has a sophisticated luxurious look we are taken to see how these people live and the world they live in their own habitat br br the only thing one gets out of all these souls in the picture is the different stages of loneliness each one inhabits a big city is not exactly the best place in which human relations find sincere fulfillment as one discerns is the case with most of the people we encounter br br the acting is good under mr mattei s direction steve buscemi rosario dawson carol kane michael imperioli adrian grenier and the rest of the talented cast make these characters come alive br br we wish mr mattei good luck and await anxiously for his next work'\n",
            "\n",
            "label:  1\n"
          ]
        }
      ],
      "source": [
        "# print first five record from train dataset\n",
        "for example, label in train_dataset.take(5):\n",
        "    print(\"--\"*50)\n",
        "    print(\"example : \", example.numpy())\n",
        "    print()\n",
        "    print(\"label: \", label.numpy())"
      ]
    },
    {
      "cell_type": "code",
      "execution_count": 28,
      "id": "abroad-broadcasting",
      "metadata": {
        "id": "abroad-broadcasting"
      },
      "outputs": [],
      "source": [
        "BUFFER_SIZE = 10000\n",
        "BATCH_SIZE = 64"
      ]
    },
    {
      "cell_type": "code",
      "execution_count": 29,
      "id": "according-official",
      "metadata": {
        "id": "according-official"
      },
      "outputs": [],
      "source": [
        "# create batches of the dataset\n",
        "\n",
        "train_dataset = train_dataset.shuffle(BUFFER_SIZE).batch(BATCH_SIZE).prefetch(tf.data.AUTOTUNE)\n",
        "\n",
        "# now every batch will have 64 samples"
      ]
    },
    {
      "cell_type": "code",
      "execution_count": 30,
      "id": "intelligent-overview",
      "metadata": {
        "id": "intelligent-overview",
        "outputId": "69e7b925-cc6e-4e23-c0c3-1482721526cc",
        "colab": {
          "base_uri": "https://localhost:8080/"
        }
      },
      "outputs": [
        {
          "output_type": "stream",
          "name": "stdout",
          "text": [
            "example :  [b'one of my favorite movies i like horses i like happy endings and i like walter matthau i miss him and am glad to have a great film like this to remind me why he was so wonderful watch it with your kids or your horse br br the story of an old hard boot horse trainer with kids and down on his luck if you have ever had or appreciated horse racing you will appreciate the rags to riches storyline it may be a little below seabiscuit but not a lot the story is the same one except it is the quarter horse version well acted correct racing terms and equipment and nice racing scenes don t take my word for it get it and make up your own mind'\n",
            " b'i remember seeing this film in the mid 80 s thought it a well paced and well acted piece i now work quite often in berkeley square and the had to get a copy of dvd to remind myself how little the area has changed although my office is newish it just 30 seconds away from the bank even jack barclays car dealership is still there selling bentleys and rolls royces br br it s look like the dvd is due a region 2 release soon the region 1 copy i is very poor quality let s hope they ve cleaned it up br br only the slightly dodgy escape sequence from the court spoils what would otherwise be a great film but i guess is in line with the caper tag the film goes with'\n",
            " b'i saw this movie with a friend who ran a marathon with me and we both had the same feeling about it it wasn t terribly motivating and didn t even broach the idea of what a training schedule would look like so that non marathoners could have an idea of what it would take for them to train and run one in fact there was almost zero technical information at all i didn t expect this to be a tech heavy instructional video but when that info was near zero then the film just wasn t balanced and wasn t particularly useful to non marathoners contemplating their first run br br there were other problems some of the very first images were people collapsing near death while trying to run a race yeah real inspiring the timing was also hard to follow because it was semi chronological but the filmmakers rarely gave you any good clues as to what point in time you were looking at and they withheld information you see that kantor has an injury and you just assume it s from all her training but then several scenes later they finally clue you in that it s because she tripped over a pine cone in her yard br br some parts were very good though like the bit about a woman defying race officials who wanted the run to be men only and the coverage of a chicago race where two of the runners portrayed earlier were vying for first place br br off the top of my head i m thinking of other chronological documentaries like supersize me and grass where you always know where you are and you feel like they told you everything you wanted to know br br in short it wouldn t have been hard to make a better marathon film and as it stands i can t recommend this to non marathoners to educate and motivate them to try one because i don t think it will have that effect'\n",
            " b'leslie sands stilted play deadlock becomes a poor choice vehicle for bette davis and gary merrill just after their joint success in all about eve after killing her spouse a scheming woman is visited by her husband s best friend who passes himself off as her husband once others begin stopping by the house irving rapper one of bette s best directors from her peak years is sadly unable to elevate this ridiculous material in which davis is curiously aloof and restrained until the outrageous finale where she thankfully pulls out all the stops production and supporting cast strictly second rate only for bette davis completists 1 2 from'\n",
            " b'well what are the odds at the exact right moment that a few redneck amateur scientists discover cave paintings indicating that some type of dinosaur monster might have inhabited the area thousands of years ago a burning meteor crashes into the lake and spontaneously hatches a monster s egg that has been lying there for over a thousand years i suppose the crater lake monster is a movie that literally must be seen to be believed but you better do so in the company of many friends and a pile of ganja in order to make the wholesome a little bit easier to digest yes this is a terrible film with the utmost ramshackle screenplay imaginable and numerous irrelevant padding interludes that are downright embarrassing but it s also irresistibly charming and so clumsily put together that you simply have to cherish some kind of fondness for it half of the film at least revolves on the wacky adventures of arnie and mitch these two local yokels own and run a boat renting shop near the lake but spend most of their days picking their noses and quarreling over fascinating stuff like to spell the word bait it is mostly during their prototypic laurel hardy situations that new puddles of blood or decapitated heads are discovered in the lake steve hanson the heroic but not exactly sharp sheriff is on the case but only if he s not too busy chasing big city thugs traveling through the area halfway through the film there suddenly is an abrupt scene about a thug robbing a liquor store and killing two people in the process this textbook wtf moment appears to take on the complete other side of the country like in new york city or something and has absolutely nothing to do with the events going on at crater lake only like twenty minutes later the robber pops up again in hicksville and there s an exhilarating chase through the woods ending in the dino s hungry muzzle the absurd little details in the crater lake monster are too numerous to mention for example this is probably the only creature feature in which the players discover the obligatory gigantic footprint after they already spotted the actual monster the goofs in continuity should be legendary as far as i m concerned it s like everybody forgot to pay attention to it night turns into twilight into day and back into twilight all during one and the same diurnal course the monster is undeniably the best aspect about the film especially since it s accomplished through good old fashioned and adorable stop motion effects the cute critter is a plesiosaur meaning an aquatic dinosaur looking like a crossbreed between denver the last dinosaur and an alligator crater lake monster is a unique and unforgettable movie experience that i can only encourage to track down the miserable 1 out of 10 rating is just out of principle and because basically this is a very bad film should be put into perspective because i might as well could have given it 10 out of 10 for sheer entertainment value'\n",
            " b'that s right we ve got a 2008 film using themes of brief encounter and the bridges of madison county it s basically the story of lost loves redemption and a triumph of the human spirit br br the performances by richard gere and especially diane lane are very good gere gives the kind of restrained performance here as a doctor who is searching for meaning after a patient dies on the operating table lane is the mother of a rebellious daughter and a nice young son who has split from her wandering husband and has also sustained the loss of her father in the same year br br scott glenn steals the show in a one scene meeting with gere he is the heartbroken husband and he recounts his love to his departed wife it will bring tears to your eyes br br fresh from her triumph as an acquiescing mother in doubt viola davis appears as an understanding friend in the film and literally hangs her hair down in a rather benign performance'\n",
            " b'nothing about this movie stands out as either being great or terrible br br in the end that is what kills it the blandness is just not good i can t say i expected better from will smith but i definitely did from kevin james of the king of queens but hey i m getting used to saying that a lot lately this film attempts to make its mark as a witty romantic comedy but it never hits the bull s eye in fact it never hits anywhere within the target the allergy scene is disturbing the fact that kevin james can t dance is something that wouldn t exactly catch anybody off guard and is therefore in a movie like this not funny this movie constantly tries to win your heart but always with the wrong ploy at the wrong time some parts are okay but i m searching my brain for examples but i really think this movie should be avoided'\n",
            " b'working girl kitty sothern is engaged to bill kelly who neglects her by working long hours at his garage in order to save money for their marriage after being stood up on her birthday kitty goes on a double date blind date where she meets department store heir bob hartwell hamilton she falls in love but leaves him when his protestations of love appear to cover a desire for her to be his mistress rather than his wife faithful bill rallies round to comfort her and at last she gives in to his repeated requests to reinstate their engagement pressured in part by bill s support of her family after she loses her job when bob returns however convinced that he wants marriage after all will kitty follow her heart or her conscience br br this film was a lot better than i d expected it to be the character of bill at first comes off as the sort of loud comic irishman type that jack carson played so often but kelly and the script infuse the character with real compassion and love and bill turns out to be the best person in the entire group viewers may find themselves rooting for him against the feckless hartwell the tone of the film wavers however between light hearted romance and a much darker side especially in the depiction of a dance marathon and a rather horrific accident at bill s garage br br the cast is rounded out by the dependable jane darwell as kitty s mother an impish but not yet thoroughly obnoxious mickey rooney as kitty s younger brother and spencer charters as kitty s ne er do well father'\n",
            " b'i totally hated the movie it was so retarded they need to get some acting lessons no wait that won t help because the naked brothers band people a retards you know why i am here even though i am a naked brothers band hater to warn people before they watch the dumb movie so that the nbb doesn t get any money from it so then they can t make any more amateur stupid songs that are so retarded that any old guy could go and write it in 10 seconds not only are the song lyrics retarded they sing badly okay i m kinda getting off the movie here anyways it was boring and they acted horribly it was not funny at all even though they tried really hard for it to be i guess they deserve some credit for that well the movie isn t worth your time just look at its rating the movie and the series is very painful to watch for anyone who has even half a brain seriously if you liked it you need to go watch movies where the actors actually act not babbling their lines in a monotone i am on the drama club at my school and some people there are actually better than those nat and alex guys hurry before it s too late i seriously thought that herbie fully loaded was better than this piece of poopie i don t even know why i went through even half of that film i don t think it even deserves to be called a film'\n",
            " b'waste of 1h45 this nasty little film is one to avoid its like a cheap badly plotted cross between saw and a few other recent films about kidnap why the writer wrote this is obvious he has no soul and did it to try and me some money the twists were obvious when those in peril could escape they did the obvious and didn t etc only good thing about it is i ve discovered 1 new actress worth watching peyton list don t watch shuttle though there are too many better nicer films to watch rather than this that will make you miserable and think less of the world spend your time more wisely watch good films do some exercise cook a nice meal anything but waste your time on rubbish like this'\n",
            " b'the palestinian situation is fertile and as yet largely fallow soil for film making divine intervention tries hard and gives us an insightful peek into the almost surreal life of those caught up in the troubles but the film amounts to little more than a handful of admittedly lovely visual jokes thrown onto celluloid while the links between them become increasingly obscure as the film progresses a missed opportunity to say something more coherent about a very topical issue'\n",
            " b'this was by far the worst movie i ve ever seen and thats compared to alexander fortress 2 and the new world br br i should go back to blockbuster and ask for my money back along with compensation as it was a truly traumatic experience for the first ten minutes i was changing the zoom on my widescreen tv because the actors seemed to be out of screen i didn t think it was possible to make such a bad film in this day and age i was wrong while typing this message i ve thought of a good reason to buy this movie a joke present at xmas i m blaming the mrs for this one as she picked it thanks babe br br be warned a true shocker all round'\n",
            " b'an opium den a dirty little boy actually a midget prostitutes galore a violent fracas in a dive a motel for sexual shenanigans scantily clad babes with cleavage a lot a boozer falling down the stairs a racially mixed client le in a bar with asians africans and anglos treated equally does this sound like a film playing at the local shopping mall wrong these are all scenes from a 1933 musical br br the first half of footlight parade is preparation for a musical extravaganza which occupies the last half of the film chester kent cagney is about to lose his job and does lose his playgirl wife as a result of talking pictures squeezing out live stage musicals his producers take him to see a popular talky of the day john wayne in the big trail before each showing of the flick a dance number is presented as a prologue shorts news reels serials and cartoons would later serve the purpose kent gets the idea that a prologue chain would be the road to salvation for the dwindling live musical business kent is basically an idea man along the lines of choreographer busby berkeley could it be that cagney s character is patterned after berkeley could be br br in preparation for the prologues kent learns that his ideas are being stolen by a rival he uncovers the traitor fires him then unbeknown to him a new leak is planted in the form a dazzling temptress his assistant nan prescott joan blondell soon to be mrs dick powell has the hots for kent and is determined to expose the wiles of the temptress a new singer from arkansas college shows up in the form of scotty blain dick powell who turns out to be a real find and is paired with bea thorn ruby keeler the resulting three prologue musicals which couldn t possibly have been presented on any cinema stage of the day are as fresh and enjoyable today as they were over seventy years ago honeymoon hotel by a waterfall and shanghai lil br br of special note is the song and dance of tough guy james cagney like fred astaire and bill bojangles robinson cagney s dancing appeared natural and unrehearsed although hours went into practice to get each step just right not as good a singer as astaire cagney s singing like astaire s sounded natural unlike the crooning so popular at the time it s amazing that one person could be so talented and so versatile as james cagney br br most critics prefer the shanghai lil segment over the other two yet the kaleidoscopic choreography of by a waterfall is astonishing how berkeley was able to film the underwater ballets and to create the human snake chain must have been difficult because it has never been repeated the close up shots mixed brilliantly with distant angles is a must see the crisp black and white photography is much more artistic than it would have been if shot in color br br though not nearly as socially conscious as gold diggers of 1933 footlight parade stands on its own as one of the most amazing and outrageous musicals ever put on the big screen'\n",
            " b'this is a great film touching and strong the direction is without question breathless good work to the team i feel so sorry for marlene by the grace of god go you or i'\n",
            " b'great screenplay and some of the best actors the world has ever produced montand gives the concept of the lone wolf police detective a whole new dimension of intensity and most importantly credibility br br when a typical hollywood cop heroe loses family friends and pets to murder he is usually given his minute of grief but when the sixty seconds are over he pulls himself together packs his gun and goes gleefully shooting up his enemies one by one br br montand s marc ferrot however is really devastated by his girlfriends murder of course but also by finding out that she had another lover in his confusion and wrath he does not seek revenge but needs to keep going to find the real perpetrator of a crime where his fingerprints are all over the scene thus all his actions become unescapably logical this is the main reason why this movie glues us to our seats but definetely not the only one'\n",
            " b'along the history of cinema there s been a few films that deceived the viewer such as hitchcock s stage fright alejandro amen bar s abre los ojos david fincher s the game and this one ausentes absent to begin with i don t like this kind of films i feel like somebody is trying to pull my leg br br furthermore after seeing this film one doesn t know what happened is such a confusing film kubrick s the shining may be a better or a worse movie but definitely is more honest than this load of pretentious and dubious situations br br technically is fine nice photography fair performance and so on but the script is so poor i wonder what did the producers see to carry on and shoot this crap br br and this film remarks the 3 guys that wrote the script calparsoro loriga and quiroga are lost in cinema trying to make a masterpiece or trying to do something to fulfill their stomachs awaiting for more personal projects'\n",
            " b'before i saw this movie i believed there were two kinds of bad cinema 1 your average completely uninspired fare i e constantine and 2 the work that is charmingly bad or so bad it s good a la manos the hands of fate now that i ve seen dr gore i know there is a third kind of bad movie the utter crap sandwich that will be irrevocably tattooed on your memory a work that is mind bendingly execrable anathema br br i have hated certain films before but i ve never hated a film so much that my loathing reached its thresh hold and became self loathing have you seen a movie that not only makes you regret losing the hour you spent watching it but makes you grieve for another hour after that mystery science theatre disciples beware this is soul sucking cinema go rent circle of iron or the killer shrews instead'\n",
            " b'to put it simply the fan was a disappointment it felt like as if i was watching taxi driver except taxi driver was much better than this it seemed like the filmmakers wanted us to root for robert deniro s character 100 percent this approach didn t work'\n",
            " b'a vow to cherish is a wonderful movie it s based on a novel of the same title which was equally good though different from the film really made you think about how you d respond if you were in the shoes of the characters recommended for anyone who has ever loved a parent spouse or family member in other words everyone br br though the production isn t quite hollywood quality no big special effects still the values and ideals portrayed more than make up for it and the cast did a wonderful job of capturing the emotional connections between family members and the devastation that occurs when one of them becomes ill br br you don t want to miss this'\n",
            " b'this is the best film the derek couple has ever made and if you think this is a recommendation then you haven t seen any of the others there are the usual ingredients it is just as poorly acted as their other efforts we can watch bo disrobing or auditioning for wet t shirt contests quite frequently the story is just laughably idiotic and the film takes itself much too seriously and then orang utans in africa br br but it has a few things going for it bo looks great the production values sets costumes etc are quite good and this greatly enhances its camp value in a strange way it is actually quite funny simply because it tries to be serious and fails so badly'\n",
            " b'i ve been a fan of heaven s gate since its first release i ve seen it at least half a dozen times and have long thought of it as a masterpiece so it was with excitement and a sense of anticipation that i took myself off to see the restored director s cut br br to my surprise i was disappointed on seeing it again and have since revised my estimation of the film heaven s gate touches upon greatness in parts but overall lacks the thematic and narrative consistency and the passionate urgency characteristic of a truly great film br br firstly two technical problems the sound quality is diffuse throughout the film verging on inaudibility at times some of this perhaps is intentional a way to mimic the chaos and confusion of history as it is unfolding but at key points one is unable to register what it is the characters are saying br br the cinematography is similarly diffuse the images lack sharpness and particularity of detail the result is a certain graininess and lack of pictorial sharpness which succeeds in blurring foreground and background br br structurally the narrative is off key throughout as if cimino can t quite make up his mind as to the effect he is after he wanted an epic for sure but a pastoral or dramatic epic the film sits uneasily and unconvincingly between styles and perhaps even genres at times it reminded me of terrence malick s days of heaven or even elvira madigan in its languid pace and elegant scene painting at other times it threatens to turn into a robust western more akin to the wild bunch in fact the latter film offers an instructive reference point for an assessment of heaven s gate as it shares the same period concern and employs a similar tone of ambivalent nostalgia for a darker yet more heroic america br br this structural and thematic uncertainty isn t helped by the poor quality script which often sounds forced and jarring to the ear the result is an inauthentic sense of period speech br br the near greatness of heaven s gate resides in its set pieces the roller skating sequence in particular is astoundingly beautiful one of the most evocative scenes ever put to film br br another set piece which works very well in terms of unifying theme mood and setting occurs when kristofferson and huppert go riding in the new rig to the lake and she washes herself while he naps in the shade the languid pacing evocative music and monumental scenery combine in this scene to convincingly portray the love story which might just lie at the heart of the film and which could have been its saving grace if pursued more convincingly br br some critics have complained about the length of the film this in itself doesn t bother me a good film can t be long enough the restored minutes are critical in restoring the motivation and characterization absent from the cut version and they are full of pictorial interest br br perhaps the chief glory of heaven s gate lies in the achingly evocative soundtrack the repeated waltz motif and its different scorings throughout full band guitar solo fiddle etc lends a haunting quality to the foreground action and establishes a thematic consistency lacking in the narrative itself br br despite its obvious flaws most notably the absence of a compelling narrative there is a sense of grandeur about the film one leaves the cinema with a rueful sense of missed greatness and a wish that cimino could revisit the film with the wisdom of time and hindsight to put right what is so badly amiss'\n",
            " b'i went to the movies to see beat street it wasn t bad it was kinda neat krush groove was a flick that i didn t mind but when it came to rappin i drew the line word to your mother br br want me to stop br br that s just a small sample of the stupa fly style of rhymin on display in this waste of film and location permits this movie is seriously wack thats 80s speak for just f cking awful as an emcee mario van peebles is one hell of an actor and as an actor mario van peebles is one hell of a bodybuilder br br any film calling itself rappin had better deliver at that genre s highest standard of the time so why were 6 year olds rolling in the aisles even back in the day when standards were so knee high to webster low because this rap is weak so weak that not even b e t or comedy central will touch it with a 10 foot gold rope chain br br blondie s rapture is def poetry next to this bit of dr suess in the hood so don t be a boobie avoid this movie br br'\n",
            " b'give director stanley tong of jackie chan s super cop and rumble in the bronx and what do you get you receive a series of kung fu fights and a lack of magoo like madness br br the limited plot has magoo leslie nielsen put into an international plot where he steals a world renowned gem of course he has no idea what he is doing in fact he has no idea that he had the gem br br within thirty minutes you could get very bored watching this there are some very funny moments though like when he is cooking the chicken you will wish that you were as nearsighted as magoo its a fun movie to watch but its quite a disaster you have to love leslie nielson because he was made some very funny movies this isn t his best but he does a good job playing magoo i thought it was a funny film and it should be recommended to young children because they will probably think that its very funny'\n",
            " b'young and attractive japanese people are getting on the wrong side of some curse again this time it involves mobile phones various people die until the disgruntled spirit behind it all is unearthed so essentially if you ve seen more than 2 recent japanese horror films you can plot this film in the dark with your hands tied br br the main attraction here is the fact that takashi miike is behind the camera so far i ve been more impressed with his low key works like city of lost souls however as one missed call plodded along i was yearning for his more renowned envelope pushing of dead or alive or the overly pseudo cronenberg style of audition despite a lot of his films being essentially empty at least they do have merits such as these or at least something to keep your attention like tadanobu asano prancing about in shiny suits impersonating johnny depp there s none of that in one missed call there s just very little of credit the acting is bland and average there is very little nothing in all honesty in the way of scares or suspense and in places it s just downright boring br br however there are moments where miike s glacier like sense of humour seeps through the bland commercialism most notably with the instance of the tv show intent on filming the demise of one of the cursed subjects and the tv programmer more concerned about his ratings than the girls life but aside from this there is nothing to suggest it is miike behind the camera most notably his usual visual flair has vanished without a trace and that includes his famous gore although it s more likely he just didn t have any enthusiasm for the project and i can understand why one missed call isn t offensively bad it s just frustratingly average br br miike obviously loves directing with his huge yearly output it s obvious he isn t going to be 100 concerned about all his projects but even with this in mind one missed call felt like he was just paying the bills'\n",
            " b'it s hard to top this movie in several ways everything works really well here the casting acting script and cinematography are all first rate for the moviegoer it s a moving violent story of love and human redemption for the film critic there s plenty of sharp technique and technical merit there are some tactical blunders and as has been discussed on the boards the ending lacks realism if one is rigorously formal with the cia agent training angle however i took the ending as being more moving due to the fact that rather than pursue the cia agent s pragmatic approach creasy basically commends his soul to the ultimate without considering the consequences like jesus himself creasy becomes superhuman through his sacrifice whether it actually makes pragmatic sense or not in any case i appreciated the fact that creasy dispenses with conventional bourgeois morality and just caps the bad guys one by one in his methodical quest for justice which actually results in redemption both for himself and the innocent br br in any case this film is very much worth watching if you re at all attracted to the genre an excellent soundtrack great writing flawless casting and solid performances across the board make this a top 100 or better film'\n",
            " b'it s somewhat telling that most of the great reviews for the film on imdb all come from people who have only reviewed one film in their entire imdb career and yes you ve guessed it that film is parasomnia i ve often suspected suspiciously good reviews on imdb for what turns out to be an anything but good films as underhand marketing but it seems fairly transparent in this case br br that s not to say parasomnia is terrible but it stops well short of being the good or great film it had the potential to be br br on the plus side it has a great baddie in patrick kilpatrick who does a brilliant job projecting menacing and evil i could easily see him having what it takes to play a truly memorable baddie on a par with hannibal lecter there are some beautiful visuals in the dream sequences in fact if the film had decided to explore that terrain more it might have been something better the actual concept of devious misuse of hypnosis is great too br br although i understand suspension of disbelief is necessary for immersion in any good story it s the mark of a good story that it succeeds in letting you do that if you find yourself being annoyed at what you find illogical or just plain silly then the story is losing you and that s what kept happening to me with this film other reviewers have mentioned this here and i don t want to get into spoiler territory but i will say the setup at the ending was particularly ludicrous and disappointing not too mention the varying mental age of a character that is only supposed to have experienced a few years of life br br all in all there is the germ of a great idea here in diabolically misused hypnotism but sadly this film fails to realise it into anything special'\n",
            " b'this film could have been a decent re make and gosh knows it tried or ms english tried assembling talented actors together with a successful experienced writer director should be a formula for a decent film but ms english s experience according to her imdb bio is exclusively limited to television work and it is glaringly obvious throughout this film br br i am surprised that none of the reviews i have read mention what i found most unlikeable about this film and what kept it from reaching even a portion of its potential it looked and felt like it was made for television to give some credit to ms english many of the jokes that simply did not work on a movie screen would have been terrific on tv and maybe a laugh track would have helped so much of the camera usage and the lighting would have played out fine on tv but looked awkward or odd on a big screen if the whole film had been chopped up into a mini series or a sit com i think it could have worked but this is cinema and sadly ms english s talents didn t translate i cringed at so many different points in my embarrassment for the actors the writers that i felt like i came out of the theater half shriveled meg ryan is her usual perky cute self except for the awful plastic surgery she has had on her face but where did she have a chance to use her talent she has made films where she doesn t recreate her stereo typed role and done them well but not here annette bening seemed to simply go through the motions such a great talent and yet such a poor performance i enjoyed the other women characters but they were more caricature than substance and it was sad to see what worked in this film in the 1930s doesn t translate to the 2000s and no one helped ms english get the changes updates or subtleties right if only she as writer director and producer had reached out for some assistance i think it could have been good but it was not br br it s so frustrating to go to a movie that has good stars and a good writer or director and come away feeling it was a waste of everyone s time money this new yorker cartoon i saw yesterday is appropriate a few movie execs are having a meeting the caption reads let s remake a classic with worse everything'\n",
            " b'sometimes they get lucky and have a hit on their hands wayne s world the first one not the second but most often they have duds it s pat comes to mind rather quickly this time out it s tim meadows as the ladies man this movie falls somewhere in between a hit and a dud it was very funny for the first 20 minutes but then as usually happens with snl skits it starts to slow down before finally ending long after it should have br br tim meadows is leon phelps a radio dj with a nightly show called the ladies man he answers any and all questions dealing with sex and relationships usually in the crudest way possible everything seems to ultimately come down to the butt after pushing the buttons of the station manager leon along with his producer julie karyn parsons gets fired and needs to find another job out of the random blue comes a letter from one of his ex ladies the letter offers him wealth and luxury for the rest of his life the only problem being that the letter isn t signed so leon needs to track down all the women he s been with to find the woman of his dreams but sometimes as billy dee williams says in the film the woman of your dreams is standing right in front of you there is also a sub plot about a bunch of guys who s wives girlfriends have all slept with leon and they want to first figure out who he is by a tattoo he has on a part of his anatomy then kill him leading this bunch of guys is surprise will ferrell from snl first off i thought the sub plot was rather lame the singing and dancing stuff was just completely worthless i usually like will ferrell but here he just never clicked for me and the rest of the guys were just schlubs who tagged along and in the end all decided that having their wives girlfriends cheat on them was in fact their fault so back to the main story the story basically centers around leon and sex so what it comes down to is if you don t like the character of leon you won t like the movie his voice his mannerisms his dialogue is what carries the movie i am not a big fan of tim meadows i never thought he was a particularly good actor on snl the only thing i ever really liked of his was his ladies man skits but the best thing about those is that they usually involved the guest host remember the one with cameron diaz and they were short for about 5 minutes they were pretty funny and here for about 20 minutes it s really funny what i thought was good about the character in the movie is that he stayed in character throughout he never wavered from his wanted to just get laid persona until right at the end where there was this transformation and the ever present speech to tie things up other than that it was pretty good at keeping leon as leon and not changing him into something less crude than he was there isn t a lot of substance to this movie if you couldn t guess but like i said earlier the beginning of the movie i found to be very funny some real laugh out loud moments all revolving around sex and his crudeness the problem of course with this movie and most other snl spin offs is that these are characters that are only supposed to be shown for a few minutes at a time stretching the concept into 80 minutes is very difficult that difficulty is obviously why they needed the sub plot because without it this movie would have been a little under an hour when it was good it was good but when it wasn t good it got to be boring br br so overall the ladies man wasn t as bad as other snl films but it wasn t as good as others it had some funny moments the first 20 minutes was pretty good but the rest of it dragged on there was an unnecessary sub plot whose only purpose was to lengthen the film the bottom line is if you like tim meadows and his leon phelps character you ll be able to watch the film if he annoys you don t even bother going unless you just want to see tiffani theissen in some nice revealing clothing br br'\n",
            " b'people criticize nsna because it is a low point in bond god sean connery s career and because it is unofficial may contain spoilers first of all this movie is better then any other bond film featuring any other actor then connery all sub par wannabes in my book sean connery is the only real bond no one comes even close to his toughness good looks and sex appeal yes this movie is a low point in connery s bond career but it is still the definet best bond film of the 80 s sean connery is the only bond actor who is good at an older age he did not become a baggy mess like moore but kept his good looks and toughness but gaining some gray hair so what hes still the only real 007 and he is as cool and tough as ever sean connery is the one and only 007 and this movie is definitly worth seeing no matter what anyone says no gun barrel opening but you can t have everything can you great theme song though'\n",
            " b'i saw his film at the ann arbor film festival i am a film student at the univeristy of michigan so i know a thing or two about film and crispin glover s film is outrageous he basically exploits the mentally challenged not only is shirly temple the anti christ which i admit is a little funny telling the mentally challenged to kill each other but there is an obsession with killing snails crispin also plays with the idea of being in love with one of his actors who is as they all are mentally challenged peta and human rights should be all over this thing it s not counter culture as crispin stated at the ann arbor film festival it s exploitation'\n",
            " b'fellowe s drama about a couple s marriage which is threatened by a younger third party which interests the wife of the house watson wilkinson plays the role very well as the troubled husband who cant control his wife s cheating and deals with the issue i also like rupert everett a lot in his role as william bule the man that watson has the affair with although i think emily watson is a great actress i had a bit of a problem with the way her character was written did not make her too likable i know a cheater is not supposed to be likable but some of her actions and things she did had no reasoning behind them the screenplay was perhaps the weak part of this drama although fellowes direction was good and the performances were also quite good this film is better than unfaithful but not a masterpiece by any means imdb rating 6 7 my rating 8 10'\n",
            " b'i only heard about driving lessons through the itv adverts and to be honest i didn t know how much i would like it i switched on the tv last night and was totally surprised driving lessons is a modest simple film which draws you in right from the start rupert grint plays the part of socially awkward teenager ben brilliantly he s definitely one to look out for in the future dame eve walton is played by the fabulous julie walters i loved the simple plot and the way the actors portrayed their characters with great sensitivity the highlight of the film for me was evie s rather colourful poem it shows how friendships can form between the most unlikely pairs in my opinion watching driving lessons is a great way to spend 2 hours the scenery was also striking especially the countryside anyone who can call this sparkling comedy forgettable i strongly disagree with'\n",
            " b'one hour eight minutes and twelve seconds into this flick and i decided it was pretty lame that was right after hopalong chris lybbert drops on his horse from a tree to rejoin the good guy posse i was pretty mystified by the whole hopalong cassidy great bar 20 gimmick which didn t translate into anything at all obviously the name coppola in the credits couldn t do anything to guarantee success here even with more than one listed br br if you make it to the end of the film you ll probably wind up asking yourself the same questions i did what exactly was the hook with the gloves what s up with the rodeo scenario who was the stranger supposed to represent why did they make this film br br i could probably go on but my energy s been drained look there s already a western called the gunfighter from 1950 with a guy named gregory peck as the title character watching it will make you feel as good as watching this one makes you feel bad that one i can recommend'\n",
            " b'this movie was as homer simpson would have put it more boring than church maybe i don t understand it well enough and i thought it started out pretty well but after start of spoiler hermann braun is sent to jail and maria starts working sleeping with her boss it just started to drag and i struggled to keep awake again maybe it symbolizes something but the explosion at the end seemed very forced and out of place end of spoiler in the end i fail to see why others think it s so great as i found it extremely boring by the way i did not watch this movie by my own free will as i was required to see it for a film class'\n",
            " b'wonderful film that mixes documentary and fiction in a way that makes the spectator question what is the extent of truth in documentary films or is there such a thing as an objective documentary'\n",
            " b'there can be no questions of spoilers for this movie the director beat us all too and spoiled this movie in oh so many ways br br a blatant rip off of stuff like critters and gremlins this movie fails on so many levels to recapture the humour and horror of those better made films it ends up a sleazy waste of time where bad actors deliver bad dialogue in front of an idiot director who occasionally tosses stuffed toys at them they wrestle with said toys in much the same manner as old tarzan films used to use rubber crocodiles shaking them whilst screaming and trying their best to make it look slightly threatening it s painful to watch and not helped by the mental 80 s fashions worn by the cast br br basically some crazy little aliens who have been trapped by an aging security guard in a film lot finally get free after umpteen years confinement and begin to telepathically screw around with peoples minds the guards new recruit the idiot who let them out despite repeated warnings gets his gang of 80 s friends together and they go off and have minor adventures together while trying to recapture the grem hobgoblins br br all life is here with the gang consisting of a knucklehead jock his 80 s slut girlfriend the hero s frigid and prissy girlfriend and the young hero lacking in confidence and wishing his girlfriend would put out anyway br br first off comes the infamous rake fighting scene where the ex military jock shows how he was trained in the army to be a bully poking the nerdy hero with the wrong end of a rake for what seems like hours then there s some running around terminating in a real pie fight style ending in a scuzzy nightclub with comedy hand grenades blowing up everything except the people standing right next to them then the film sorta ends and alls well that ends well br br it s not this is like watching a train wreck you cant take your eyes off it it s so bad perfect fare for mystery science theater but god awful should you try to watch it alone and uncut the fashion police still have a number of outstanding warrants for the cast and i dare anyone not to laugh in outright derision at the rake fight this scores 2 out of 10 at most on a good day'\n",
            " b'had i checked imdb before renting this dvd from netflix i d have a couple of hours of my life back i m frankly suspicious when i see that a film s director also wrote it in this case according to the credits the same guy was writter and director unfortunately an indication of the overall quality of this production there were a few interesting moments e g judy tenuta s scene reminded of her early comedy routines touting judy ism which led me to rate this two stars rather than one those moments however were few and far between and i almost did not get to see them because the opening sequence was nearly incomprehensible to me not to mention reprehensible in its violence i admit i went back to watch that part again to see if i had missed something that would help me figure it out once i d seen the whole thing nope though i at least recognized who the characters were who would turn out to be important later the spinning camera technique was overused and essentially pointless i found myself talking to the tv screen what or for goodness sake get on with it not recommended'\n",
            " b'this all but ignored masterpiece is about the monkees becoming aware that they are fictional characters in a movie head and that everything they do or say had already been written in an unseen script they seem to be following head was written by jack nicholson rafelson and peter tork during a three day lsd trip in a suite at an expensive hollywood hotel the other three monkees only acted in it br br they fight this every way they can by doing things not in the script they deliberately flub their lines walk off sets tear up scenery punch other actors for no reason and ultimately commit suicide by jumping off a bridge br br for instance in the rapid flashes of a psychedelic party scene if you watch frame by frame you can see rafelson sitting next to the camera and cameraman very deliberately shooting into a mirror he is revealing that the party is actually fake and is being shot in a studio with actors who suddenly drop out of character and walk away in the middle of a conversation when the director yells cut br br the monkees however never drop out of character because those characters are also who they really are that ends up being the core of the revelation soon to come br br at every turn they realize their increasingly bizarre actions were exactly what they were supposed to do in the scripted film they can t escape being in you say they went crazy and walked through the sky which turns out to be painted on paper and hung from the ceiling as the set s background no problem hey hey they re the monkees and those wacky guys just keep monkeying around br br in the end even their deaths did not set them free that was how the movie was supposed to end and their motionless waterlogged bodies are fished out of the river put in another box and stacked in a film studio warehouse until the characters are needed again for another studio production br br this is made all the more poignant by the fact that the monkees really are fictional characters who forced themselves into the real world they did it through the power of their music br br ironically near the end peter tork has what he rightly sees as a hugely profound revelation that solves their problem but unfortunately no one listens br br peter realizes it doesn t matter if we re in the box the film he means that it doesn t matter if will is free or illusory and that the only important thing is that you just let the present moment occur and occur you need to just let now happen as it happens without analyzing or evaluating or judging whether the experience is valid by some abstract definition br br when you can t even tell the difference will being free or not doesn t matter tying to figure out if you are the real you is just a pointless waste of time br br i saw this film at a very important time in my life i was trying to figure out how to escape being just that geeky creepy nerd girl by thinking about it intensely instead of just having fun i e sex like everyone else did but the revelation in head broke my self imposed recursive trap and helped me more than rafelson or nicholson or tork will ever know br br for decades i ve watched head and wished i could thank pete br br was this a good movie br br uhh how about like br br yes'\n",
            " b'as i said in the other comment this is one of the best teen movies of all time and one of my personal favorites to me this movie is the second best teen movie of all time second only to the breakfast club the last american virgin is also maybe the most honest teen movie of all time it s underrated and pretty much an unknown movie to a lot of people it comes on tbs maybe once a year but sometimes longer the first half of this movie is a sex comedy with a few honest scenes then the second half is pure honest and most of the time serious with only a few comic scenes in my opinion this is the best soundtrack of all time i ve never heard this many great songs in one movie before there are 4 love songs in this movie that i think are some of the best love songs in history the movie is about a pizza boy named gary who is a virgin hes in high school who has a couple of best friends his two friends are sex sarved teens the first half of the movie is pretty much sexual misadventures that are very funny gary is major in love with the new girl in school he later finds out that his best friend is going out with her he also cheats on the side you can feel the love gary has for this girl very much you can feel it even more in the second half gary s friend turns out to be a creep but his other friend is pretty cool the movie shows how mean people can be you can relate to a lot of this movie the plot sounds like your typcial teen sex comedy but it s so much more than that it s a very honest movie it s also very 80ish which i love if you love the 80 s or grew up in the 80 s rent this movie but there may be some people that don t like the 80 s but still may like this movie i first saw this movie back in 1987 i think it s very entertaining and very funny it combines very touching moments with very funny moments it s an underrated gem i have the movie i love it i give the last american virgin 1 2 out of'\n",
            " b'maybe it s because i looked up the history of the irish troubles in the 1920s and then the sad civil war that engulfed the free state after the signing of the treaty before watching this movie anyway the sudden turn at the end brought tears to my eyes br br victor mclaglen isn t as famous today as he was back then and he should be better remembered in this film i think he s playing himself as he would have been without his innate talent and brains for example the scenes where his buddy in the crowd is challenging men to fight with him is probably quite reminiscent of what mclaglen actually did in earlier years when he was a world class bare knuckles boxer john ford is partly responsible for that the imdb trivia section shows how he tricked mclaglen into getting a really bad hangover for the trial scene this director also could bring out a lot in his actors even without such tricks mostly though mclaglen is firmly in control especially when his character is almost totally blotto which is difficult for an actor to do believably and he also plays gypo nolan with a depth and emotional power that is surprising for someone who has only seen mclaglen later in his career in the quiet man i especially like the contrast between this role as an ira man and the much more obviously controlled performance he gave as the ira man denis hogan in hangman s house br br in the quiet man of course mclaglen is a country squire at odds with the local ira victor mclaglen was big and bully in the old fashioned sense of the word but he was a good actor too and capable of wide range and fine nuances of performance that we just wouldn t expect of a such a man today it s a rather sad comment on our own set of expectations and prejudices br br ford as usual packs a lot into a little bit of film all the characters are excellent though the commandant s mostly american accent is distracting note there be spoilers ahead knowing that gypo once drew the short straw and was ordered to kill a man but let him talk his way out of it instead we really empathize with the man who draws the short straw for executing gypo and the humanity he shows most notably when they go to take gypo in mary s room br br john ford really shows his genius here taking what could have been a gruesome and yet expected outcome to the whole story and instead using it to set up a totally unexpected and yet very satisfying ending that makes us think not just of gypo and the other characters but of poor ireland during that tortured time'\n",
            " b'first let me say that although i generally appreciate mike judge s work i ve been merely tepid in my response to office space king of the hill and beavis and butthead i generally prefer more intelligent comedy and therein lies the irony with respect to idiocracy br br in a future world where the embodiment of beavis and butthead s views basest instincts and intellectual capacities are the framework of a chaotic messy semi mad max semi blade runner society where every trailer trash guy s fantasy becomes reality a man with even average intelligence is threatening and accused of talking gay and the mob mentality takes over and this world is also incredibly funny br br yes it s obvious that carl s jr starbucks costco and fuddruckers executives will be horrified at the twisted values given their products in the year 2505 br br there were some missed opportunities with the film and the relationship between the time travelers the other being an average intelligence woman who s worried about her boyfriend s pimp s retribution could have been stronger the chemistry is there and there don t seem to be too many women in the future br br i did leave with a grin on my face but the experience is a bit better than the memories thus it s my kind of popcorn film and it will be fun to revisit on video recommended fyi stay through the credits for an extra scene'\n",
            " b'you don t need to read this review br br an earlier review by pninson of seattle has already identified all the main shortcomings of this production i can only amplify its basic arguments br br bleak house was a relatively late dickens novel and is much darker than his earlier work this is taken too literally by the director ross devenish who piles on the gloom and fog too much when ada rick and esther appear half an hour into the opening episode it is a relief just to be in daylight for the first time in some of the murkier scenes it was hard to see what was actually on my tv screen i watched the whole thing in one day starting in mid afternoon as daylight faded this became less of an issue but i have a pretty good tv and i have never encountered this problem before at any time of day br br the pacing is very deliberate i e slow i am sure this was intensional but it is overdone there are numerous shots of people trudging though the muck and gloom of victorian london that are held longer than is necessary to establish the mood and atmosphere a good editor could probably take several minutes out of each fifty minute episode without losing a line of dialogue just by trimming each of these scenes slightly br br i don t want to overstate these two problems you soon adjust to the look and pace of this production the more important issue is that it doesn t always tell the story very effectively earlier dickens novels are as long as bleak house but are not nearly so intricately plotted for example i recently re read nicholas nickleby because i was intrigued to see how douglas mcgrath crammed an 800 page book into his two hour movie the answer is simple the book is full of padding mcgrath cut great swathes of the novel while still retaining all the essential story elements this would not be possible with bleak house br br this production needs its seven hours probably it needs even longer because many elements of its convoluted plot are not sufficiently clear or as well handled as they need to be a few random examples will illustrate the problems br br the maid rosa appears from nowhere with no background so lady dedlock s attachment to her is largely unmotivated br br sergeant george s acquiescence in tulkinhorn s demand for a sample of horton s handwriting is somewhat fudged br br it is not made clear enough that esther is actually in love with woodcourt when she agrees to marry john jarndyce neither is it clear that they have agreed not to announce their engagement or why br br ada and rick s secret marriage is omitted in one episode they are merely lovers in the next people are suddenly referring to them as husband and wife br br mrs rouncewell is only introduced at a late stage in the story and sargeant george s estrangement from his family is left unexplained as is the means by which she is discovered br br tulkinhorn s dedication to maintaining the honour and respectability of the dedlock family is understated so his motive for persecuting lady dedlock is more obscure than it need be br br the involvement of the brick makers with both tom and later lady dedlock is somewhat opaque br br it is not obvious that guppy renews his offer to esther because her smallpox scars have all but vanished br br this is only a selection there are others they are not major problems and the main thrust of the story is clear enough nonetheless they are minor irritations that detract from its power you shouldn t have to puzzle over little plot points however there are more important structural problems that do weaken the story in its later stages br br the whole business of tulkinhorn s murder is somewhat thrown away bucket immediately pinpoints hortense as a suspect which undermines the suspense of sergeant george s predicament and the importance of finding mrs rouncewell it also diminishes the impact of the sub plot in which suspicion is thrown on lady dedlock and weakens the scene in which hortense is unmasked in front of sir lester br br a more serious problem is that the murder its investigation and the subsequent search for lady dedlock dominate the story for over an hour during which time we completely lose sight of the other main plot strand the legal case and its effect on rick his failing finances his gouging by vholes and skimpole ada s despair his declining health and so on are all put on hold for an entire episode this may be how dickens wrote the book i haven t read it for years but a good screenplay should keep the different plot strands moving forward together br br finally smallweed s role in the story is so diminished that he is almost superfluous his discovery of the new will that triggers the final phase of the story is also thrown away it happens off screen br br despite all of this it is still a very good production many of the performances are outstanding individual scenes are beautifully realised its accumulating sense of tragedy is very powerful i would still be recommending it as a superb adaptation of a great book had it not been for the 2005 production in fact i probably wouldn t be fully aware of its defects if i hadn t seen how andrew davies did it better i have been critical of davies s jane austen adaptations but i have to admit that he really knows how to tame dickens s sprawling books br br this is an impressive and gripping drama and well worth seven hours of anybody s time nonetheless its probable fate is to be viewed mainly as a cross reference to the near definitive 2005 version'\n",
            " b'well folks this is another stereotypic portrayla of gay life however the additional downside includes poor acting horrible script no budget terrible sound and let us not forget the impossible storyline br br it is christmas in new york city and our story immediatly focuses on two male individuals apparently lovers for some time one of them has not let his parents the right wing religious zealot types know that he is gay adding to the impluasability of the story cause this guy is as efeminant as gay guys come these days and his parents are coming to viusit him they will stay in his new york apartment where he and his lover have just decorated for christmas br br the story continues to develop around the arrival of the parents who noone will like anyway and how through only obvious and predictable ways they come to learn there son is gay tears are shed as was my interest in this movie br br the cast of charecters seemed like an intro acting course at the local community theatre the lovers in this film are mismatched and there does not appear to be any cohesion to their union br br the landlord is flat and her attempt to be humanistic in the situation are undercooked and certainly didnt help move the plot any further br br the dragqueen friend who steps to the aid of one of the lovers in his time of need is stereotypic and gives a bad name to the unique art of drag br br although some guys night find one of the lovers to have a nice body again stereotypic imagery it does not help this story br br stay away from this film especially if you are considering a purchase you ll shoot yourself if you do'\n",
            " b'an intense thriller about a mute movie make up artist who witnesses a snuff film being made when she is working late in the studio one night after she tries to get away from the murder scene she realizes she is in for more than she bargained for when the entire mafia is out to kill her for being a witness this movie leaves you on the edge of your seat'\n",
            " b'that is the best way i can describe this movie which centers on a newly married couple who move into a house that is haunted by the husband s first wife who died under mysterious circumstances that sounds well and good but what plays out is an hour of pure boredom in fact one of the funny things about this flick is that there is a warning at the beginning of the film that promises anyone who dies of fright a free coffin well trust me no one ever took them up on that offer unless someone out there is terrified of plastic skulls peacocks weird gardeners and doors being knocked on and the music is the worst it consists of constant tuba music which sounds like it is being played by some sixth grader and you will figure out the terrible secret that is so obvious that you really have to wonder what the people in this movie were thinking someone dies while running and hitting their head and the police are never called to investigate yes in the end this is a slow paced which is really bad considering the movie is only just over an hour boring little tale that is easily figured out by the average person apparently none of the characters in this flick were the average person'\n",
            " b'silent historical drama based on the story of anne boleyn newly arrived lady in waiting to the queen who catches the lustful eye of henry viii bad tempered king of england who loves to feast drink hunt be entertained by his court jester watch jousts and chase around after young beauties who jump out of cakes and assorted attractive females around the castle well he s soon annulled his marriage married anne and telling her it is her holy duty to produce a male heir she fails on that score and he soon has his eye on yet another lady in waiting meanwhile anne spends pretty much the entire film looking hesitant perturbed or downright ready to burst into tears she just doesn t come across as a happy camper or is it just bad acting br br this film is a solid piece of entertainment with an absorbing story that held my interest for two hours plus i enjoyed seeing the very lavish medieval costuming featured here on a gorgeous sepia tinted print emil jannings is quite striking and memorable in his well done portrayal of king henry the eighth he really seemed like he was henry the eighth i am not so sure about the performance given by the actress who plays anne seemed a bit over the top the dvd of this film features an appropriate nicely done piano score that perfectly suits this story quite a good film'\n",
            " b'the man with a golden arm was one of a trio of great films around that same time that dealt with drug addiction the other two were monkey on my back and a hatful of rain but i think of the three this one is the best br br maybe if otto preminger had shot the thing in the real chicago instead of those obvious studio sets the film might have been better yet who knows maybe preminger couldn t get enough money to pay for the location it s the only flaw i find in the film br br frank sinatra is a heroin addicted card dealer who was busted for covering for his boss robert strauss when the game was raided he took the cure while in jail and wants a new life as a jazz drummer but a whole lot of people are conspiring against him br br first bob strauss who wants him back dealing especially because a couple of heavyweight gamblers are in town he uses a few underhanded methods to get sinatra s services back secondly darren mcgavin is the local dope dealer who wants sinatra good and hooked as a customer again and finally eleanor parker his clinging wife who s working a con game to beat all just to keep him around br br frank sinatra got a nomination for best actor for this film but lost to ernest borgnine in marty sinatra might have won for this one if he hadn t won for from here to eternity in the supporting actor category a few years back and that marty was such an acclaimed film in that year his scenes going through withdrawal locked up in kim novak s apartment will leave you shaken br br eleanor parker does not get enough credit for her role she s really something as the crazy scheming wife who wants sinatra tied to her no matter what the cost if she had not been nominated that same year for interrupted melody she might have been nominated for this 1955 marked the high point of her career br br darren mcgavin got his first real notice as the very serpentine drug peddler his performance is guaranteed to make your flesh crawl br br elmer bernstein contributed a great jazz score to accentuate the general dinginess of the bleak chicago neighborhood the characters live in not a place you d want to bring up your family'\n",
            " b'the somewhat belligerent brother of a suicide finds that he and his mother grieve in much the same way by acting out but that dad is morose and blaming himself writer director dan harris gives us a dysfunctional family torn at the seams characters with question marks hanging over them and then lays all the story points out in the most obvious terms suicide secrets gay shame family sickness ultimately aiming to wrap things up with a tidy bow harris wants to make sure we don t miss a trick initially giving us thoughtful material to ponder but then spelling everything out in an elementary sentimental fashion sigourney weaver s bemused performance as the family matriarch is dryly disengaged and she s a joy that is until harris gives her a make over complete with sensible new hairstyle it s the cinematic equivalent of a condescending pat on the head from'\n",
            " b'pointless boring film with charismatic mercurio completely wasted released for a minute on a thursday in maybe one local cinema and avoided by the entire population of sydney except me and four others back of beyond is a project seemingly created by a producer looking for a fee local actors like john polson and terry serio deserve better well polson has morphed into a director of lame thrillers like swimfan and hide and seek and terry serio seems never to get a guernsey apart from thug roles but paul mercurio should have become one of australia s greatest exports on screen roles like this are major disappointments and films like this are just a waste of talent and time'\n",
            " b'as a former tv editor i can say this is as authentic as it gets it even led to letterman s producer thought to be a source resigning eventually in real life letterman was outraged ok so one goofy thing is it has him throwing softballs at a tire swing on his estate total fabrication but the main information is hilariously true from the silly bidding war for letterman once he decided to leave nbc to leno s problems with an agent who was not ready for big time but who he let run the show almost to a disastrous exit out of his famed loyalty if any of you kids don t grasp the idea of why letterman is jealous to this day see this tape'\n",
            " b'when i heard that adrian pasdar was in drag in this movie my expectations that i would watch the entire movie were low the only reasons i gave it a chance were the magnificent julie walters and the recommendation of a friend br br what i thought would be a broad mrs doubtfire type of farce turned out to be a gentle and insightful comedy pasdar is entirely credible and empathetic as the ambitious business man who needs to release the female part of his being by cross dressing on occasions he transmits these needs to the audience in a thoroughly believable fashion julie walters is magnificent is as her habit as the landlady who teaches him unconditional love'\n",
            " b'frownland is like one of those intensely embarrassing situations where you end up laughing out loud at exactly the wrong time and just at the moment you realize you shouldn t be laughing you ve already reached the pinnacle of voice resoundness and as you look around you at the ghostly white faces with their gaping wide open mouths and glazen eyes you feel a piercing ache beginning in the pit of your stomach and suddenly rushing up your throat and well you get the point br br but for all its unpleasantness and punches in the face frownland really is a remarkable piece of work that after viewing the inarticulate mess of a main character and all his pathetic troubles and mishaps makes you want to scratch your own eyes out and at the same time you feel sickenly sorry for him br br it would have been a lot easier for me to simply walk out of ronald bronstein s film but for some insane reason i felt an unwavering determination to stay the course and experience all the grainy irritation the film has to offer if someone sets you on fire you typically want to put it out stop drop and roll but with this film you want to watch the flame slowly engulf your entire body you endure the pain perhaps out of spite or some unknown masochistic curiosity i can t even begin to attempt to explain br br unfortunately mainstream cinema will never let this film come to a theater near you but if you get a chance to catch it prepare yourself bring a doggie bag'\n",
            " b'and nothing wrong in that heartily endorse the comments of boblipton and snow leopard br br i m thrilled to find this movie is available on us dvd i ve only ever seen it through once i persuaded the goethe institute here in london to show it in their conrad veidt season some years ago and long to see it again br br barrymore is resplendent when engaged as in this movie possibly because of the prick of having a renowned german actor as a foil and veidt is such a wonderful scene stealer doesn t he pick his nose at one point this is one of the seminal films to connect dr jekyll with 20th century grand hotel or midnight and the cabinet of dr caligari or the student of prague with the spy in bladk contraband and casablanca br br see it'\n",
            " b'i just watched the movie i was afraid it s gonna disappoint me i was rather surprised at the end though the american pie franchise is still in my favorite franchise movies of all times yes it won t be true if i say that i enjoyed it as mush as i enjoyed the original ones beta house along with the previous two pies definitely lost something that the first two pies had it is not gonna become a classic as the first two already did but what the hell it is still funny with a lot of good moments and i think it should be the first movie to pick if you wanna have fun and relax after a hard day at work or school beta house deserves 6 10 but i gave it 7 10 just for being another slice of pie'\n",
            " b'snakes on a train is a movie i rented due to the pure amusement of the thoughts i had about the movie snakes on a plane was an enjoyable action film so obviously the film makers wanted to cash in on the success with this low budget effort at 85 minutes snakes on a train is almost unbearable to witness i had to keep pausing the film to do something to entertain myself due to the lack of happenings in the film throughout the duration of the film it s never fully explained why this girl has this curse or why she keeps coughing up this green purplish goo constantly not only that there is endless boring dialog of the two main characters brujo and alma discussing how to get rid of the curse i can appreciate low budget film making i m truly not picky on movies i m open to any genre or budget but snakes on a train is truly one of the worst horror films i have ever seen were the writers on acid or something at the end of this film why did the woman suddenly turn into a giant snake and most importantly how on earth was it able to devour the train br br bottom line snakes on a train is a movie that needs to be avoided at all costs don t be intrigued like i was by the title this is a movie that s seriously bad let s put these snakes to rest br br 0 10'\n",
            " b'should i have expected anything other than putrid from carrot top this was on of the worst movies i have ever seen it is by far the worst comedy i have ever seen chairman of the board did not add humor to my attitude rather it enraged me that s right carrot top is such a bad comedian that i became enraged that this man is making movies'\n",
            " b'i had before a feeling of mislike for all russian films but after seeing this film i haven t this is a unique masterpiece made by the best director ever lived in the ussr he knows the art of film making and can use it very well if you find this movie buy or copy it'\n",
            " b'reeves plays haji murad a hero in 1850 s russia br br this is a badly dubbed movie with june foray doing some of the voices unfortunately who ever was suppose to sync the voices to the lips was blind since the words never match the lip flaps anyone who says that japanese films are bad have never watched this film br br the film s plot is instantly forgettable and so i ve forgotten it in the time its taken the movie to end and for me to sit and write this down perhaps it has more to do with the fact that the film is one of the many that reeves made in hopes of moving away from action to more plot driven sort of films it may have been a good thing for reeves but its deadly for the audience who have to slug through nooze fests such as this where its all court intrigue with very little action br br in reeves defense he was a good actor he just had no real luck in picking films that were any good they all looked great but very few of them didn t put the those watching them into a coma for the film s running time br br this film will put you in a coma watch it only if you have the need for sleep and all other gentler means have failed'\n",
            " b'the movie atlantis the lost empire is a shining gem in the rubble of films produced by the disney studios recently parents who have had to sit through the jungle book 2 or even a pokemon movie will surely appreciate this one br br the film is one of few to attempt at an original story previous feature films were merely re tellings of existing stories films such as toy story finding nemo and monsters inc all do the same but it must be noted that all were made by pixar and only distributed by disney recent films from the disney studios are mostly released direct to video and are sequels to an existing successful film the quality of those films is given way to the profitability a new era started with atlantis following it were mulan lilo stitch and most recently open range the writers have created all original story lines instead of the fairy tales of the past br br a good portion of the movie is devoted to the quest to find atlantis a task that has captured the imagination of many for hundreds of years including that of young milo thatch voiced by michael j fox milo is employed by a museum in washington d c his grandfather was a renowned archaeologist who had devoted his life to discovering atlantis this was seen as a waste by his peers and they wish milo to not follow in his footsteps after failing to convince the museum board of directors to sponsor his expedition milo comes home to find a woman in his darkened apartment she takes him to her employer a mr whitmore whitmore was a close friend of milo s grandfather and wishes to send milo with a team to locate atlantis mr whitmore is very wealth and has paid for the best of everything the crew that is to accompany him is the same as his grandfathers the journey is filled with many great obstacles to overcome and is great fun to watch the viewer finds themselves caught up in if they will reach atlantis the plot takes an unexpected turn after the discovery atlantis not just the discovery of people it is enough to keep the interest of the older audience br br the animators have done a wonderful job in then depth of the animation the movie is very successful in blending traditional animation with computer generated images a feat not easily achieved most audiences are quick to notice the difference in the two the characters are believably human there are some nice chase type scenes with lots of action going on a few lulls are filled with jokes that the children just may not get br br the creativity of the writers really shines through the culture of atlantis is richly developed including an entire language the film uses references to atlantis from historical sources such as plato the disappearance of atlantis from the world is explained believable if by a younger audience that magic really does exist the powers of the people of atlantis are not exactly presented as magic but can best be described in this way br br although set in 1914 the level of technology used is unrealistic the voyage is in a submarine very reminiscent of captain nemo s nautilus complete with sub pods that fire torpedoes the giant diggers are driven by steam boilers so they did try for some era technology the female characters are empowered in a way that women of the age would not have been even holding roles in leadership this is not a bad thing it gives a good role model for my daughter to look to rather than an all male cast br br one reason this film is a favorite of mine over other disney films is that there is not one single song ever a tradition that began with the first feature film snow white and carried on through to the lion king almost every disney film is full of upbeat songs this is great and all what would the seven dwarfs be without hi ho after the millionth time through it d almost be better without but this one spares the parent not once does every single person on the screen suddenly know the words to a song that no one has ever heard before and break out in song i for one am grateful br br the storyline and depth of animation is sure to keep the attention of both parent and child alike it is a film i am willing to watch again and again with my children'\n",
            " b'chupacabra terror is saved from a 1 by the presence of canadian cutie chelan simmons as the heroine she is a delight to watch from the front back and side otherwise what you have here is your standard monster movie playing like a low budget shipboard version of the relic john rhys davies plays the captain of the ship on which the monster is being transported and the very nonscary monster is simply a man in a suit he does commit about 100 senseless gory killings at least so the body count in this one is pretty awesome formulaic to say the least i love the moment when simmons ominously tells someone what chupacabra stands for goat eater oooohhh scary'\n",
            " b'this was an attempt toward a romantic comedy and one which did not work although the film was cast in an interesting manner the dismal script betrayed the best efforts of all the director s fey mannerisms may have succeeded if he had adopted a point of view it was embarrassing to watch william baldwin and in particular armin muller stahl'\n",
            " b'i saw sea of dust as part of a nyc screening audience several years ago i enjoyed the film at that time so i was a little confused by some of the amendments that had been made since perhaps it s my memory but there seemed to be chunks of exposition missing from the version that was shown at the rhode island film festival i m really not sure which version i prefer but i can honestly say that i found something to appreciate it both br br let me begin by warning everyone that this is not a popcorn movie although it s been promoted as a hammer films tribute people expecting a showdown between van helsing and dracula are going to be sorely disappointed there s some cleavage but no nudity a staple of the british production house s later movies and while sea of dust is filled with gorgeous eye candy it really is shot like a sixties film and features hammer starlet ingrid pitt it s not like any of the company s pictures in tone or execution this film is very dark very confusing and at times very funny i don t remember the earlier version being quite as nutty as this one but that s not a bad thing especially the showdown in the black forest that plays like a three stooges short and some of ms pitt s rantings are quite entertaining it s like somebody wound her up and turned her loose br br the uniqueness of this film doesn t lie with the borrowed details though it s in the ideas as an occasional sci fi channel viewer i ve regularly taken the network to task for its one note variations on a theme cgi monster kills then gets destroyed sea of dust is so full of ideas that you start to trip over them after a while br br but don t get me wrong i m not complaining if anything i applaud these guys for making such an enterprising low budget picture and for having the courage to pack it with so many concepts it s not going to be a picnic for people who hate to think at the movies you know who you are but for the rest of us those of us who are tired of the formula of modern horror films the predictability the lack of respect for the audience this may just be your ticket'\n",
            " b'if you have sons or daughters who love action adventure intrigue and imagination without the need to break into song every twelve minutes then this is the disney movie for you my sons loved every minute of this film and i have to admit that i laughed out loud many times throughout the movie there are no sappy songs to get in the way of a wonderfully told story and the characters are all lovable and identifiable in their own right this should go down as one of the disney classics because of its beautifully illustrated scenery and its non stop excitement'\n",
            " b'i have seen over 2000 studio era sound films including lots of judy garland lena horne shirley jones and deanna durbin s own universal features plus a decent amount of live and studio recorded musical comedy and opera and i assure you no one tasked with singing in front of a camera and microphone or maybe anywhere ever has ever touched durbin s solo here mono soundtrack and crap 1930s microphones and all the kid from canada sings this bit from il bacio like she lived and wrote it herself and then happened to show up for a retrospective in italy late in her career not like a child who learned it from her music teacher br br if you skip this extra on the dvd or skip ahead to the garland solo you are just depriving yourself since this cheap mgm teaser just happened to capture one of the greatest performances of the 20c']\n",
            "-----------------------\n",
            "label:  [1 1 0 0 0 1 0 1 0 0 0 0 1 1 1 0 0 0 1 0 1 0 0 0 1 0 0 1 1 0 1 1 0 0 1 0 0\n",
            " 1 1 1 1 1 0 1 0 1 1 0 0 1 1 1 1 1 0 0 1 0 1 0 0 1 1 1]\n",
            "-----------------------\n",
            "total len:  64\n"
          ]
        }
      ],
      "source": [
        "# print first batch from train dataset\n",
        "\n",
        "for example, label in train_dataset.take(1):\n",
        "    print(\"example : \", example.numpy())\n",
        "    print(\"-----------------------\")\n",
        "    print(\"label: \", label.numpy())\n",
        "    print(\"-----------------------\")\n",
        "    print(\"total len: \", len(label.numpy()))"
      ]
    },
    {
      "cell_type": "markdown",
      "id": "overall-joyce",
      "metadata": {
        "id": "overall-joyce"
      },
      "source": [
        "### 4. Creating your training and validation splits"
      ]
    },
    {
      "cell_type": "code",
      "source": [
        "64 * 100"
      ],
      "metadata": {
        "id": "YjyiP1rWpmqm",
        "colab": {
          "base_uri": "https://localhost:8080/"
        },
        "outputId": "dfd6daad-8788-4cc6-e26c-24dad72a3576"
      },
      "id": "YjyiP1rWpmqm",
      "execution_count": 31,
      "outputs": [
        {
          "output_type": "execute_result",
          "data": {
            "text/plain": [
              "6400"
            ]
          },
          "metadata": {},
          "execution_count": 31
        }
      ]
    },
    {
      "cell_type": "code",
      "execution_count": 32,
      "id": "adjustable-heavy",
      "metadata": {
        "id": "adjustable-heavy"
      },
      "outputs": [],
      "source": [
        "# create validation dataset\n",
        "val_dataset = train_dataset.take(100) # 100 * 64 = 6400\n",
        "train_dataset = train_dataset.skip(100) # 40000 - 6400 = 33600\n",
        "\n",
        "# select first 100 batch from train dataset for validation data\n",
        "# each bacth will contain 64 samples and skip first 100 batch from train dataset"
      ]
    },
    {
      "cell_type": "markdown",
      "id": "proud-footage",
      "metadata": {
        "id": "proud-footage"
      },
      "source": [
        "### 5. Create the text encoder\n"
      ]
    },
    {
      "cell_type": "markdown",
      "id": "living-comment",
      "metadata": {
        "id": "living-comment"
      },
      "source": [
        "the raw text data needs to be processed before it can be used in a model. The simplest way to process text for training is using the\n",
        "textvectorization layer this layer has many capbiliites."
      ]
    },
    {
      "cell_type": "code",
      "execution_count": 33,
      "id": "differential-paintball",
      "metadata": {
        "id": "differential-paintball"
      },
      "outputs": [],
      "source": [
        "# Create the layer, and pass the dataset text to the layer's .adapt method\n",
        "\n",
        "VOCAB_SIZE = 1000\n",
        "encoder = tf.keras.layers.experimental.preprocessing.TextVectorization(max_tokens=VOCAB_SIZE)\n",
        "encoder.adapt(train_dataset.map(lambda text, label: text))"
      ]
    },
    {
      "cell_type": "code",
      "execution_count": 34,
      "id": "international-particular",
      "metadata": {
        "colab": {
          "base_uri": "https://localhost:8080/"
        },
        "id": "international-particular",
        "outputId": "862a3ed9-ac53-4727-df07-a5b9b544bdbe"
      },
      "outputs": [
        {
          "output_type": "execute_result",
          "data": {
            "text/plain": [
              "array(['', '[UNK]', 'the', 'and', 'a', 'of', 'to', 'is', 'br', 'it', 'in',\n",
              "       'i', 'this', 'that', 's', 'was', 'as', 'movie', 'for', 'with'],\n",
              "      dtype='<U14')"
            ]
          },
          "metadata": {},
          "execution_count": 34
        }
      ],
      "source": [
        "# create vocabulary of words\n",
        "vocab = np.array(encoder.get_vocabulary())\n",
        "\n",
        "# print top 20 vocab\n",
        "vocab[0:20]"
      ]
    },
    {
      "cell_type": "code",
      "execution_count": 35,
      "id": "tested-sleep",
      "metadata": {
        "colab": {
          "base_uri": "https://localhost:8080/"
        },
        "id": "tested-sleep",
        "outputId": "1cd3f0ff-1f31-4066-d2ed-a6c284820e43"
      },
      "outputs": [
        {
          "output_type": "execute_result",
          "data": {
            "text/plain": [
              "1000"
            ]
          },
          "metadata": {},
          "execution_count": 35
        }
      ],
      "source": [
        "len(vocab)"
      ]
    },
    {
      "cell_type": "code",
      "execution_count": 36,
      "id": "clean-legislation",
      "metadata": {
        "id": "clean-legislation"
      },
      "outputs": [],
      "source": [
        "encoded_example = encoder(\"This is a nice asdfasdf asdf dev pen!\").numpy()"
      ]
    },
    {
      "cell_type": "code",
      "execution_count": 37,
      "id": "fleet-friendly",
      "metadata": {
        "colab": {
          "base_uri": "https://localhost:8080/"
        },
        "id": "fleet-friendly",
        "outputId": "cd0bda24-961d-4e3f-d142-f92f5e51d60d"
      },
      "outputs": [
        {
          "output_type": "execute_result",
          "data": {
            "text/plain": [
              "array([ 12,   7,   4, 340,   1,   1,   1,   1])"
            ]
          },
          "metadata": {},
          "execution_count": 37
        }
      ],
      "source": [
        "encoded_example"
      ]
    },
    {
      "cell_type": "code",
      "execution_count": 38,
      "id": "located-compound",
      "metadata": {
        "colab": {
          "base_uri": "https://localhost:8080/",
          "height": 36
        },
        "id": "located-compound",
        "outputId": "4044c2f4-f97a-4353-8a21-b4388d46f19a"
      },
      "outputs": [
        {
          "output_type": "execute_result",
          "data": {
            "text/plain": [
              "'3'"
            ],
            "application/vnd.google.colaboratory.intrinsic+json": {
              "type": "string"
            }
          },
          "metadata": {},
          "execution_count": 38
        }
      ],
      "source": [
        "encoder.get_vocabulary()[332]"
      ]
    },
    {
      "cell_type": "code",
      "execution_count": 39,
      "id": "knowing-details",
      "metadata": {
        "id": "knowing-details",
        "colab": {
          "base_uri": "https://localhost:8080/"
        },
        "outputId": "b9757617-8c57-4eb6-d5d7-4b20abdf44da"
      },
      "outputs": [
        {
          "output_type": "execute_result",
          "data": {
            "text/plain": [
              "array(['', '[UNK]', 'the', 'and', 'a', 'of', 'to', 'is', 'br', 'it', 'in',\n",
              "       'i', 'this', 'that', 's', 'was', 'as', 'movie', 'for', 'with',\n",
              "       'but', 'film', 'you', 't', 'on', 'not', 'he', 'are', 'his', 'have',\n",
              "       'one', 'be', 'all', 'at', 'they', 'by', 'an', 'who', 'so', 'from',\n",
              "       'like', 'there', 'or', 'just', 'her', 'about', 'out', 'if', 'has',\n",
              "       'what', 'some', 'good', 'can', 'more', 'when', 'very', 'she', 'up',\n",
              "       'no', 'time', 'my', 'even', 'would', 'which', 'only', 'story',\n",
              "       'really', 'see', 'their', 'had', 'me', 'well', 'we', 'were',\n",
              "       'than', 'much', 'bad', 'get', 'people', 'great', 'other', 'been',\n",
              "       'do', 'will', 'also', 'because', 'into', 'how', 'don', 'him',\n",
              "       'most', 'first', 'made', 'then', 'make', 'its', 'them', 'could',\n",
              "       'way', 'too', 'movies', 'after', 'any', 'characters', 'think',\n",
              "       'watch', 'character', 'films', 'two', 'many', 'seen', 'plot',\n",
              "       'love', 'being', 'never', 'acting', 'life', 'where', 'best',\n",
              "       'show', 'did', 'know', 'little', 'ever', 'over', 'off', 'man',\n",
              "       'does', 'better', 'your', 'end', 'here', 'scene', 'still', 'these',\n",
              "       'say', 'scenes', 'while', 'why', 've', 'something', 'such', 'm',\n",
              "       'go', 'back', 'should', 'through', 'those', 'now', 'real',\n",
              "       'watching', 'thing', 're', 'actors', 'funny', 'director', 'didn',\n",
              "       'doesn', 'old', '10', 'though', 'years', 'another', 'work',\n",
              "       'actually', 'before', 'look', 'makes', 'nothing', 'new', 'same',\n",
              "       'find', 'going', 'lot', 'every', 'part', 'few', 'again', 'world',\n",
              "       'us', 'down', 'quite', 'cast', 'horror', 'things', 'pretty',\n",
              "       'want', 'around', 'seems', 'young', 'take', 'however', 'big',\n",
              "       'thought', 'both', 'fact', 'got', 'give', 'enough', 'long',\n",
              "       'between', 'comedy', 'own', 'must', 'right', 'music', 'may',\n",
              "       'series', 'action', 'without', 'guy', 'times', 'd', 'always',\n",
              "       'almost', 'role', 'saw', 'come', 'original', 'gets', 'isn',\n",
              "       'point', 'interesting', 'done', 'whole', 'family', 'feel', 'least',\n",
              "       'bit', 'far', 'minutes', 'll', 'script', 'tv', '2', 'making', 'am',\n",
              "       'might', 'since', 'last', 'anything', 'probably', 'away', 'kind',\n",
              "       'performance', 'yet', 'girl', 'fun', 'anyone', 'hard', 'worst',\n",
              "       'sure', 'woman', 'day', 'rather', 'played', 'each', 'found', 'our',\n",
              "       'looking', 'screen', 'dvd', 'although', 'believe', 'having',\n",
              "       'trying', 'especially', 'course', 'everything', 'set', 'ending',\n",
              "       'maybe', 'comes', 'book', 'goes', 'worth', 'three', 'put',\n",
              "       'different', 'actor', 'place', 'sense', 'play', 'shows',\n",
              "       'american', 'wasn', 'let', 'looks', 'reason', 'someone', 'effects',\n",
              "       'job', 'main', 'watched', 'year', 'true', 'together', 'money',\n",
              "       'once', 'everyone', 'half', 'war', 'said', 'later', 'plays',\n",
              "       'audience', 'high', 'during', 'black', 'instead', 'john', 'takes',\n",
              "       '1', 'seem', 'special', 'beautiful', 'left', 'night', 'seeing',\n",
              "       'himself', 'version', 'house', 'idea', 'wife', 'shot', 'excellent',\n",
              "       'mind', 'death', 'star', 'else', 'budget', 'father', '3', 'simply',\n",
              "       'second', 'men', 'used', 'fan', 'short', 'poor', 'nice',\n",
              "       'completely', 'read', 'top', 'along', 'line', 'less', 'hollywood',\n",
              "       'dead', 'either', 'home', 'help', 'boring', 'kids', 'friends',\n",
              "       'wrong', 'camera', 'women', 'use', 'low', 'production', 'given',\n",
              "       'enjoy', 'classic', 'school', 'full', 'try', 'couple', 'need',\n",
              "       'until', 'rest', 'performances', 'next', 'stupid', 'awful',\n",
              "       'truly', 'sex', 'start', 'recommend', 'video', 'won', 'remember',\n",
              "       'tell', 'came', 'terrible', 'understand', 'moments', 'getting',\n",
              "       'human', 'face', 'perhaps', 'itself', 'mean', 'name', 'keep',\n",
              "       'person', 'often', 'small', 'playing', 'wonderful', 'mother',\n",
              "       'style', 'perfect', 'boy', 'others', 'early', 'definitely',\n",
              "       'written', 'yes', 'children', 'doing', 'head', 'stars', 'piece',\n",
              "       'episode', 'lines', 'case', 'lost', 'went', 'couldn', 'dialogue',\n",
              "       'gives', 'finally', 'absolutely', 'overall', 'entertaining',\n",
              "       'live', 'oh', 'laugh', 'friend', 'liked', 'cinema', 'certainly',\n",
              "       'title', 'picture', 'called', 'loved', 'hope', 'sort', 'become',\n",
              "       'supposed', 'worse', 'guys', 'white', 'based', 'felt', 'dark',\n",
              "       'drama', '4', 'several', 'against', 'sound', 'entire', 'problem',\n",
              "       '5', 'mr', 'totally', 'fans', 'waste', 'beginning', 'despite',\n",
              "       'humor', 'direction', 'example', 'wanted', 'game', 'evil', 'lives',\n",
              "       'final', 'under', 'seemed', 'guess', 'turn', 'care', 'lead',\n",
              "       'days', 'able', 'unfortunately', 'already', 'becomes', 'killer',\n",
              "       'b', 'throughout', 'son', 'heart', 'flick', 'quality', 'side',\n",
              "       'history', 'fine', 'writing', 'wants', 'art', 'act', 'run',\n",
              "       'today', 'amazing', 'tries', 'michael', 'horrible', 'god', 'close',\n",
              "       'works', 'child', 'behind', 'viewer', 'genre', 'eyes', 'car',\n",
              "       'town', 'past', 'kill', 'favorite', 'turns', 'enjoyed', 'gave',\n",
              "       'brilliant', 'matter', 'hand', 'directed', 'late', 'girls', 'etc',\n",
              "       'city', 'parts', 'soon', 'obviously', 'actress', 'themselves',\n",
              "       'hour', 'expect', 'stuff', 'starts', 'kid', 'decent', 'killed',\n",
              "       'daughter', 'sometimes', 'type', 'myself', 'stop', 'group',\n",
              "       'anyway', 'writer', 'feeling', 'thinking', 'highly', 'blood',\n",
              "       'self', 'heard', 'says', 'voice', 'known', 'experience', 'coming',\n",
              "       'happens', 'police', 'fight', 'hit', 'violence', 'except',\n",
              "       'stories', 'slow', 'ok', 'leave', 'moment', 'told', 'happen',\n",
              "       'took', 'living', 'please', 'cannot', 'age', 'cut', 'particularly',\n",
              "       'hero', 'extremely', 'roles', 'strong', 'score', 'involved',\n",
              "       'lack', 'husband', 'hilarious', 'murder', 'chance', 'brother',\n",
              "       'including', 'hell', 'crap', 'released', 'wonder', 'david',\n",
              "       'obvious', 'cool', 'serious', 'save', 'looked', 'wouldn', 'james',\n",
              "       'taken', 'complete', 'english', 'simple', 'gore', 'happened',\n",
              "       'ago', 'across', 'attempt', 'shown', 'song', 'reality', 'interest',\n",
              "       'robert', 'jokes', 'alone', 'exactly', 'possible', 'hours',\n",
              "       'opening', 'seriously', 'none', 'saying', 'running', 'talent',\n",
              "       'career', 'four', 'sad', 'order', 'view', 'whose', 'taking',\n",
              "       'number', 'relationship', 'jack', 'yourself', 'huge', 'important',\n",
              "       'body', 'wish', 'shots', 'annoying', 'usual', 'level',\n",
              "       'cinematography', 'usually', 'started', 'change', 'power', 'light',\n",
              "       'ridiculous', 'mostly', 'major', 'beyond', 'somewhat', 'knew',\n",
              "       'call', 'ends', 'room', 'silly', 'rating', 'middle', 'scary',\n",
              "       'turned', 'ones', 'novel', 'documentary', 'strange', 'talking',\n",
              "       'country', 'words', 'non', 'happy', 'modern', 'female', 'knows',\n",
              "       'television', 'opinion', 'disappointed', 'musical', 'basically',\n",
              "       'aren', 'apparently', 'word', 'miss', 'king', 'due', 'o',\n",
              "       'attention', 'clearly', 'upon', 'finds', 'class', '7', 'five',\n",
              "       'earth', 'thriller', 'french', 'ten', 'entertainment', 'local',\n",
              "       'single', 'fast', 'problems', 'cheap', 'sequence', 'british',\n",
              "       'predictable', 'episodes', 'clich', 'talk', 'enjoyable', 'review',\n",
              "       'future', 'team', 'straight', '8', 'songs', 'whether', 'certain',\n",
              "       'above', 'events', 'george', 'eye', 'die', 'sets', 'supporting',\n",
              "       'moving', 'tells', 'comic', 'space', 'giving', 'add', 'easily',\n",
              "       'romantic', 'near', 'falls', 'surprised', 'rock', 'similar',\n",
              "       'appears', 'needs', 'lots', 'filmed', 'tried', 'theme', 'dialog',\n",
              "       'release', 'haven', 'bring', 'sorry', 'message', 'e', 'suspense',\n",
              "       'fall', 'theater', 'mention', 'easy', 'within', 'minute', 'among',\n",
              "       '9', 'soundtrack', 'sequel', 'clear', 'sister', 'named', 'working',\n",
              "       'parents', 'hate', 'showing', 'bunch', 'realistic', 'tale', 'gone',\n",
              "       'deal', 'dull', 'avoid', 'using', 'points', 'ways', 'viewing',\n",
              "       'richard', 'comments', 'feature', 'dr', 'buy', 'oscar', 'feels',\n",
              "       'lady', 'stand', 'monster', 'crime', 'typical', 'nearly',\n",
              "       'greatest', 'red', 'okay', 'viewers', 'subject', 'kept',\n",
              "       'storyline', 'form', 'means', 'effort', 'dog', 'stay', 'move',\n",
              "       'peter', 'check', 'elements', 'editing', 'somehow', 'herself',\n",
              "       'paul', 'doubt', 'follow', 'imagine', 'reviews', 'begins',\n",
              "       'fantastic', 'famous', 'average', 'period', 'material', 'general',\n",
              "       'believable', 'mystery', 'forget', 'eventually', 'imdb', '20',\n",
              "       'rent', 'open', 'brought', 'york', 'whatever', 'killing', 'doctor',\n",
              "       'boys', 'premise', 'leads', 'situation', 'surprise', 'tom', 'fi',\n",
              "       'poorly', 'third', 'sci', 'weak', 'actual', 'expected', 'deep',\n",
              "       'figure', 'learn', 'wait', 'indeed', 'gay', 'atmosphere',\n",
              "       'society', 'crew', 'america', 'animation', 'street', 'hear', 'sit',\n",
              "       'lame', 'shame', 'decided', 'free', 'western', 'hot', 'truth',\n",
              "       'box', 'write', 'particular', 'forced', 'note', 'male', 'nature',\n",
              "       'acted', 'hands', 'de', 'dance', 'season', 'difficult', 'unless',\n",
              "       'sequences', 'mark', 'air', 'romance', 'needed', 'footage',\n",
              "       'credits', 'sexual', 'question', 'weird', 'interested',\n",
              "       'otherwise', 'lee', 'memorable', 'stage', 'leaves', 'comment',\n",
              "       'plus', 'perfectly', 'emotional', 'island', 'quickly', 'possibly',\n",
              "       'meet', 'beauty', 'joe', 'reading', 'personal', 'nor', 'begin',\n",
              "       'total', 'girlfriend', 'cheesy', 'baby', 'forward', 'cop',\n",
              "       'screenplay', 'japanese', 'effect', 'copy', 'business', 'badly',\n",
              "       'result', 'inside', 'became', '30', 'unique', 'sounds',\n",
              "       'masterpiece', 'dumb', 'superb', 'writers', 'meets', 'whom',\n",
              "       'previous', 'fire', 'crazy', 'towards', 'features', 'disney',\n",
              "       'ask', 'incredibly', 'era', 'keeps', 'earlier', 'creepy', 'apart',\n",
              "       'dramatic', 'background', 'setting', 'laughs', 'mess', 'older',\n",
              "       'joke', 'realize', '80', 'water', 'various', 'rich', 'pay',\n",
              "       'development', 'deserves', 'appear', 'worked', 'dream', 'brings',\n",
              "       'secret', 'front', 'directing', 'bill', 'leading', 'following',\n",
              "       'present', 'c', 'meant', 'wasted', 'cover', 'directors', 'battle',\n",
              "       'powerful', 'gun', 'plenty', 'cute', 'portrayed', 'success',\n",
              "       'rate', 'large', 'outside', 'zombie', 'spent', 'produced',\n",
              "       'fairly', 'william'], dtype='<U14')"
            ]
          },
          "metadata": {},
          "execution_count": 39
        }
      ],
      "source": [
        "vocab"
      ]
    },
    {
      "cell_type": "markdown",
      "id": "terminal-sucking",
      "metadata": {
        "id": "terminal-sucking"
      },
      "source": [
        "with default settings, the process is not completely reversible. two reason for this\n",
        "1. the dfualt value for preprocessing.textvectorization standrdize argument is \"lower_and_strip_punctuation\"\n",
        "2. the limited vocabulary size and lack of character-based fallback result in some unknown tokens."
      ]
    },
    {
      "cell_type": "markdown",
      "id": "domestic-warrior",
      "metadata": {
        "id": "domestic-warrior"
      },
      "source": [
        "### 6. Defining your RNN model architecture"
      ]
    },
    {
      "cell_type": "code",
      "execution_count": 40,
      "id": "temporal-education",
      "metadata": {
        "id": "temporal-education"
      },
      "outputs": [],
      "source": [
        "# create RNN model\n",
        "model = tf.keras.Sequential([\n",
        "    encoder,\n",
        "    tf.keras.layers.Embedding(input_dim=len(encoder.get_vocabulary()),\n",
        "                              output_dim=64,\n",
        "                              mask_zero=True),\n",
        "\n",
        "    tf.keras.layers.SimpleRNN(64),\n",
        "#     tf.keras.layers.Bidirectional(tf.keras.layers.LSTM(64))\n",
        "    tf.keras.layers.Dense(64, activation=\"relu\"),\n",
        "    tf.keras.layers.Dense(1) # tf.keras.layers.Dense(3, activation=\"softmax\")\n",
        "])\n",
        "\n",
        "# note: if you use activation =sigmoid you will get the probability score for model not the negative scores\n",
        "# but if you use by defualt value then you will get negative and positive value\n"
      ]
    },
    {
      "cell_type": "markdown",
      "id": "emerging-sentence",
      "metadata": {
        "id": "emerging-sentence"
      },
      "source": [
        "1. this model can be build as a tf.keras.Sequential.\n",
        "2. the first layer is the encoder, which converts the text to a sequence of token indices.\n",
        "3. after the encoder is an embedding layer. an embedding layer stores one vector per word. when called it converts the sequences\n",
        "of word indices to sequences of vectors. theses vecotrs are trainable. after training (on enough data), words with similar meanings ofter have similar vectors\n",
        "4. a recurrent neurel network (RNN) process sequences input by iterating through the elements. RNN pass the outputs from timestep to their input on the next timestep\n",
        "- The tf.keras.layers.bidirectioinal wrapper can aslo be used with an rnn layer. this propagates the input forward and backwards through the rnn layer and then concatenates the final output\n",
        "- the main advanatage to a bidirectional rnn is that the signal from the beginning of the input dosent need to be process all the way through very timestep to affect the output\n",
        "- the main disadvantage of a bidirectional rnn is that you cant efficiently stream predictions as words are being added to the end\n",
        "\n",
        "5. after the rnn has converted the sequences to a single vector the tow layers.dense do some final processing, and convert from this vector representation to a single logit as the classification output.\n"
      ]
    },
    {
      "cell_type": "code",
      "execution_count": 41,
      "id": "bridal-clear",
      "metadata": {
        "id": "bridal-clear",
        "outputId": "297bbb24-b317-4f45-b0d1-51915cd52199",
        "colab": {
          "base_uri": "https://localhost:8080/"
        }
      },
      "outputs": [
        {
          "output_type": "stream",
          "name": "stdout",
          "text": [
            "1/1 [==============================] - 0s 399ms/step\n",
            "[[-0.04351867]]\n"
          ]
        }
      ],
      "source": [
        "# pass sample input\n",
        "\n",
        "sample_text = (\"the movie was  cool. the animatioin and the graphics i would not recommend this movie\")\n",
        "\n",
        "predictions = model.predict(np.array([sample_text]))\n",
        "print(predictions)\n"
      ]
    },
    {
      "cell_type": "code",
      "execution_count": 42,
      "id": "alone-klein",
      "metadata": {
        "id": "alone-klein",
        "outputId": "8c31fd42-9f35-4af9-fef3-f0b8c96036de",
        "colab": {
          "base_uri": "https://localhost:8080/"
        }
      },
      "outputs": [
        {
          "output_type": "stream",
          "name": "stdout",
          "text": [
            "tf.Tensor([[0.00628644]], shape=(1, 1), dtype=float32)\n"
          ]
        }
      ],
      "source": [
        "# play with models (uncomment one one layer at time and check the output)\n",
        "model2 = tf.keras.Sequential([\n",
        "    encoder,\n",
        "    tf.keras.layers.Embedding(input_dim=len(encoder.get_vocabulary()), output_dim=5, mask_zero=True),\n",
        "    tf.keras.layers.SimpleRNN(5),\n",
        "    # tf.keras.layers.Bidirectional(tf.keras.layers.LSTM(5))\n",
        "    tf.keras.layers.Dense(5, activation=\"relu\"),\n",
        "    tf.keras.layers.Dense(1)\n",
        "])\n",
        "\n",
        "sample_text = (\"the movie was good\")\n",
        "predictions = model2(np.array([sample_text]))\n",
        "print(predictions)"
      ]
    },
    {
      "cell_type": "code",
      "source": [],
      "metadata": {
        "id": "cXT7GnRT5W5V"
      },
      "id": "cXT7GnRT5W5V",
      "execution_count": 42,
      "outputs": []
    },
    {
      "cell_type": "markdown",
      "id": "surprising-prague",
      "metadata": {
        "id": "surprising-prague"
      },
      "source": [
        "### 7. Compiling your RNN model"
      ]
    },
    {
      "cell_type": "code",
      "execution_count": 43,
      "id": "ceramic-cover",
      "metadata": {
        "id": "ceramic-cover"
      },
      "outputs": [],
      "source": [
        "# compile the model\n",
        "\n",
        "# for binary classification\n",
        "model.compile(loss=tf.keras.losses.BinaryCrossentropy(from_logits=True),\n",
        "              optimizer=tf.keras.optimizers.Adam(1e-4),\n",
        "              metrics=['accuracy'])\n",
        "\n",
        "\n",
        "# for 3 level\n",
        "# model.compile(loss='sparse_categorical_crossentropy',\n",
        "#               optimizer=tf.keras.optimizers.Adam(1e-4),\n",
        "#               metrics=['accuracy'])\n",
        "\n",
        "\n"
      ]
    },
    {
      "cell_type": "markdown",
      "id": "automated-royal",
      "metadata": {
        "id": "automated-royal"
      },
      "source": [
        "### 8. Training your model on your training data"
      ]
    },
    {
      "cell_type": "code",
      "source": [
        "model.summary()\n",
        "import joblib"
      ],
      "metadata": {
        "id": "YFIEqQzR26IJ",
        "colab": {
          "base_uri": "https://localhost:8080/"
        },
        "outputId": "f5ba9e44-fdcb-456d-d310-6497da55d140"
      },
      "id": "YFIEqQzR26IJ",
      "execution_count": 44,
      "outputs": [
        {
          "output_type": "stream",
          "name": "stdout",
          "text": [
            "Model: \"sequential\"\n",
            "_________________________________________________________________\n",
            " Layer (type)                Output Shape              Param #   \n",
            "=================================================================\n",
            " text_vectorization (TextVe  (None, None)              0         \n",
            " ctorization)                                                    \n",
            "                                                                 \n",
            " embedding (Embedding)       (None, None, 64)          64000     \n",
            "                                                                 \n",
            " simple_rnn (SimpleRNN)      (None, 64)                8256      \n",
            "                                                                 \n",
            " dense (Dense)               (None, 64)                4160      \n",
            "                                                                 \n",
            " dense_1 (Dense)             (None, 1)                 65        \n",
            "                                                                 \n",
            "=================================================================\n",
            "Total params: 76481 (298.75 KB)\n",
            "Trainable params: 76481 (298.75 KB)\n",
            "Non-trainable params: 0 (0.00 Byte)\n",
            "_________________________________________________________________\n"
          ]
        }
      ]
    },
    {
      "cell_type": "code",
      "execution_count": 45,
      "id": "controversial-contamination",
      "metadata": {
        "id": "controversial-contamination",
        "colab": {
          "base_uri": "https://localhost:8080/"
        },
        "outputId": "a76eb64b-c0ab-4e1a-c44f-34f4a4a195b5"
      },
      "outputs": [
        {
          "output_type": "stream",
          "name": "stdout",
          "text": [
            "525/525 [==============================] - 288s 545ms/step - loss: 0.6820 - accuracy: 0.5107 - val_loss: 0.6749 - val_accuracy: 0.5113\n"
          ]
        }
      ],
      "source": [
        "EPOCHS = 1\n",
        "\n",
        "results =model.fit(train_dataset,\n",
        "                  epochs=EPOCHS,\n",
        "                  validation_data=val_dataset)\n",
        "\n",
        "joblib.dump(results, \"results.pkl\")\n",
        "model.save(\"sentiment.model\", save_format=\"tf\")"
      ]
    },
    {
      "cell_type": "markdown",
      "id": "frozen-oliver",
      "metadata": {
        "id": "frozen-oliver"
      },
      "source": [
        "### 9. Evaluating your model on your test data"
      ]
    },
    {
      "cell_type": "code",
      "execution_count": 46,
      "id": "catholic-store",
      "metadata": {
        "id": "catholic-store",
        "colab": {
          "base_uri": "https://localhost:8080/",
          "height": 475
        },
        "outputId": "b820f7ed-0201-41e4-a725-e82d83364473"
      },
      "outputs": [
        {
          "output_type": "execute_result",
          "data": {
            "text/plain": [
              "<Axes: xlabel='count', ylabel='sentiment'>"
            ]
          },
          "metadata": {},
          "execution_count": 46
        },
        {
          "output_type": "display_data",
          "data": {
            "text/plain": [
              "<Figure size 640x480 with 1 Axes>"
            ],
            "image/png": "[encoded data removed]"
          },
          "metadata": {}
        }
      ],
      "source": [
        "sns.countplot(df_test[\"sentiment\"])"
      ]
    },
    {
      "cell_type": "code",
      "execution_count": 47,
      "id": "fancy-center",
      "metadata": {
        "id": "fancy-center",
        "colab": {
          "base_uri": "https://localhost:8080/"
        },
        "outputId": "a68abe4b-ace6-4f4b-daa6-cc2aa3587d2a"
      },
      "outputs": [
        {
          "output_type": "stream",
          "name": "stdout",
          "text": [
            "This train_dataset contain 49.93% Neutral Sentiment tweet\n",
            "This train_dataset contain 50.07% Positive Sentiment tweet\n"
          ]
        }
      ],
      "source": [
        "Neg = round(df_test[\"sentiment\"].value_counts()[1]/len(df_test) * 100, 2)\n",
        "Pos = round(df_test[\"sentiment\"].value_counts()[0]/len(df_test) * 100, 2)\n",
        "\n",
        "\n",
        "print('This train_dataset contain {}% Neutral Sentiment tweet'.format(Neg))\n",
        "print('This train_dataset contain {}% Positive Sentiment tweet'.format(Pos))"
      ]
    },
    {
      "cell_type": "code",
      "execution_count": 48,
      "id": "critical-empire",
      "metadata": {
        "id": "critical-empire",
        "colab": {
          "base_uri": "https://localhost:8080/",
          "height": 363
        },
        "outputId": "9119f861-bb60-4bbc-fd72-509e77ce7d03"
      },
      "outputs": [
        {
          "output_type": "execute_result",
          "data": {
            "text/plain": [
              "                                                  review sentiment  \\\n",
              "40000  First off I want to say that I lean liberal on...  negative   \n",
              "40001  I was excited to see a sitcom that would hopef...  negative   \n",
              "40002  When you look at the cover and read stuff abou...  negative   \n",
              "40003  Like many others, I counted on the appearance ...  negative   \n",
              "40004  This movie was on t.v the other day, and I did...  negative   \n",
              "40005  Hickory Dickory Dock was a good Poirot mystery...  positive   \n",
              "40006  \"One Crazy Summer\" is the funniest, craziest (...  positive   \n",
              "40007  Low-budget schlockmeister Herschell Gordon Lew...  negative   \n",
              "40008  this was absolutely the most tragic pile of ci...  negative   \n",
              "40009  I have never understood the appeal of this sho...  negative   \n",
              "\n",
              "                                            clean_review  label  \n",
              "40000  first off i want to say that i lean liberal on...      0  \n",
              "40001  i was excited to see a sitcom that would hopef...      0  \n",
              "40002  when you look at the cover and read stuff abou...      0  \n",
              "40003  like many others i counted on the appearance o...      0  \n",
              "40004  this movie was on t v the other day and i didn...      0  \n",
              "40005  hickory dickory dock was a good poirot mystery...      1  \n",
              "40006  one crazy summer is the funniest craziest not ...      1  \n",
              "40007  low budget schlockmeister herschell gordon lew...      0  \n",
              "40008  this was absolutely the most tragic pile of ci...      0  \n",
              "40009  i have never understood the appeal of this sho...      0  "
            ],
            "text/html": [
              "\n",
              "  <div id=\"df-06473bb7-fc57-4b49-835a-809a3508b9e8\" class=\"colab-df-container\">\n",
              "    <div>\n",
              "<style scoped>\n",
              "    .dataframe tbody tr th:only-of-type {\n",
              "        vertical-align: middle;\n",
              "    }\n",
              "\n",
              "    .dataframe tbody tr th {\n",
              "        vertical-align: top;\n",
              "    }\n",
              "\n",
              "    .dataframe thead th {\n",
              "        text-align: right;\n",
              "    }\n",
              "</style>\n",
              "<table border=\"1\" class=\"dataframe\">\n",
              "  <thead>\n",
              "    <tr style=\"text-align: right;\">\n",
              "      <th></th>\n",
              "      <th>review</th>\n",
              "      <th>sentiment</th>\n",
              "      <th>clean_review</th>\n",
              "      <th>label</th>\n",
              "    </tr>\n",
              "  </thead>\n",
              "  <tbody>\n",
              "    <tr>\n",
              "      <th>40000</th>\n",
              "      <td>First off I want to say that I lean liberal on...</td>\n",
              "      <td>negative</td>\n",
              "      <td>first off i want to say that i lean liberal on...</td>\n",
              "      <td>0</td>\n",
              "    </tr>\n",
              "    <tr>\n",
              "      <th>40001</th>\n",
              "      <td>I was excited to see a sitcom that would hopef...</td>\n",
              "      <td>negative</td>\n",
              "      <td>i was excited to see a sitcom that would hopef...</td>\n",
              "      <td>0</td>\n",
              "    </tr>\n",
              "    <tr>\n",
              "      <th>40002</th>\n",
              "      <td>When you look at the cover and read stuff abou...</td>\n",
              "      <td>negative</td>\n",
              "      <td>when you look at the cover and read stuff abou...</td>\n",
              "      <td>0</td>\n",
              "    </tr>\n",
              "    <tr>\n",
              "      <th>40003</th>\n",
              "      <td>Like many others, I counted on the appearance ...</td>\n",
              "      <td>negative</td>\n",
              "      <td>like many others i counted on the appearance o...</td>\n",
              "      <td>0</td>\n",
              "    </tr>\n",
              "    <tr>\n",
              "      <th>40004</th>\n",
              "      <td>This movie was on t.v the other day, and I did...</td>\n",
              "      <td>negative</td>\n",
              "      <td>this movie was on t v the other day and i didn...</td>\n",
              "      <td>0</td>\n",
              "    </tr>\n",
              "    <tr>\n",
              "      <th>40005</th>\n",
              "      <td>Hickory Dickory Dock was a good Poirot mystery...</td>\n",
              "      <td>positive</td>\n",
              "      <td>hickory dickory dock was a good poirot mystery...</td>\n",
              "      <td>1</td>\n",
              "    </tr>\n",
              "    <tr>\n",
              "      <th>40006</th>\n",
              "      <td>\"One Crazy Summer\" is the funniest, craziest (...</td>\n",
              "      <td>positive</td>\n",
              "      <td>one crazy summer is the funniest craziest not ...</td>\n",
              "      <td>1</td>\n",
              "    </tr>\n",
              "    <tr>\n",
              "      <th>40007</th>\n",
              "      <td>Low-budget schlockmeister Herschell Gordon Lew...</td>\n",
              "      <td>negative</td>\n",
              "      <td>low budget schlockmeister herschell gordon lew...</td>\n",
              "      <td>0</td>\n",
              "    </tr>\n",
              "    <tr>\n",
              "      <th>40008</th>\n",
              "      <td>this was absolutely the most tragic pile of ci...</td>\n",
              "      <td>negative</td>\n",
              "      <td>this was absolutely the most tragic pile of ci...</td>\n",
              "      <td>0</td>\n",
              "    </tr>\n",
              "    <tr>\n",
              "      <th>40009</th>\n",
              "      <td>I have never understood the appeal of this sho...</td>\n",
              "      <td>negative</td>\n",
              "      <td>i have never understood the appeal of this sho...</td>\n",
              "      <td>0</td>\n",
              "    </tr>\n",
              "  </tbody>\n",
              "</table>\n",
              "</div>\n",
              "    <div class=\"colab-df-buttons\">\n",
              "\n",
              "  <div class=\"colab-df-container\">\n",
              "    <button class=\"colab-df-convert\" onclick=\"convertToInteractive('df-06473bb7-fc57-4b49-835a-809a3508b9e8')\"\n",
              "            title=\"Convert this dataframe to an interactive table.\"\n",
              "            style=\"display:none;\">\n",
              "\n",
              "  <svg xmlns=\"http://www.w3.org/2000/svg\" height=\"24px\" viewBox=\"0 -960 960 960\">\n",
              "    <path d=\"M120-120v-720h720v720H120Zm60-500h600v-160H180v160Zm220 220h160v-160H400v160Zm0 220h160v-160H400v160ZM180-400h160v-160H180v160Zm440 0h160v-160H620v160ZM180-180h160v-160H180v160Zm440 0h160v-160H620v160Z\"/>\n",
              "  </svg>\n",
              "    </button>\n",
              "\n",
              "  <style>\n",
              "    .colab-df-container {\n",
              "      display:flex;\n",
              "      gap: 12px;\n",
              "    }\n",
              "\n",
              "    .colab-df-convert {\n",
              "      background-color: #E8F0FE;\n",
              "      border: none;\n",
              "      border-radius: 50%;\n",
              "      cursor: pointer;\n",
              "      display: none;\n",
              "      fill: #1967D2;\n",
              "      height: 32px;\n",
              "      padding: 0 0 0 0;\n",
              "      width: 32px;\n",
              "    }\n",
              "\n",
              "    .colab-df-convert:hover {\n",
              "      background-color: #E2EBFA;\n",
              "      box-shadow: 0px 1px 2px rgba(60, 64, 67, 0.3), 0px 1px 3px 1px rgba(60, 64, 67, 0.15);\n",
              "      fill: #174EA6;\n",
              "    }\n",
              "\n",
              "    .colab-df-buttons div {\n",
              "      margin-bottom: 4px;\n",
              "    }\n",
              "\n",
              "    [theme=dark] .colab-df-convert {\n",
              "      background-color: #3B4455;\n",
              "      fill: #D2E3FC;\n",
              "    }\n",
              "\n",
              "    [theme=dark] .colab-df-convert:hover {\n",
              "      background-color: #434B5C;\n",
              "      box-shadow: 0px 1px 3px 1px rgba(0, 0, 0, 0.15);\n",
              "      filter: drop-shadow(0px 1px 2px rgba(0, 0, 0, 0.3));\n",
              "      fill: #FFFFFF;\n",
              "    }\n",
              "  </style>\n",
              "\n",
              "    <script>\n",
              "      const buttonEl =\n",
              "        document.querySelector('#df-06473bb7-fc57-4b49-835a-809a3508b9e8 button.colab-df-convert');\n",
              "      buttonEl.style.display =\n",
              "        google.colab.kernel.accessAllowed ? 'block' : 'none';\n",
              "\n",
              "      async function convertToInteractive(key) {\n",
              "        const element = document.querySelector('#df-06473bb7-fc57-4b49-835a-809a3508b9e8');\n",
              "        const dataTable =\n",
              "          await google.colab.kernel.invokeFunction('convertToInteractive',\n",
              "                                                    [key], {});\n",
              "        if (!dataTable) return;\n",
              "\n",
              "        const docLinkHtml = 'Like what you see? Visit the ' +\n",
              "          '<a target=\"_blank\" href=https://colab.research.google.com/notebooks/data_table.ipynb>data table notebook</a>'\n",
              "          + ' to learn more about interactive tables.';\n",
              "        element.innerHTML = '';\n",
              "        dataTable['output_type'] = 'display_data';\n",
              "        await google.colab.output.renderOutput(dataTable, element);\n",
              "        const docLink = document.createElement('div');\n",
              "        docLink.innerHTML = docLinkHtml;\n",
              "        element.appendChild(docLink);\n",
              "      }\n",
              "    </script>\n",
              "  </div>\n",
              "\n",
              "\n",
              "<div id=\"df-d310bc40-86c3-4b96-8262-09455ebefecb\">\n",
              "  <button class=\"colab-df-quickchart\" onclick=\"quickchart('df-d310bc40-86c3-4b96-8262-09455ebefecb')\"\n",
              "            title=\"Suggest charts\"\n",
              "            style=\"display:none;\">\n",
              "\n",
              "<svg xmlns=\"http://www.w3.org/2000/svg\" height=\"24px\"viewBox=\"0 0 24 24\"\n",
              "     width=\"24px\">\n",
              "    <g>\n",
              "        <path d=\"M19 3H5c-1.1 0-2 .9-2 2v14c0 1.1.9 2 2 2h14c1.1 0 2-.9 2-2V5c0-1.1-.9-2-2-2zM9 17H7v-7h2v7zm4 0h-2V7h2v10zm4 0h-2v-4h2v4z\"/>\n",
              "    </g>\n",
              "</svg>\n",
              "  </button>\n",
              "\n",
              "<style>\n",
              "  .colab-df-quickchart {\n",
              "      --bg-color: #E8F0FE;\n",
              "      --fill-color: #1967D2;\n",
              "      --hover-bg-color: #E2EBFA;\n",
              "      --hover-fill-color: #174EA6;\n",
              "      --disabled-fill-color: #AAA;\n",
              "      --disabled-bg-color: #DDD;\n",
              "  }\n",
              "\n",
              "  [theme=dark] .colab-df-quickchart {\n",
              "      --bg-color: #3B4455;\n",
              "      --fill-color: #D2E3FC;\n",
              "      --hover-bg-color: #434B5C;\n",
              "      --hover-fill-color: #FFFFFF;\n",
              "      --disabled-bg-color: #3B4455;\n",
              "      --disabled-fill-color: #666;\n",
              "  }\n",
              "\n",
              "  .colab-df-quickchart {\n",
              "    background-color: var(--bg-color);\n",
              "    border: none;\n",
              "    border-radius: 50%;\n",
              "    cursor: pointer;\n",
              "    display: none;\n",
              "    fill: var(--fill-color);\n",
              "    height: 32px;\n",
              "    padding: 0;\n",
              "    width: 32px;\n",
              "  }\n",
              "\n",
              "  .colab-df-quickchart:hover {\n",
              "    background-color: var(--hover-bg-color);\n",
              "    box-shadow: 0 1px 2px rgba(60, 64, 67, 0.3), 0 1px 3px 1px rgba(60, 64, 67, 0.15);\n",
              "    fill: var(--button-hover-fill-color);\n",
              "  }\n",
              "\n",
              "  .colab-df-quickchart-complete:disabled,\n",
              "  .colab-df-quickchart-complete:disabled:hover {\n",
              "    background-color: var(--disabled-bg-color);\n",
              "    fill: var(--disabled-fill-color);\n",
              "    box-shadow: none;\n",
              "  }\n",
              "\n",
              "  .colab-df-spinner {\n",
              "    border: 2px solid var(--fill-color);\n",
              "    border-color: transparent;\n",
              "    border-bottom-color: var(--fill-color);\n",
              "    animation:\n",
              "      spin 1s steps(1) infinite;\n",
              "  }\n",
              "\n",
              "  @keyframes spin {\n",
              "    0% {\n",
              "      border-color: transparent;\n",
              "      border-bottom-color: var(--fill-color);\n",
              "      border-left-color: var(--fill-color);\n",
              "    }\n",
              "    20% {\n",
              "      border-color: transparent;\n",
              "      border-left-color: var(--fill-color);\n",
              "      border-top-color: var(--fill-color);\n",
              "    }\n",
              "    30% {\n",
              "      border-color: transparent;\n",
              "      border-left-color: var(--fill-color);\n",
              "      border-top-color: var(--fill-color);\n",
              "      border-right-color: var(--fill-color);\n",
              "    }\n",
              "    40% {\n",
              "      border-color: transparent;\n",
              "      border-right-color: var(--fill-color);\n",
              "      border-top-color: var(--fill-color);\n",
              "    }\n",
              "    60% {\n",
              "      border-color: transparent;\n",
              "      border-right-color: var(--fill-color);\n",
              "    }\n",
              "    80% {\n",
              "      border-color: transparent;\n",
              "      border-right-color: var(--fill-color);\n",
              "      border-bottom-color: var(--fill-color);\n",
              "    }\n",
              "    90% {\n",
              "      border-color: transparent;\n",
              "      border-bottom-color: var(--fill-color);\n",
              "    }\n",
              "  }\n",
              "</style>\n",
              "\n",
              "  <script>\n",
              "    async function quickchart(key) {\n",
              "      const quickchartButtonEl =\n",
              "        document.querySelector('#' + key + ' button');\n",
              "      quickchartButtonEl.disabled = true;  // To prevent multiple clicks.\n",
              "      quickchartButtonEl.classList.add('colab-df-spinner');\n",
              "      try {\n",
              "        const charts = await google.colab.kernel.invokeFunction(\n",
              "            'suggestCharts', [key], {});\n",
              "      } catch (error) {\n",
              "        console.error('Error during call to suggestCharts:', error);\n",
              "      }\n",
              "      quickchartButtonEl.classList.remove('colab-df-spinner');\n",
              "      quickchartButtonEl.classList.add('colab-df-quickchart-complete');\n",
              "    }\n",
              "    (() => {\n",
              "      let quickchartButtonEl =\n",
              "        document.querySelector('#df-d310bc40-86c3-4b96-8262-09455ebefecb button');\n",
              "      quickchartButtonEl.style.display =\n",
              "        google.colab.kernel.accessAllowed ? 'block' : 'none';\n",
              "    })();\n",
              "  </script>\n",
              "</div>\n",
              "\n",
              "    </div>\n",
              "  </div>\n"
            ],
            "application/vnd.google.colaboratory.intrinsic+json": {
              "type": "dataframe",
              "variable_name": "df_test",
              "summary": "{\n  \"name\": \"df_test\",\n  \"rows\": 10000,\n  \"fields\": [\n    {\n      \"column\": \"review\",\n      \"properties\": {\n        \"dtype\": \"string\",\n        \"num_unique_values\": 9981,\n        \"samples\": [\n          \"What a terrible movie this was! I made it about 50 minutes into it and started skipping chapters until the end. The plot is nothing special, and the dialog from the movie deviates from the main story so much that your head will explode out of rage. Many useless minutes wasted just listening to characters jabber on about something irrelevant to the plot, AND/OR something that could said in a shorter amount of time. The camera work is shaky, and grainy. It seemed Mr. Milligan needed to take his finger off of the zoom button! I noticed also that at some points during this movie it seemed that Andy was having seizures, and would uncontrollably shake the camera. The splices between scenes were jumpy and didn't flow. The murder scenes were nothing special - incredibly, and laughably fake. Barely any gore, as the title suggests. This movie runs about 1 hour 20 minutes and the murder scenes take up about 1 minute TOTAL of the whole movie - if that. What a wretched piece of garbage this movie was. Andy Milligan is in fact probably one of the worst directors to plague mankind with his talentless directing, and camera-work. Usually, I can make it through really bad horror movies, and laugh about it later. BLOODTHIRSTY BUTCHERS, however, I can't. I am just angry I wasted an hour and a half of my life watching this (what I wouldn't do to gain it back). Take my suggestion, and DO NOT see this movie unless you plan on falling asleep. TERRIBLE.\",\n          \"She's not Michael Jordan<br /><br />Think of all the marvelous NBA players whose career light has been dimmed for no other good reason than the timing of their birth. Their names might trip as easily off the public's lips as Russell, Cousy, Byrd, Magic, McHale, Oscar, Wilt, the list goes on; but the volume gets turned down a little, for Stockton and Malone, Charles, Patrick and all the other great players who always lost the headlines to Michael.<br /><br />I've seen it written that Gretchen Mol's career flamed out in the wake of the cover article in the 1998 Vanity Fair issue which predicted inevitable superstardom for Ms. Mol. It was later said that she had been over hyped. I disagree.<br /><br />I still remember that for some time after I saw \\\"The Devil's Advocate\\\" in '97 or '98, I would get confused as to which actress played Mary Ann Lomax. Was it Mol or Theron? Oh yeah! Charlize Theron was the one in \\\"2 Days in the Valley\\\" and \\\"Mighty Joe Young\\\" and Gretchen Mol was in \\\"Donnie Brasco\\\", \\\"Celebrity\\\", and \\\"Rounders\\\".<br /><br />By the time I had seen \\\"The Thirteenth Floor\\\" (Mol) and \\\"Sweet November\\\" (Theron), I pretty much had them straightened out but I still put them in the same mental file drawer. Both were highly talented, had sweet faces, similar body types, short blonde hair and so on.<br /><br />Theron, though, was offered more work. I loved her as Sara Deever and as Adele Invergordon her beauty was downright intimidating.<br /><br />In 2003 \\\"Monster\\\" was released and from that point until the handing of the Oscar itself, all of filmdom knew who the \\\"Best Actress\\\" award was going to. And deservedly so! Theron was Aileen Wuornos. The only way to get a more accurate understanding of what made the real Aileen Wuornos tick would be to somehow replay the digital video trapped in Selby's head. And for a major talent to make herself that physically unattractive! Unheard of!<br /><br />Then in 2005 \\\"The Notorious Bettie Page\\\" was released. Mol's performance was extraordinary. Maybe she was standing in the shadow of Ms. Theron. It was like the ballroom for the victory celebration for the losing Presidential candidate, nobody came and nobody cared. It was viewed as a continuation of an old tale, once promising actress with a declining career does a nudie part in a \\\"B\\\" movie. Ho hum! No, no, no! Wrong! No matter what you may think of the film (and I enjoy films about the fifties) if you pass on this one you'll be missing one of the better performances of that year. Ms. Moll was every bit as much Bettie as Ms. Theron was Aileen. Unfortunately Aileen, to the film-going public, is the more sympathetic character. For whatever reason, an amoral, sociopathic killer is less embarrassing to us than a na\\u00efve, unsophisticated, uninhibited, religious girl whose most capital crime was to live her life totally trusting and completely exposed. Bettie Page was one of the icons of the fifties. Her photos and films never sexual, never pornographic, but she presented as a near caricature of all things kinky. There was no sense of realism, only parody. Ms. Moll captured the very essence of the character. She gained 20 pounds to add some zaftig to her normally slim figure and when she posed for various photographers in the film, her body was Bettie's. Her full frontal lack of any inhibitions accurately fits everything which has been published about Bettie. Cinematic nudity normally depicts eroticism or sexuality. In this film it's all about innocence. Seeing Gretchen/Bettie nude didn't make me want to jump her but instilled a desire to protect her from all the horrors that people can inflict on each other. If you pass on this film you'll be missing out on one of the best performances of recent years. By the way, shame on the MPAA for giving this an R rating.\",\n          \"Oh, where the hell should I begin? Give a brief summary of the story? No. either you've already heard it, or don't want to. Either way, it sucks. Much like the movie. I happen to be a semi-large horror movie aficionado, and I must say this is one of the dumbest and most clumsily-executed movies I've ever had the displeasure of viewing. <br /><br />The script is horrendously stupid. The story starts too fast with absolutely no suspense or build-up in the slightest. All of those torture scenes would have been A LOT more effective if we gave even the tiniest bit of crap for the characters. Since the first scene in the film is when the teenage girls meet Capt. Howdy, how the hell are we supposed to sympathize with them? First off, they seem stupid for going to a party with a guy they don't even know, and second, we don't even know their damn names! Why the hell should I care if they live or die? Not to mention the fact that they actually have the guts to try and make us feel sympathetic towards Capt. Howdy after he's been \\\"reformed\\\"? PLEASE! I was cheering when he got his just deserts! He deserved them! Hell, he deserved worse! Also, we're forced to sit through a pointless misdirect sequence lifted directly from \\\"The Silence of the Lambs\\\" (and here it's done HORRIBLY! Of course he's gonna give them a false address! And even if he had given them the real one, don't you think he'd be waiting and not piercing some guy's Johnson upstairs? RETARDED!)<br /><br />Then there's the dialogue. Everything Captain Howdy says is either laughable or just plain stupid. \\\"The dead are so dreadfully dead, when they're dead\\\"?? What the hell kind of crap is that?! Dee Snider at one point says \\\"knowledge is power\\\". Well, if that's true, this film has absolutely no power whatsoever. <br /><br />Then, there's the plot holes. Yes, I know this is a horror film (well, wannabe horror film), but damn! You could drive a semi truck into these holes! First off, these have got to be the DUMBEST cops I have EVER SEEN! EVER!! I mean, DEAR GOD, these guys are morons! Call for backup, idiots! Second, how the hell did that humungous septum ring fall out of Captain Howdy's nose?! Evidentially this piercing expert guy says \\\"that's the biggest one I've ever seen\\\", but if it's so damn big, how the hell could it have fallen out so easily? Did Capt. Howdy just LEAVE it at the crime scene because he WANTED to get caught? They sure didn't make it seem like he did. Also, they would NEVER release Capt. Howdy, and I know that for a damn fact. He would be in jail for the rest of his life, and there's no getting around this. Much less let him return to his old house where he killed/tortured everybody. IMPOSSIBLE AND IMPLAUSIBLE. <br /><br />And now the acting. Dear God did these people suck. Linda Cardellini is the only thing good in this film. She's poised and amazing. Too bad she hardly gets a good chance to act in this piece of crap. Amy Smart shows up for about 10 minutes and then drops out of existence. Even the usually entertaining Robert Englund is underused and ineffective here. Dee Snider plays the crazy guy with no talent whatsoever. I never felt threatened, scared or intimidated. I'd rather have seen Dee Snider in Alexis Arquette's role in \\\"Bride of Chucky\\\". It would have been so much more fun to see this talent-less hack get it by that lovable psycho doll. <br /><br />Dee Snider just plain sucks. He can't act (one of the least scary villains I have ever seen), he can't write (did he write this damn movie in his sleep?), and he's obviously dumber than freaking Jessica Simpson! This film is just a way for Dee Snider to show off all the weird crap he knows about self-mutilation and modern primitives and blah-blah-blah. Either it's been done before or it just didn't need to be done. I was bored throughout the whole damn thing. <br /><br />The acting sucks, the music sucks, the script sucks, the pacing sucks, the special FX suck, the directing sucks... basically, this movie sucks. This film tries to be a serious and sophisticated thriller/horror flick and it fails miserably. It doesn't manage to scare, shock, or disturb in any shape, way or form. This is probably one of the least effective and utterly unoriginal films I have ever seen in my entire life. A piece of cinematic garbage captured on celluloid. <br /><br />\\\"Strangeland\\\" gets a 0 out of 10. Avoid at any and all costs. Not enjoyable in the slightest.\"\n        ],\n        \"semantic_type\": \"\",\n        \"description\": \"\"\n      }\n    },\n    {\n      \"column\": \"sentiment\",\n      \"properties\": {\n        \"dtype\": \"category\",\n        \"num_unique_values\": 2,\n        \"samples\": [\n          \"positive\",\n          \"negative\"\n        ],\n        \"semantic_type\": \"\",\n        \"description\": \"\"\n      }\n    },\n    {\n      \"column\": \"clean_review\",\n      \"properties\": {\n        \"dtype\": \"string\",\n        \"num_unique_values\": 9981,\n        \"samples\": [\n          \"what a terrible movie this was i made it about 50 minutes into it and started skipping chapters until the end the plot is nothing special and the dialog from the movie deviates from the main story so much that your head will explode out of rage many useless minutes wasted just listening to characters jabber on about something irrelevant to the plot and or something that could said in a shorter amount of time the camera work is shaky and grainy it seemed mr milligan needed to take his finger off of the zoom button i noticed also that at some points during this movie it seemed that andy was having seizures and would uncontrollably shake the camera the splices between scenes were jumpy and didn t flow the murder scenes were nothing special incredibly and laughably fake barely any gore as the title suggests this movie runs about 1 hour 20 minutes and the murder scenes take up about 1 minute total of the whole movie if that what a wretched piece of garbage this movie was andy milligan is in fact probably one of the worst directors to plague mankind with his talentless directing and camera work usually i can make it through really bad horror movies and laugh about it later bloodthirsty butchers however i can t i am just angry i wasted an hour and a half of my life watching this what i wouldn t do to gain it back take my suggestion and do not see this movie unless you plan on falling asleep terrible\",\n          \"she s not michael jordan br br think of all the marvelous nba players whose career light has been dimmed for no other good reason than the timing of their birth their names might trip as easily off the public s lips as russell cousy byrd magic mchale oscar wilt the list goes on but the volume gets turned down a little for stockton and malone charles patrick and all the other great players who always lost the headlines to michael br br i ve seen it written that gretchen mol s career flamed out in the wake of the cover article in the 1998 vanity fair issue which predicted inevitable superstardom for ms mol it was later said that she had been over hyped i disagree br br i still remember that for some time after i saw the devil s advocate in 97 or 98 i would get confused as to which actress played mary ann lomax was it mol or theron oh yeah charlize theron was the one in 2 days in the valley and mighty joe young and gretchen mol was in donnie brasco celebrity and rounders br br by the time i had seen the thirteenth floor mol and sweet november theron i pretty much had them straightened out but i still put them in the same mental file drawer both were highly talented had sweet faces similar body types short blonde hair and so on br br theron though was offered more work i loved her as sara deever and as adele invergordon her beauty was downright intimidating br br in 2003 monster was released and from that point until the handing of the oscar itself all of filmdom knew who the best actress award was going to and deservedly so theron was aileen wuornos the only way to get a more accurate understanding of what made the real aileen wuornos tick would be to somehow replay the digital video trapped in selby s head and for a major talent to make herself that physically unattractive unheard of br br then in 2005 the notorious bettie page was released mol s performance was extraordinary maybe she was standing in the shadow of ms theron it was like the ballroom for the victory celebration for the losing presidential candidate nobody came and nobody cared it was viewed as a continuation of an old tale once promising actress with a declining career does a nudie part in a b movie ho hum no no no wrong no matter what you may think of the film and i enjoy films about the fifties if you pass on this one you ll be missing one of the better performances of that year ms moll was every bit as much bettie as ms theron was aileen unfortunately aileen to the film going public is the more sympathetic character for whatever reason an amoral sociopathic killer is less embarrassing to us than a na ve unsophisticated uninhibited religious girl whose most capital crime was to live her life totally trusting and completely exposed bettie page was one of the icons of the fifties her photos and films never sexual never pornographic but she presented as a near caricature of all things kinky there was no sense of realism only parody ms moll captured the very essence of the character she gained 20 pounds to add some zaftig to her normally slim figure and when she posed for various photographers in the film her body was bettie s her full frontal lack of any inhibitions accurately fits everything which has been published about bettie cinematic nudity normally depicts eroticism or sexuality in this film it s all about innocence seeing gretchen bettie nude didn t make me want to jump her but instilled a desire to protect her from all the horrors that people can inflict on each other if you pass on this film you ll be missing out on one of the best performances of recent years by the way shame on the mpaa for giving this an r rating\"\n        ],\n        \"semantic_type\": \"\",\n        \"description\": \"\"\n      }\n    },\n    {\n      \"column\": \"label\",\n      \"properties\": {\n        \"dtype\": \"number\",\n        \"std\": 0,\n        \"min\": 0,\n        \"max\": 1,\n        \"num_unique_values\": 2,\n        \"samples\": [\n          1,\n          0\n        ],\n        \"semantic_type\": \"\",\n        \"description\": \"\"\n      }\n    }\n  ]\n}"
            }
          },
          "metadata": {},
          "execution_count": 48
        }
      ],
      "source": [
        "# clean text\n",
        "df_test[\"clean_review\"] = df_test[\"review\"].apply(lambda text : clean_review(text))\n",
        "\n",
        "# create a label columns using manual label encoding\n",
        "lab = {\"positive\":1,\"negative\":0}\n",
        "df_test['label']= df_test[\"sentiment\"].map(lab)\n",
        "df_test.head(10)"
      ]
    },
    {
      "cell_type": "code",
      "execution_count": 49,
      "id": "pregnant-layout",
      "metadata": {
        "id": "pregnant-layout",
        "colab": {
          "base_uri": "https://localhost:8080/",
          "height": 206
        },
        "outputId": "6d71a6df-6b1f-404b-a0e3-2acb193aec6a"
      },
      "outputs": [
        {
          "output_type": "execute_result",
          "data": {
            "text/plain": [
              "                                            clean_review  label\n",
              "40000  first off i want to say that i lean liberal on...      0\n",
              "40001  i was excited to see a sitcom that would hopef...      0\n",
              "40002  when you look at the cover and read stuff abou...      0\n",
              "40003  like many others i counted on the appearance o...      0\n",
              "40004  this movie was on t v the other day and i didn...      0"
            ],
            "text/html": [
              "\n",
              "  <div id=\"df-0a58aa1e-9083-4461-bb00-941e85311298\" class=\"colab-df-container\">\n",
              "    <div>\n",
              "<style scoped>\n",
              "    .dataframe tbody tr th:only-of-type {\n",
              "        vertical-align: middle;\n",
              "    }\n",
              "\n",
              "    .dataframe tbody tr th {\n",
              "        vertical-align: top;\n",
              "    }\n",
              "\n",
              "    .dataframe thead th {\n",
              "        text-align: right;\n",
              "    }\n",
              "</style>\n",
              "<table border=\"1\" class=\"dataframe\">\n",
              "  <thead>\n",
              "    <tr style=\"text-align: right;\">\n",
              "      <th></th>\n",
              "      <th>clean_review</th>\n",
              "      <th>label</th>\n",
              "    </tr>\n",
              "  </thead>\n",
              "  <tbody>\n",
              "    <tr>\n",
              "      <th>40000</th>\n",
              "      <td>first off i want to say that i lean liberal on...</td>\n",
              "      <td>0</td>\n",
              "    </tr>\n",
              "    <tr>\n",
              "      <th>40001</th>\n",
              "      <td>i was excited to see a sitcom that would hopef...</td>\n",
              "      <td>0</td>\n",
              "    </tr>\n",
              "    <tr>\n",
              "      <th>40002</th>\n",
              "      <td>when you look at the cover and read stuff abou...</td>\n",
              "      <td>0</td>\n",
              "    </tr>\n",
              "    <tr>\n",
              "      <th>40003</th>\n",
              "      <td>like many others i counted on the appearance o...</td>\n",
              "      <td>0</td>\n",
              "    </tr>\n",
              "    <tr>\n",
              "      <th>40004</th>\n",
              "      <td>this movie was on t v the other day and i didn...</td>\n",
              "      <td>0</td>\n",
              "    </tr>\n",
              "  </tbody>\n",
              "</table>\n",
              "</div>\n",
              "    <div class=\"colab-df-buttons\">\n",
              "\n",
              "  <div class=\"colab-df-container\">\n",
              "    <button class=\"colab-df-convert\" onclick=\"convertToInteractive('df-0a58aa1e-9083-4461-bb00-941e85311298')\"\n",
              "            title=\"Convert this dataframe to an interactive table.\"\n",
              "            style=\"display:none;\">\n",
              "\n",
              "  <svg xmlns=\"http://www.w3.org/2000/svg\" height=\"24px\" viewBox=\"0 -960 960 960\">\n",
              "    <path d=\"M120-120v-720h720v720H120Zm60-500h600v-160H180v160Zm220 220h160v-160H400v160Zm0 220h160v-160H400v160ZM180-400h160v-160H180v160Zm440 0h160v-160H620v160ZM180-180h160v-160H180v160Zm440 0h160v-160H620v160Z\"/>\n",
              "  </svg>\n",
              "    </button>\n",
              "\n",
              "  <style>\n",
              "    .colab-df-container {\n",
              "      display:flex;\n",
              "      gap: 12px;\n",
              "    }\n",
              "\n",
              "    .colab-df-convert {\n",
              "      background-color: #E8F0FE;\n",
              "      border: none;\n",
              "      border-radius: 50%;\n",
              "      cursor: pointer;\n",
              "      display: none;\n",
              "      fill: #1967D2;\n",
              "      height: 32px;\n",
              "      padding: 0 0 0 0;\n",
              "      width: 32px;\n",
              "    }\n",
              "\n",
              "    .colab-df-convert:hover {\n",
              "      background-color: #E2EBFA;\n",
              "      box-shadow: 0px 1px 2px rgba(60, 64, 67, 0.3), 0px 1px 3px 1px rgba(60, 64, 67, 0.15);\n",
              "      fill: #174EA6;\n",
              "    }\n",
              "\n",
              "    .colab-df-buttons div {\n",
              "      margin-bottom: 4px;\n",
              "    }\n",
              "\n",
              "    [theme=dark] .colab-df-convert {\n",
              "      background-color: #3B4455;\n",
              "      fill: #D2E3FC;\n",
              "    }\n",
              "\n",
              "    [theme=dark] .colab-df-convert:hover {\n",
              "      background-color: #434B5C;\n",
              "      box-shadow: 0px 1px 3px 1px rgba(0, 0, 0, 0.15);\n",
              "      filter: drop-shadow(0px 1px 2px rgba(0, 0, 0, 0.3));\n",
              "      fill: #FFFFFF;\n",
              "    }\n",
              "  </style>\n",
              "\n",
              "    <script>\n",
              "      const buttonEl =\n",
              "        document.querySelector('#df-0a58aa1e-9083-4461-bb00-941e85311298 button.colab-df-convert');\n",
              "      buttonEl.style.display =\n",
              "        google.colab.kernel.accessAllowed ? 'block' : 'none';\n",
              "\n",
              "      async function convertToInteractive(key) {\n",
              "        const element = document.querySelector('#df-0a58aa1e-9083-4461-bb00-941e85311298');\n",
              "        const dataTable =\n",
              "          await google.colab.kernel.invokeFunction('convertToInteractive',\n",
              "                                                    [key], {});\n",
              "        if (!dataTable) return;\n",
              "\n",
              "        const docLinkHtml = 'Like what you see? Visit the ' +\n",
              "          '<a target=\"_blank\" href=https://colab.research.google.com/notebooks/data_table.ipynb>data table notebook</a>'\n",
              "          + ' to learn more about interactive tables.';\n",
              "        element.innerHTML = '';\n",
              "        dataTable['output_type'] = 'display_data';\n",
              "        await google.colab.output.renderOutput(dataTable, element);\n",
              "        const docLink = document.createElement('div');\n",
              "        docLink.innerHTML = docLinkHtml;\n",
              "        element.appendChild(docLink);\n",
              "      }\n",
              "    </script>\n",
              "  </div>\n",
              "\n",
              "\n",
              "<div id=\"df-6dbaf65c-df1f-4dcf-b226-947cfb41a11d\">\n",
              "  <button class=\"colab-df-quickchart\" onclick=\"quickchart('df-6dbaf65c-df1f-4dcf-b226-947cfb41a11d')\"\n",
              "            title=\"Suggest charts\"\n",
              "            style=\"display:none;\">\n",
              "\n",
              "<svg xmlns=\"http://www.w3.org/2000/svg\" height=\"24px\"viewBox=\"0 0 24 24\"\n",
              "     width=\"24px\">\n",
              "    <g>\n",
              "        <path d=\"M19 3H5c-1.1 0-2 .9-2 2v14c0 1.1.9 2 2 2h14c1.1 0 2-.9 2-2V5c0-1.1-.9-2-2-2zM9 17H7v-7h2v7zm4 0h-2V7h2v10zm4 0h-2v-4h2v4z\"/>\n",
              "    </g>\n",
              "</svg>\n",
              "  </button>\n",
              "\n",
              "<style>\n",
              "  .colab-df-quickchart {\n",
              "      --bg-color: #E8F0FE;\n",
              "      --fill-color: #1967D2;\n",
              "      --hover-bg-color: #E2EBFA;\n",
              "      --hover-fill-color: #174EA6;\n",
              "      --disabled-fill-color: #AAA;\n",
              "      --disabled-bg-color: #DDD;\n",
              "  }\n",
              "\n",
              "  [theme=dark] .colab-df-quickchart {\n",
              "      --bg-color: #3B4455;\n",
              "      --fill-color: #D2E3FC;\n",
              "      --hover-bg-color: #434B5C;\n",
              "      --hover-fill-color: #FFFFFF;\n",
              "      --disabled-bg-color: #3B4455;\n",
              "      --disabled-fill-color: #666;\n",
              "  }\n",
              "\n",
              "  .colab-df-quickchart {\n",
              "    background-color: var(--bg-color);\n",
              "    border: none;\n",
              "    border-radius: 50%;\n",
              "    cursor: pointer;\n",
              "    display: none;\n",
              "    fill: var(--fill-color);\n",
              "    height: 32px;\n",
              "    padding: 0;\n",
              "    width: 32px;\n",
              "  }\n",
              "\n",
              "  .colab-df-quickchart:hover {\n",
              "    background-color: var(--hover-bg-color);\n",
              "    box-shadow: 0 1px 2px rgba(60, 64, 67, 0.3), 0 1px 3px 1px rgba(60, 64, 67, 0.15);\n",
              "    fill: var(--button-hover-fill-color);\n",
              "  }\n",
              "\n",
              "  .colab-df-quickchart-complete:disabled,\n",
              "  .colab-df-quickchart-complete:disabled:hover {\n",
              "    background-color: var(--disabled-bg-color);\n",
              "    fill: var(--disabled-fill-color);\n",
              "    box-shadow: none;\n",
              "  }\n",
              "\n",
              "  .colab-df-spinner {\n",
              "    border: 2px solid var(--fill-color);\n",
              "    border-color: transparent;\n",
              "    border-bottom-color: var(--fill-color);\n",
              "    animation:\n",
              "      spin 1s steps(1) infinite;\n",
              "  }\n",
              "\n",
              "  @keyframes spin {\n",
              "    0% {\n",
              "      border-color: transparent;\n",
              "      border-bottom-color: var(--fill-color);\n",
              "      border-left-color: var(--fill-color);\n",
              "    }\n",
              "    20% {\n",
              "      border-color: transparent;\n",
              "      border-left-color: var(--fill-color);\n",
              "      border-top-color: var(--fill-color);\n",
              "    }\n",
              "    30% {\n",
              "      border-color: transparent;\n",
              "      border-left-color: var(--fill-color);\n",
              "      border-top-color: var(--fill-color);\n",
              "      border-right-color: var(--fill-color);\n",
              "    }\n",
              "    40% {\n",
              "      border-color: transparent;\n",
              "      border-right-color: var(--fill-color);\n",
              "      border-top-color: var(--fill-color);\n",
              "    }\n",
              "    60% {\n",
              "      border-color: transparent;\n",
              "      border-right-color: var(--fill-color);\n",
              "    }\n",
              "    80% {\n",
              "      border-color: transparent;\n",
              "      border-right-color: var(--fill-color);\n",
              "      border-bottom-color: var(--fill-color);\n",
              "    }\n",
              "    90% {\n",
              "      border-color: transparent;\n",
              "      border-bottom-color: var(--fill-color);\n",
              "    }\n",
              "  }\n",
              "</style>\n",
              "\n",
              "  <script>\n",
              "    async function quickchart(key) {\n",
              "      const quickchartButtonEl =\n",
              "        document.querySelector('#' + key + ' button');\n",
              "      quickchartButtonEl.disabled = true;  // To prevent multiple clicks.\n",
              "      quickchartButtonEl.classList.add('colab-df-spinner');\n",
              "      try {\n",
              "        const charts = await google.colab.kernel.invokeFunction(\n",
              "            'suggestCharts', [key], {});\n",
              "      } catch (error) {\n",
              "        console.error('Error during call to suggestCharts:', error);\n",
              "      }\n",
              "      quickchartButtonEl.classList.remove('colab-df-spinner');\n",
              "      quickchartButtonEl.classList.add('colab-df-quickchart-complete');\n",
              "    }\n",
              "    (() => {\n",
              "      let quickchartButtonEl =\n",
              "        document.querySelector('#df-6dbaf65c-df1f-4dcf-b226-947cfb41a11d button');\n",
              "      quickchartButtonEl.style.display =\n",
              "        google.colab.kernel.accessAllowed ? 'block' : 'none';\n",
              "    })();\n",
              "  </script>\n",
              "</div>\n",
              "\n",
              "    </div>\n",
              "  </div>\n"
            ],
            "application/vnd.google.colaboratory.intrinsic+json": {
              "type": "dataframe",
              "variable_name": "df_test",
              "summary": "{\n  \"name\": \"df_test\",\n  \"rows\": 10000,\n  \"fields\": [\n    {\n      \"column\": \"clean_review\",\n      \"properties\": {\n        \"dtype\": \"string\",\n        \"num_unique_values\": 9981,\n        \"samples\": [\n          \"what a terrible movie this was i made it about 50 minutes into it and started skipping chapters until the end the plot is nothing special and the dialog from the movie deviates from the main story so much that your head will explode out of rage many useless minutes wasted just listening to characters jabber on about something irrelevant to the plot and or something that could said in a shorter amount of time the camera work is shaky and grainy it seemed mr milligan needed to take his finger off of the zoom button i noticed also that at some points during this movie it seemed that andy was having seizures and would uncontrollably shake the camera the splices between scenes were jumpy and didn t flow the murder scenes were nothing special incredibly and laughably fake barely any gore as the title suggests this movie runs about 1 hour 20 minutes and the murder scenes take up about 1 minute total of the whole movie if that what a wretched piece of garbage this movie was andy milligan is in fact probably one of the worst directors to plague mankind with his talentless directing and camera work usually i can make it through really bad horror movies and laugh about it later bloodthirsty butchers however i can t i am just angry i wasted an hour and a half of my life watching this what i wouldn t do to gain it back take my suggestion and do not see this movie unless you plan on falling asleep terrible\",\n          \"she s not michael jordan br br think of all the marvelous nba players whose career light has been dimmed for no other good reason than the timing of their birth their names might trip as easily off the public s lips as russell cousy byrd magic mchale oscar wilt the list goes on but the volume gets turned down a little for stockton and malone charles patrick and all the other great players who always lost the headlines to michael br br i ve seen it written that gretchen mol s career flamed out in the wake of the cover article in the 1998 vanity fair issue which predicted inevitable superstardom for ms mol it was later said that she had been over hyped i disagree br br i still remember that for some time after i saw the devil s advocate in 97 or 98 i would get confused as to which actress played mary ann lomax was it mol or theron oh yeah charlize theron was the one in 2 days in the valley and mighty joe young and gretchen mol was in donnie brasco celebrity and rounders br br by the time i had seen the thirteenth floor mol and sweet november theron i pretty much had them straightened out but i still put them in the same mental file drawer both were highly talented had sweet faces similar body types short blonde hair and so on br br theron though was offered more work i loved her as sara deever and as adele invergordon her beauty was downright intimidating br br in 2003 monster was released and from that point until the handing of the oscar itself all of filmdom knew who the best actress award was going to and deservedly so theron was aileen wuornos the only way to get a more accurate understanding of what made the real aileen wuornos tick would be to somehow replay the digital video trapped in selby s head and for a major talent to make herself that physically unattractive unheard of br br then in 2005 the notorious bettie page was released mol s performance was extraordinary maybe she was standing in the shadow of ms theron it was like the ballroom for the victory celebration for the losing presidential candidate nobody came and nobody cared it was viewed as a continuation of an old tale once promising actress with a declining career does a nudie part in a b movie ho hum no no no wrong no matter what you may think of the film and i enjoy films about the fifties if you pass on this one you ll be missing one of the better performances of that year ms moll was every bit as much bettie as ms theron was aileen unfortunately aileen to the film going public is the more sympathetic character for whatever reason an amoral sociopathic killer is less embarrassing to us than a na ve unsophisticated uninhibited religious girl whose most capital crime was to live her life totally trusting and completely exposed bettie page was one of the icons of the fifties her photos and films never sexual never pornographic but she presented as a near caricature of all things kinky there was no sense of realism only parody ms moll captured the very essence of the character she gained 20 pounds to add some zaftig to her normally slim figure and when she posed for various photographers in the film her body was bettie s her full frontal lack of any inhibitions accurately fits everything which has been published about bettie cinematic nudity normally depicts eroticism or sexuality in this film it s all about innocence seeing gretchen bettie nude didn t make me want to jump her but instilled a desire to protect her from all the horrors that people can inflict on each other if you pass on this film you ll be missing out on one of the best performances of recent years by the way shame on the mpaa for giving this an r rating\",\n          \"oh where the hell should i begin give a brief summary of the story no either you ve already heard it or don t want to either way it sucks much like the movie i happen to be a semi large horror movie aficionado and i must say this is one of the dumbest and most clumsily executed movies i ve ever had the displeasure of viewing br br the script is horrendously stupid the story starts too fast with absolutely no suspense or build up in the slightest all of those torture scenes would have been a lot more effective if we gave even the tiniest bit of crap for the characters since the first scene in the film is when the teenage girls meet capt howdy how the hell are we supposed to sympathize with them first off they seem stupid for going to a party with a guy they don t even know and second we don t even know their damn names why the hell should i care if they live or die not to mention the fact that they actually have the guts to try and make us feel sympathetic towards capt howdy after he s been reformed please i was cheering when he got his just deserts he deserved them hell he deserved worse also we re forced to sit through a pointless misdirect sequence lifted directly from the silence of the lambs and here it s done horribly of course he s gonna give them a false address and even if he had given them the real one don t you think he d be waiting and not piercing some guy s johnson upstairs retarded br br then there s the dialogue everything captain howdy says is either laughable or just plain stupid the dead are so dreadfully dead when they re dead what the hell kind of crap is that dee snider at one point says knowledge is power well if that s true this film has absolutely no power whatsoever br br then there s the plot holes yes i know this is a horror film well wannabe horror film but damn you could drive a semi truck into these holes first off these have got to be the dumbest cops i have ever seen ever i mean dear god these guys are morons call for backup idiots second how the hell did that humungous septum ring fall out of captain howdy s nose evidentially this piercing expert guy says that s the biggest one i ve ever seen but if it s so damn big how the hell could it have fallen out so easily did capt howdy just leave it at the crime scene because he wanted to get caught they sure didn t make it seem like he did also they would never release capt howdy and i know that for a damn fact he would be in jail for the rest of his life and there s no getting around this much less let him return to his old house where he killed tortured everybody impossible and implausible br br and now the acting dear god did these people suck linda cardellini is the only thing good in this film she s poised and amazing too bad she hardly gets a good chance to act in this piece of crap amy smart shows up for about 10 minutes and then drops out of existence even the usually entertaining robert englund is underused and ineffective here dee snider plays the crazy guy with no talent whatsoever i never felt threatened scared or intimidated i d rather have seen dee snider in alexis arquette s role in bride of chucky it would have been so much more fun to see this talent less hack get it by that lovable psycho doll br br dee snider just plain sucks he can t act one of the least scary villains i have ever seen he can t write did he write this damn movie in his sleep and he s obviously dumber than freaking jessica simpson this film is just a way for dee snider to show off all the weird crap he knows about self mutilation and modern primitives and blah blah blah either it s been done before or it just didn t need to be done i was bored throughout the whole damn thing br br the acting sucks the music sucks the script sucks the pacing sucks the special fx suck the directing sucks basically this movie sucks this film tries to be a serious and sophisticated thriller horror flick and it fails miserably it doesn t manage to scare shock or disturb in any shape way or form this is probably one of the least effective and utterly unoriginal films i have ever seen in my entire life a piece of cinematic garbage captured on celluloid br br strangeland gets a 0 out of 10 avoid at any and all costs not enjoyable in the slightest\"\n        ],\n        \"semantic_type\": \"\",\n        \"description\": \"\"\n      }\n    },\n    {\n      \"column\": \"label\",\n      \"properties\": {\n        \"dtype\": \"number\",\n        \"std\": 0,\n        \"min\": 0,\n        \"max\": 1,\n        \"num_unique_values\": 2,\n        \"samples\": [\n          1,\n          0\n        ],\n        \"semantic_type\": \"\",\n        \"description\": \"\"\n      }\n    }\n  ]\n}"
            }
          },
          "metadata": {},
          "execution_count": 49
        }
      ],
      "source": [
        "df_test = df_test[[\"clean_review\", \"label\"]]\n",
        "df_test.head()"
      ]
    },
    {
      "cell_type": "code",
      "execution_count": 50,
      "id": "olive-python",
      "metadata": {
        "id": "olive-python",
        "colab": {
          "base_uri": "https://localhost:8080/"
        },
        "outputId": "922e867a-da46-4d53-8a6b-faab613e0b90"
      },
      "outputs": [
        {
          "output_type": "execute_result",
          "data": {
            "text/plain": [
              "clean_review    0\n",
              "label           0\n",
              "dtype: int64"
            ]
          },
          "metadata": {},
          "execution_count": 50
        }
      ],
      "source": [
        "# check missing values\n",
        "df_test.isna().sum()"
      ]
    },
    {
      "cell_type": "code",
      "execution_count": 51,
      "id": "stainless-thing",
      "metadata": {
        "id": "stainless-thing"
      },
      "outputs": [],
      "source": [
        "# convert testing dataset into tensorflow dataset format\n",
        "\n",
        "test_dataset = (\n",
        "    tf.data.Dataset.from_tensor_slices(\n",
        "        (\n",
        "            tf.cast(df_test[\"clean_review\"].values, tf.string),\n",
        "            tf.cast(df_test['label'].values, tf.int32)\n",
        "        )\n",
        "    )\n",
        ")\n",
        "\n",
        "# creeate batches in test dataset\n",
        "test_dataset = test_dataset.batch(BATCH_SIZE).prefetch(tf.data.AUTOTUNE)\n"
      ]
    },
    {
      "cell_type": "code",
      "execution_count": 52,
      "id": "sunrise-creativity",
      "metadata": {
        "id": "sunrise-creativity",
        "colab": {
          "base_uri": "https://localhost:8080/"
        },
        "outputId": "80534bbf-fbb5-46dc-cac3-be5cd8778cea"
      },
      "outputs": [
        {
          "output_type": "stream",
          "name": "stdout",
          "text": [
            "example :  [b'first off i want to say that i lean liberal on the political scale and i found the movie offensive i managed to watch the whole doggone disgrace of a film this movie brings a low to original ideas yes it was original thus my 2 stars instead of 1 are our film writers that uncreative that they can only come up with this acting was horrible and the characters were unlikeable for the most part the lead lady in the story had no good qualities at all they made her bf into some sort of a bad guy and i did not see that at all maybe i missed something i do not know he was the most down to earth relevant character in the movie i did not shell out any money for this garbage i almost wish peta would come to the rescue of this awful offensive movie and form a protest disgusting thats all i have to say anymore'\n",
            " b'i was excited to see a sitcom that would hopefully represent indian candians but i found this show to be not funny at all the producers and cast are probably happy to get both bad and good feed back because as far as they are concerned it s getting talked about i was ready for some stereotyping and have no problem with it because stereotypes exist for a reason they are usually true but there really wasn t anything funny about these stereotypical characters the fresh of the boat dad who doesn t understand his daughter the radical feminist muslim daughter who by the way is a terrible actress and the young modern indian man trying to run his mosque as politically correct as he can he s a pretty good actor i only see him getting better br br it is very contrived and the dialog doesn t flow that well there was so much potential for something like this but sadly i think it failed and don t really care to watch another episode br br i did however enjoy watching a great canadian actress sheila mccarthy again she s always a treat and a natural at everything she does too bad her daughter in the show doesn t have the same acting abilities'\n",
            " b'when you look at the cover and read stuff about it an entirely different type of movie comes to mind than what you get here then again maybe i read the summary for the other movie called mausolem instead as there were two movies of this title released about the same time with both featuring plots that had key elements in common however reading stuff about that movie here i know i saw this one and not that one and that movie is even less what one would imagine a movie with that title would be about i will be honest i expect more of a zombie type picture and you get that in this movie to some degree however there is more stuff involving the occult and strange powers as the opening scene of the people being taken away by the coroner at the beginning of the film will attest to the movie also has the old theme of kids going somewhere they do not belong to have some crazy party in this case it is in fact a mausoleum the other movie i do not think really has that key feature playing that prominent role in the movie and i see the score for this one is higher too still it was just not the movie i was expecting'\n",
            " b'like many others i counted on the appearance of dennis hopper to make this not a complete waste of time i was sadly mistaken everything negative said about this flic is more than true what takes the cake however is the horrible horrible storyline for the main character br br here s why the planet might be destroyed the only way to recover from it for the entire human race to be saved trough it is to get as many smart capable nice competent people into an underground hide out and dennis hopper is the lone seer scientist with vision who was prepared for the worst and who has realized this but what s the main motivation of stevens sonny d angelo he s angry because dennis has decided who is to be saved or to be doomed while it clearly explained to stevens that dennis character has done everything to warn people of the danger but that he was laughed at the hopper character was the boy with the finger in the dike and now stevens is blaming him for picking and choosing and if that isn t enough he wants to stop everybody from entering this hideout because it isn t fair and he s responsible for the death of the one guy who is humanity s saviour oh my god how stupid can you get br br what s also maddening that imdb forces one to write minimal ten lines about this piece of crap i mean two million in budget what could have been done with that think clerks blair witch and lotsa other movies who have been made for under 100 000 dollars and were still better aaaaargh i count myself lucky that i didn t pay one penny to see this crap and to sit through the end of this utter ber crap is one the most heroic things i ve done this year it s no wonder that the writers of this pile of dung had jobs as camera operator and title designer before'\n",
            " b'this movie was on t v the other day and i didn t enjoy it at all the first george of the jungle was a good comedy but the sequel completely awful the new actor and actress to play the lead roles weren t good at all they should of had the original actor brendon fraiser and original actress i forgot her name so this movie gets the 0 out of ten rating not a film that you can sit down and watch and enjoy this is a film that you turn to another channel or take it back to the shop if hired or bought it was good to see ape the ape back but wasn t as fun as the first they should of had the new george as georges son grown up and still had bredon and whats her face in the film that would ve been a bit better then it was'\n",
            " b'hickory dickory dock was a good poirot mystery i confess i have not read the book despite being an avid agatha christie fan the adaptation isn t without its problems there were times when the humour and there were valiant attempts to get it right was a little overdone and the events leading up to the final solution were rather rushed i also thought there were some slow moments so some of the mystery felt padded however i loved how hickory dickory dock was filmed it had a very similar visual style to the brilliant abc murders and it really set the atmosphere what with the dark camera work and dark lighting the darker moments were somewhat creepy this was helped by one of the most haunting music scores in a poirot adaptation maybe not as disturbing as the one in one two buckle my shoe which gave me nightmares the plot is complex with all the essential ingredients though not as convoluted as buckle my shoe and in some way that is a good thing the acting was very good david suchet is impeccable i know i can t use this word forever but i can t think of a better word to describe his performance in the series as poirot and phillip jackson and pauline moran do justice to their integral characters brilliantly and the students had great personalities and well developed on the whole particularly damian lewis as leonard all in all solid mystery but doesn t rank along the best 7 5 10 bethany cox'\n",
            " b'one crazy summer is the funniest craziest not necessarily the best movie i have ever seen br br just when one crazy scene is done another emerges it never lets you rest just one thing after another the soundtrack is great the songs are the right ones for the scenes br br it is also a clean movie little that is dirty in it br br of course it has the story of the guys you wouldn t trust with your lunch money taking up a challenge and winning over people with more resources who d want to see it if they failed there is a serious side in that parents and children do not live up to each others dreams one should always have an open mind and weigh all the options this applies both to parents and children in one crazy summer the parents are wrong this is not always the case'\n",
            " b'low budget schlockmeister herschell gordon lewis reaches a new low even for him with the gore gore girls a film snicker that possesses all of his technical trademarks badly recorded sound poor lighting and ott gore this would be tolerable even a bit charming if the film at least had an interesting plot blood feast in all its ridiculous glory is a fine example but girls is a total snooze completely unlikable pompous ass private investigator abraham gentry frank kress is recruited by a newspaper reporter to find out who s been murdering out of shape strippers you ll stop caring who the culprit is long before these two are wrapping up the case as before the appeal isn t the plot but the creative methods of bloodletting including a girl s fanny being tenderized with a wooden mallet and the occasional flashes of then risqu skin but this just isn t enough to elevate the material above tedium'\n",
            " b'this was absolutely the most tragic pile of cinema to which i have ever born witness not only was the name a complete misnomer since the film has next to nothing to do with piranhas but the acting is as hollow and stale as the attempt to actually make some kind of plot when you watch this film you cannot help but spend every waking second questioning when you ve had enough and it s time to turn it off unfortunately i waited until the end in my case that s two hours of my life that i will never be able to reclaim'\n",
            " b'i have never understood the appeal of this show the acting is poor debra jo rupp being a notable exception the plots of most episodes are trite and uninspiring the dialogue is weak the jokes unfunny and it is painful to try and sit through even half an episode furthermore the link between this show and the 70s is extremely tenuous beyond the style of dress and the scenery and background used for the show it seems to be nothing more than a modern sitcom with the same old unfunny clich d scripts that modern sitcoms have dressed up as depicting a show from twenty years ago in the hope that it will gain some nostalgic viewers or something like that both happy days and the wonder years employ the same technique much more effectively and are actually a pleasure to watch in contrast to this horrible pathetic excuse for a show'\n",
            " b'mr bug goes to town was the last major achievement the fleischer studios produced the quality of the superman series produced at the same time is evident in this extraordinary film br br the music and lyrics by frank loesser and hoagy carmichael with assistance by flieshcer veteran sammy timberg are quite good but not as much as the scoring of the picture by leigh harline who also scored snow white for disney harline s atmospheric music is superb and a treat for the ears br br the layout and staging of the picture was years ahead of it s time and once again the fleischer s background artists outdid themselves the techincolored beauty of the film cannot be denied and while hoppity the grasshopper is the star the characters of swat the fly and smack the mosquito steal the picture swat s voicing by jack mercer of popeye fame is priceless kenny gardner brother in law of guy lombardo and a featured vocalist in his band does his usual pleasant job in the role of dick dickinsen br br the movie has been criticized for all the wrong reasons the fleischer studios were animation experts par excellence and this shows very clearly in the finished product the movie is tuneful the story great for all ages and the final scenes of the bugs scrambling for their lives upon a rising skyscraper is some of the best staging and animation of any animated film past and present br br do not miss this wonderfully hand drawn film also don t fail to appreciate the title sequence with the most elaborate example of max fleischer s remarkable 3 d sterioptical process which took four months to construct and employed 16 000 tiny panes of glass in the electrified buildings of manhattan br br do not miss mr bug goes to town aka hoppity goes to town i ll wager you ll be bug eyed at the results'\n",
            " b'this is one of my two or three favorite stooges shorts and undoubtedly christine mcintyre s best performance with the trio she is good in a number of other shorts but here she is absolutely brilliant her singing is not funny at all in fact it is downright beautiful but the plot is constructed in such a way that the singing enhances the humor rather than detracting from it we listen to mcintyre sing the entirety of voice of spring no less than three times but it never gets old partly because we don t tire of her voice and partly because it blends so well with the stooges antics the use of operatic soprano in a comedy is reminiscent of kitty carlisle s role in the marx brothers a night at the opera but the singing is much more a part of the comedy here than in opera and mcintyre perhaps more in other performances than here exhibited a comedic talent of her own that carlisle never did the stooges buffoonery mcintyre s singing and a well constructed plot combine for 5 out of 5 stars'\n",
            " b'this is supposed to be based on wilkie collins the woman in white but the only resemblance it bore to that story were the characters names the time period and the settings if they were going to change the story so thoroughly i don t understand why they needed to keep up the pretense that it came from wilkie collins go read the book it s much better'\n",
            " b'of all the british imperialist movies like four feathers charge of the light brigade for example this movie stands out as the cream of the crop it reflects a time when the sun never set on the british empire get over it i won t go into why because so many others have expressed the many reasons that makes this film great i have visited the alabama hills and have photographed the pass through which the british marched and it remains as it was unchanged by time and encroachment by man and vandals and even though i know it s coming seeing din lying dead on a stretcher and when these lines are read br br yes din din din br br you lazarushian leather gunga din br br though i ve belted you and flayed you br br by the livin gawd that made you br br you re a better man than i am gunga din br br i still at 54 years of age get misty eyed and anyone who says they don t is a liar the range of emotions within it is the mark of a great movie like the ending of another great film of mice and men'\n",
            " b'james cagney racketeer and political ward heeler get to become a deputy commissioner of corrections and visits a boys reform school the catch is that cagney is not in it for the graft he genuinely wants to make a difference in the lives of the kids there because he comes from a background like their s br br the villain of the piece is dudley digges who is a grafting chiseler and a sanctimonious hypocrite to boot one of the subtexts of the plot of the mayor of hell is that these kids are mostly immigrants and those that judge them and are in positions of power are those who are here a few generations note in the mess hall scene as digges offers a prayer of thanks for the food they are about to receive digges is eating well but the kids are getting quality you wouldn t feed to your pet br br cagney has his own troubles back in the city with some of his henchmen and he has to take it on the lam that puts digges back in charge and setting up the film for it s climax br br the mayor of hell was a typical product from the working class studio and because it was pre code it gets pretty gruesome at times a later version of this crime school with humphrey bogart and the dead end kids was a more sanitized remake br br although cagney is fine in the lead role as is madge evans the school nurse the acting honors go to dudley digges hard to believe that the same man could portray the drunken but kindly one legged ship s surgeon in mutiny on the bounty but digges is a fine player and a joy to watch in every film he s in br br this film is not shown to often because of the racial and ethnic stereotypes it portrays a whole lot of minorities would be offended today still it s a fine film br br interestingly enough a few years ago the film sleepers came out and it touched on some of the same issues i guess films about reform schools don t change in any time'\n",
            " b'i loved this film not being a swooning ed wood jr fan i prefer to appreciate his boundless enthusiasm and acknowledge his shortcomings his movies are fun but his personal story is one racked with pain i hoped and was delighted to find that this film would be about understanding his turbulent life rather than simply heaping him with posthumous praise from beginning to end this film evolves from a documentary into a mythology leaving the cast and the viewer unexpectedly connected to each other and to ed wood jr br br what we get are people who knew ed wood the best talking about him from all perspectives positive and negative and showing us their character as much as ed s we get insight into ed s personal and professional life from his romances to his drinking to his sexuality to his friends to his enemies and even to his film making br br the film itself is shot in a low budget way that seems done out of respect for ed as if using the techniques of most theatrically released movies from 1996 would be disrespectful sort of like wearing a nicer suit than the president the set designer uses a sense of humor and also a great deal of insight when matching each cast member with their background br br fans will be excited to hear personal testimony regarding ed wood controversies and new comers will be amazed that this man was real the dvd is full of impossible to find gems crossroads of lorado and photo galleries but the real treasure of this film is the surprisingly engaging and interconnected story br br ed wood had a habit of defining people through their association with him for better or worse to the point where one woman will go down in history as swimming pool owner for once letting him and his friends be baptized in her pool this ability to define a person s legacy comes through universally as the most amazing effect of the film is to not only give a well rounded idea of the man that was ed wood jr but also to give a comprehensive view of the community that he created somehow without ever having more that one cast member being interviewed on screen at a time the connection that ed wood created amongst the various people in his life becomes clear and the viewer is left with great sense of involvement br br even the title hints at the b list horror genre but by the end we see that even this is a kindness what begins as unrelated stories by random people ends with the conclusion that all of the cast will be forever weaved into an unpredictably cohesive fabric that history will bring into haunting unity with wood s legend br br in many ways a living contradiction ed wood jr could not be condensed to a single viewpoint this collaborative effort is the closest to knowing him that we can ever get being itself a juxtaposition of themes it is at once respectful provocative thoughtful gripping fun sad kind and fulfilling'\n",
            " b'having already seen the original jack frost i never thought that jack frost 2 would be as absurd as it is boy was i wrong then again a pix movies have a way of showing unbelievably bad material even worse than you might expect i believe this is the first a pix sequel and it may be an indication of what to expect in the future more a pix sequels br br it s hard to watch this without laughing especially during the later parts of the movie in which jack frost s offspring which are essentially snowballs with eyes arms a mouth and sharp teeth start killing people with the typical comedic dialogue and silly voices to go with it they are shown both as puppets with a stick underneath to move them and as computer animation which i have to say looks very cheesy the computer animation surprised me as the first jack frost had no such effects br br i d strongly recommend that you see the original jack frost before seeing this one both of which it would be preferable to watch with a group of friends to get the full amusement out of it and because it would make more sense sense being a relative term br br now only if there was uncle sam 2'\n",
            " b'i had been subjected to this movie for a relationship class in my school as figured it was nothing captivating and nothing new though it tries to be original by focusing on the teen father instead of the mother showing the problems that the dad would go through it had an interesting side to it but it just doesn t live up to its originality due to the fact nothing else in this movie was original we have the main character who has the older sister who like in every other movie like this has a thing against him we have the stay at home mother who expects too much and when he gives more she feels offended and leaves him in the dust then we have the father who is always gone then the girls side we have the parents who want everything and expect her to be perfect at all she does on to the story like i said it was interesting but the lack of good acting from the entire cast and the lack of any good writing or storytelling everything about this fell into clich the little nerd kid in school starts studying with girl they get together have sex and then boom we have a little kid perhaps it could ve been better had the writing been well better and had the acting been improved i ve seriously gotten more emotion out of leatherface and his chainsaw than i did out of any actor in this film and that s pretty bad seeing as the leatherface movies are crap and horridly acted so far the only interesting teen pregnancy movie i ve seen was juno so far the comical side of this serious situation has proved more entertaining while still giving the same message like i said the idea was original most of these films focus on the teen mother but this one chose not to instead it focuses on the drama of the father but again the originality does not save this movie from mediocrity i really hope someone decides to either re make this movie with a better cast and a better writer or just make another similar film because this one was wasted potential'\n",
            " b'this movie is stuffed full of stock horror movie goodies chained lunatics pre meditated murder a mad vaguely lesbian female scientist with an even madder father who wears a mask because of his horrible disfigurement poisoning spooky castles werewolves male and female adultery slain lovers tibetan mystics the half man half plant victim of some unnamed experiment grave robbing mind control walled up bodies a car crash on a lonely road electrocution knights in armour the lot all topped off with an incredibly awful score and some of the worst foley work ever done br br the script is incomprehensible even by badly dubbed spanish horror movie standards and some of the editing is just bizarre in one scene where the lead female evil scientist goes to visit our heroine in her bedroom for one of the badly dubbed that is fantastical i do not understand explain to me again how this is exposition scenes that litter this movie there is a sudden hand held cutaway of the girl s thighs as she gets out of bed for no apparent reason at all other than to cover a cut in the bad scientist s mwahaha all your werewolfs belong mine speech though why they went to the bother i don t know because there are plenty of other jarring jump cuts all over the place even allowing for the atrocious pan and scan of the print i saw br br the director was according to one interview with the star drunk for most of the shoot and the film looks like it it is an incoherent mess it s made even more incoherent by the inclusion of werewolf rampage footage from a different film the mark of the wolf man made 4 years earlier featuring the same actor but playing the part with more aggression and with a different shirt and make up is there a word in spanish for continuity and more padding of another actor in the wolfman get up ambling about in long shot br br the music is incredibly bad varying almost at random from full orchestral creepy house music to bosannova to the longest piano and gong duet ever recorded thinking about it it might not have been a duet it might have been a solo the piano part was so simple it could have been picked out with one hand while the player whacked away at the gong with the other br br this is one of the most bewilderedly trance state inducing bad movies of the year so far for me enjoy br br favourite line ilona this madness and perversity will turn against you how true br br favourite shot the lover discovering his girlfriend slain dropping the candle in a cartoon like demonstration of surprise rank amateur directing there'\n",
            " b'there are times when finishing a film one wishes to have a refund for the time just spent this was one of those times i almost gave up with only 15 minutes left to endure and i wish i had br br the pace that a man goes from a straight laced controlled life to one of complete spinelessness and irresponsibility could never be this rapid br br from a graduation celebration to the predictable ending tristan price jesse metcalfe man of privilege and culture allows himself to be seduced by a woman by violence and by mind altering substances of course the woman part is understandable when observing the talents of the beautiful april nathalie kelley but the in for a penny in for a pound aspect of the drugs violence and dedication to a person he has just met is impossible to understand br br frankly besides being able to stare at nathalie kelley and monica keena this film has no redeeming qualities save your money save your time do anything else'\n",
            " b'another film to punish us for the crime of enjoying pulp fiction br br if you like watching people get killed by machine gun fire for an hour and a half this ll probably fit the bill fans of the debut episode of aeon flux wherein the title character slays literally thousands of seemingly faceless soldiers single handedly will really go for it br br otherwise it s not exactly a clever movie in fact all it is is an excuse for a bunch of young people to act rude and shoot people sometimes an entire scene goes by and the only thing that happens is you guessed it someone gets shot or to spice things up twenty people get shot first they re just sitting there the next minute they re sitting there dead yahoo br br rough plot a young american goes to paris an american in paris get it hires a prostitute the ethereal julie delpy gets in touch with some old french buddies one of which has aids they plan and attempt a bank heist of course movie convention states that no bank robberies on film go off w o a hitch and this hitch takes up about three quarters of the running time it s like dog day afternoon without the sidney lumet s wit patience or humanity while at the bank things go wrong surprise and the parisian with aids goes wacko with his uzi several hundred times no spoilers here but suffice to say that you re at such an emotional distance from these characters that it s not likely you ll care who lives and who dies by the end of the film br br some have called it stylish perhaps it is but it s someone else s style it s a movie that s already been done and killing zoe is trapped by convention nowhere in the course of the movie does the director roger avary co winner of the pulp fiction screenplay oscar do anything really original stylish funky or outrageous unless you consider the fact that no movie that has taken place inside a bank has had such a high body count there isn t anything else to set this one apart from the multitude'\n",
            " b'when the romulans come they will not be bearing gifts no they bring with them war war and conquest as any familiar with this episode know it is a redux of the war film the enemy below from the fifties the obvious difference is that instead of a battleship and a submarine or an american destroyer german u boat engaged in lethal war games it is two starships in outer space in trek history about 100 years before the events here according to this episode earth fought the romulan wars after about 5 years of conflict a stalemate brought about a treaty and the institution of the neutral zone a boundary between us and the romulan empire now on this stardate the treaty appears to be broken as our outposts are being attacked and destroyed by some weapon of immense power yes the romulans are back testing their new war toy and kirk must now earn his pay he must make decisions that would affect this sector of the galaxy such as figuring out how to avoid a oh i dunno an interstellar war maybe br br i think what makes this episode so effective is that it doesn t shy away from the grim aspects of war as one would expect of a mere tv episode from the sixties especially an episode from a science fiction show it s all very tense and gripping like the best war films such as when kirk sits down with his key officers for what amounts to a war council the writers and the actors aren t kidding around here this is all preparation for a ghastly conflict potentially the beginning of another years long battleground in the final analysis kirk s aim is to keep this battleground to just the two ships but even then it s an endeavor fraught with peril and probable casualties in fact i believe this episode holds the record for ship casualties by the end of it right at the start of the episode we see the devastation such battle can produce in that supposedly well protected outpost then begin the cat and mouse war games between the enterprise and the romulan ship it s as exciting as any conflict we ve seen on the big screen of course if you re not into war films you d have to look for other things to admire in this episode br br what elevates this episode even further is the revelation of just what and who the romulans are it s an electric shock of a sort now we have even further inter crew conflict on the bridge of the enterprise war does tend to bring out the worst in some people due to still nasty attitudes about race in this future the tension is ratcheted up even further kirk has his hands full in this one i suppose the one weakness in the story is the convenient relenting of the bigotry issue by the conclusion on the romulan side actor lenard makes his first appearance in the trek universe as the romulan commander he s terrific in the role the flip side of capt kirk or capt pike take your pick done up to resemble spock more than a little surprisingly his character is not war hungry as we would expect another eye opener for this episode the actor would next return to this universe as sarek spock s father so he s nothing if not versatile it s also telling how the first appearance of such characters as the romulans is usually their best shot as it is here they showed up in the enterprise incident next'\n",
            " b'this was a movie that i had heard about all my life growing up but had never seen it until a few years ago it s reputation truly proceeded it i knew of michael myers had seen the mask saw commercials for all of the crummy sequels that followed but i was growing up during the decade where jason and freddy had a deadly grip on the horror game and never thought much of the halloween franchise boy how i was being cheated with cheap knock offs br br halloween is a genuinely terrifying movie now by today s standards it isn t as graphic and visceral but this film delivers on all the other levels most horror movies fail to achieve today the atmosphere that john carpenter creates is so creepy and the fact that it is set in a quaint mid west town is a testament to his ability the lighting effects are down right horrifying with the shape seemingly appearing and disappearing into the shadows at will the simple yet brutally effective music score only adds to the suspense br br the performances by all the players are well done with specific nods to jamie lee curtis and donald pleasance ms curtis is such a good laurie strode because she is so likable and vulnerable it is all the more frightening when she is being stalked by michael myers because the director and viewer have invested so much into her we want her to survive and get away br br donald pleasance plays dr loomis like a man on a mission and it works well he adds a sense of urgency to the predicament the town finds itself in because he knows what evil stalks their streets br br overall not only is halloween a great horror movie but also a great film it works on many levels and draws the audience in and never lets up this should be standard viewing for anyone wanting to experience a truly scary movie and for an even more frightful time try watching it alone with the lights off don t be surprised if you think you see the shape lurking around in the shadows'\n",
            " b'let me begin by saying that there is no bigger fan of the original lonesome dove than i both the pulitzer prize winning book and the towering mini series adapted from it stand alone in my experience as moving dramatic believable and engrossing works there is no comparison between lonesome dove and any western film at least not since the legendary collaborations of john ford and john wayne it was with real reservations that i sat down to watch this new mini series what with mcmurtry s non participation and the missing original cast members after watching the first episode it was clear that this is no lonesome dove in almost every measurable way this sequel falls short of the original but so what i wasn t expecting it to measure up taken as an effort of it s own this film is engaging entertaining and of a very good quality if it were done as a new story not as a sequel to lonesome dove there is no question in my mind that it would not have received as many negative ratings jon voight did a creditable job as call barbara hershey was a terrific clara and the new characters like gideon walker and agostina vega were well rendered and believable louis gossett jr deserves special mention as the horse wrangler isom pickett the film made me care about the characters and i don t ask any more than that from an actor it is unfortunate that this worthy effort stands in the shadow of it s predecessor it is worth viewing in it s own right'\n",
            " b'i wasn t really interested in seeing step up but my friend just kept bugging and bugging me to see this film especially since she is so in love with channing tatum i tease her constantly about it saying how that s the only reason why she loved the movie but she somehow convinced me that it was a movie worth seeing that if i loved movies like dirty dancing take the lead and save the last dance that i should love step up eh what the heck i guess every movie in some way has it s right to a view br br well you know those movies i just mentioned up top dirty dancing take the lead and save the last dance well put them in a blender with some gangsta love in it and that s what you have not to mention if you ve seen those movies well frankly you have seen step up because channing is lower class with street smarts who just naturally feels the music while that snobby up class girl must follow step by step how will they ever fall in love if they are so different after all this is their chance to step up to the passion the mystery and the lust of the dance br br ok that was a silly plot explanation but like i said as long as you ve seen those movies i mentioned or even if you just saw the plot you get the movie i don t understand how it actually has a 5 5 rating i bet it s those channing lovers lol i m kidding with you guys but it s all good i guess i just didn t get what others did with the passion the mystery that is the dance oh antonio bandares where are you when we need you br br 4 10'\n",
            " b'i haven t seen bsg i tried to watch it once in the middle of the show but couldn t get into it however i saw caprica rebirth yesterday i felt a little lost so i decided to watch the pilot today and i must say i was pleasantly surprised i think this is a promising show and the only side effect it had on me is that now i want to watch bsg as well br br but what i really liked is that i didn t have to be a hardcore bsg fan to understand what s going on in caprica from what i have read in the net they were trying to reach the female population since bsg reached way more men and at least in my case it worked br br however i suggest that if you are trying to watch the show do it from the beginning starting with the pilot'\n",
            " b'well it turned out as i expected visual overload but nothing else added to the original what did surprise me however was that the storyline was fairly drastically changed compared to the 1968 flick initially this awoke my interest but what eventually surprised was that the new twists and turns a were apparently invented in order to present us with a typical hollywood like product and b made the whole storyline improbable the 1968 story was breathtakingly straightforward and included no time storms or any bogus of that sort it just stated that when you come home after a long journey things might have changed a bit earth might have fallen in the hands of apes for example like many old movies it s main ingredient was suspense hell does anyone understand that word these days in this burton movie an attempt has been made to turn the whole thing into an action movie but at what cost surely the images are overwhelming and a lot of time and money has been put into the design of a complete ape culture even ape music but what s wrong br br first the suspension of disbelief is made very hard because the apes have a lot of hollywood human traits i refer especially to ari and the slave trader these traits include emotional skills like irony sarcasm and an overtly displayed array of subtle emotions it makes you forget that the apes are apes which is essential br br second the humans talk of course we can imagine that humans will never forget how to speak but the fact that the apes had speech and the humans didn t made the ape human role switching very tangible and stressing in the 1968 version the wound in the throat that charlton heston gets there is essential to his survival and his later regained speech essential to his uniqueness and the interest that dr zira has in him so no need for things like human rights activists or ape human love in order to explain things br br third the fact that they talk ads a great deal to the implausibility but is a necessary twist in the new movie since capt davidson has to play the hollywood let s save the whole world and have a good ending for everyone and still make it to the lounge bar for a cool diet coke character oh my god will they never learn i new it from the start when there was only one guy who got lost they were in need of a hero and then the script writers go on reasoning we need one guy so why would one guy get lost because he tries to save an ape from an electromagnetic storm implausible but it s necessary because it shows the audience that he respects apes since in these modern and politically correct times we can t have a xenophobic ape hater like charlton heston s 68 character loose on the screen let s give them a bubblegum version br br fourth okay the general twist of the original discovering the truth of the 1968 film to the modern version he finds that his own mother ship crashed on the planet ages ago and that their lab apes developed their society where heston simply discovered that just somehow the apes overtook the earth while he was away is nicely done the second battle part comes as an anti climax that s because this movie has added the first two planet of the apes movies in one plot nice try but the chill you feel when davidson and you discover that he s lost on the planet forever just washes out due to the uninteresting battle part br br fifth the ending for chrissakes who came up with that a davidson crashes twice with his escape pod which seems an unsteerable object while the chimp manages to simply land gracefully come on who d believe that if the pods are really small space crafts davidson simply flies off into space at the end and not merely escape vessels he might have managed a safe landing at least once no and what about that ending i mean in the original film it was clear that everything took place on earth but here the whole movie takes place on a distant planet and suddenly the same there s a thade statue ape culture is on earth how come did the apes of the far planet evolve technologically flew into the time storm and colonised earth before davidson s mission took off why is thade worshiped stupid stupid stupid br br helena bonham carter is even adorable and beautiful as an ape but i d expected no less i preferred her ape above estella warren as a human but maybe i got some loose wire in my head nevertheless the only convincing apes were tim roth as thade wonderful and ari s household ape the ex general but i forgot his name br br nonono a lot of things could and should have been added altered to the 1968 pic but not the plot at least not in that way it was simple and clear and needed no additional explaining it was nicely tongue in cheek and caricatured don t stylize everything'\n",
            " b'cooley high was actually a drama with moments of comedy it was a reflection of high school life back in the day i attended coolidge high in washington d c from 1976 to 1979 and much of what was in cooley high was an every day thing at coolidge as a matter of fact after the movie came out everybody started calling coolidge cooley high getting high shooting dice chasing girls basement parties and fights that sums up high school life for many in d c back in the day i can t forget motown because motown music began and ended many a day back in the 70s the hits just kept coming however cooley high adds a layer of humanity over the craziness because when all was said and done just like in cooley high my classmates and i had a lot of love for each other and like the characters in cooley high there was life after high school but there was nothing like waking up every morning and experiencing each day to the fullest from homeroom to seventh period thirty years later we are getting ready to celebrate those good times cooley high is definitely a period piece that just gets better with time because like it or not the only thing left from those days are memories some good and some bad'\n",
            " b'this is a great movie for any fan of hong kong action movies asides from it s little plot the weak drama and bits of comedy antics the movie is action packed with gun fighting and martial arts action kept me entertained from beginning until the end i thought shannon lee was awesome in the movie br br having an action director like corey yuen is what keeps hong kong action going strong this modern action film is highly recommended'\n",
            " b'i m trying to understand what people liked about mirrormask i am an avid film viewer and hobbyist film maker as i was telling friends during my lunch hour mirrormask may well be my biggest movie disappointment of the year just like the short moongirl the film missed its marks several times during the movie it made attempts at humor it sets you up for the laugh instead of making you laugh it leaves you feeling empty the jokes reminded one of the recent star wars films they weren t funny unless you were five and the acting felt similarly terrible i ve seen actors actually act in front of a blue screen and i ve believed it but not in this film not for a second br br this film takes a formula and tries to apply it with pretty artwork and though the script is totally workable and the special effects quite beautiful it has no heart to it and fails miserably i left the film shaking my head and considered leaving the theater i felt hallow and miserable and still haven t gotten the sour taste out of my mouth from it i love independent film i encourage people to view independent films to support them but not this film this film shouldn t have been made at least not like this why did the director miss the marks so clearly they were clearly setup not just the humor but the emotions the drama even the lines were poorly timed and delivered it was like the film walked on three legs instead of four its steps are awkward and miss timed and it could fall over with the slightest push don t see this film i don t care who you are it isn t worth your time'\n",
            " b'loved the film this was my first glimpse at both reese witherspoon and jason london both of which are two of my favorites must say that no matter how many times i ve seen this movie i can t help but tear up one of those movies that should become a classic for all'\n",
            " b'over christmas break a group of college friends stay behind to help prepare the dorms to be torn down and replaced by apartment buildings to make the work a bit more difficult a murderous chucks wearing psycho is wandering the halls of the dorm preying on the group in various violent ways br br registered as one of the 74 video nasties listed by the u k in the 1980s the dorm that dripped blood had a good reputation built up for it prior to first viewing the term video nasty strikes into mind some images of some great explicit gore violence sex etc all the things a horror fan dreams of so after hearing all of that info i settled into pranks alt title expecting a sleazy slasher experience and that s what it tried to be but failed pretty much completely visually the film s not great the cinematography gore except for a couple scenes and overall direction all fail it s simply not enjoyable to watch the unoriginal script is lacking and often throws in random things without any real reason like the opening kill there are some cool death scenes including a pretty nice face melt which can be seen on the poster but that s about it for the positive the acting is pretty bad the story seems unimportant the killer isn t cool or scary and it suffers the one major error that any slasher flick should always avoid it s a bit boring overall for a film done by a few ucla film students for 90 000 which would be over double that today the dorm that dripped blood isn t a total mess it has a couple good things and is fairly watchable but as a slasher flick looking to be on the level of films like the house on sorority row and pieces it just cannot compare don t expect much and you may at least be entertained i hate to say it but this is one of the few films i ve seen that would actually be better with a remake and yet they go after great works like black christmas oh well br br obligatory horror elements br br subgenre slasher br br violence gore there are some brutally cool kills and the gore is okay for the most part but nothing special also they off screened some of the best murders br br sex nudity there s a little unappealing to me nudity but not very much br br cool killer s nah the ending monologue s of the killer made him her pretty uncool br br scares suspense a jump scare or two but nothing too effective br br mystery i suppose yeah but i simply didn t care enough and it s as obvious as the nose on the killer s face br br br br final verdict 3 75 10 bah humbug br br ap3'\n",
            " b'the mayor of hell has the feel of an early dead end kids film but with a much harder edge and very few light spots preceding the first appearance of the dead enders by four years james cagney has a full screen opening credit even though technically the mayor of the movie s title is actually portrayed by frankie darro one of several boys sent to reform school during the opening scenes darro s character is jimmy smith a young tough who s befriended by patsy gargan cagney and is elected to the position when gargan takes a chance at humanizing conditions at a state reformatory br br warner brothers made a lot of these types of films attempting to provide a conscience of sorts in an era that only too well knew about the effects of crime and poverty this movie is quite gritty with no apologies for ethnic stereotyping as in the submissive posture of a black father in court or the way a jewish kid gets to run a candy shop in the reform school the rules at the reformatory are simple enough work hard and keep your mouth shut step out of line and you answer personally to warden thompson dudley digges br br cagney s role in the story seems somewhat ambiguous since even though he makes a serious effort to improve conditions inside the reformatory on the outside he s still nominally in control of a criminal racket the film s attempt to juggle this dichotomy falls short in my estimation the finale attempts to wrap things up in a neat package as gargan awaits the outcome of a near fatal shooting of one of his henchmen not exactly the kind of role modeling one would look for in a film like this br br warner brothers would sanitize some of the elements of this story in a 1938 remake titled crime school featuring humphrey bogart in the cagney role and billy halop in the frankie darro part if you re partial to the dead end kids you ll probably like the latter film better since it also offers familiar faces like leo gorcey huntz hall bobby jordan and gabriel dell however the ending is somewhat muddied in that one too with bogart s warden character involved in a cover up of a prison breakout both films offer a romantic interest for the lead characters in mayor madge evans is a reform minded nurse that falls for cagney s character br br curiously a lot of james cagney s early films aren t commercially available so you ll have to keep your eyes peeled for a screening on turner classics or source the film from a private collector personally i can t get enough of this kind of stuff and find intriguing points of interest in the films of all genres from the thirties and forties'\n",
            " b'this two part tv mini series isn t as good as the original from 1966 but it s solid the original benefited from a huge number of things it was all in black and white it had a great jazz score and it was filmed at the real locations including the home of the doomed clutter family that was important because in the book and in the original movie the home is very much a character itself br br this remake was filmed in canada which i guess doubles okay for kansas the story tries to be as sympathetic to perry as it dares to and eric roberts plays him as a somewhat fey person his homosexuality barely hidden the gentler take by roberts doesn t quite work in the end though because it s hard to believe that his version of perry smith would just finally explode in a spasm of murder whereas robert blake s take on smith left you no doubt that his perry smith was an extremely dangerous character br br anthony edwards was excellent as the bombastic big mouthed and ultimately cowardly dick hickcock the brains of the outfit his performance compares very well to scott wilson s role in the original movie br br since this is a longer movie it allows more time to develop the clutter family and in this regard i think the 1996 movie has an advantage the clutters are just an outstanding decent family they ve never harmed another soul and it is just inexplicable that such a decent family is ultimately massacred in such a horrifying way it still boggles my mind that after the clutters were locked in the bathroom that herb clutter didn t force out the window so at least his children would have a chance to escape this movie has the thought occur to him but too late from what i read about the real home which is still standing the way the bathroom is configured they could ve opened the counter drawers and effectively barricaded the door which would ve forced the killers to blast their way in but it might ve bought time for some of the clutters to escape why the clutters didn t try this i have no idea br br fans of the book will recognize that this movie takes a lot of liberties with how the crime is committed but not too serious still it s distracting to viewers like me who have read tons about the case the actors playing the cops led by sam neill and leo rossi are uniformly excellent much better i think as a group than the actors in the original movie they know that to secure the noose around the necks of both of them they have to get them to confess and the officers come to the interview impeccably prepared they had already discovered the likely alibi the phony story of going to fort scott and had debunked every jot of it the officers then let smith hickcock just walk into their trap hickcock is a b s artist who figures he can convince anyone of anything and the officers respectfully let him tell his cover story but when they lower the boom on him he shatters very quickly it s very well filmed and acted and very gratifying to watch because the viewer naturally should loath hickcock in particular by this point a cowardly con man who needs the easily manipulated smith to do his killing for him supposedly hickcock later stated that the real reason for the crime wasn t to steal money from the clutters but to rape nancy clutter at least she was spared that degradation br br the actors playing the clutters are very good kevin tighe as herb clutter in particular the story sensitively deals with mrs clutter s emotional problems most likely clinical depression and mrs clutter displays remarkable inner strength when she firmly and strongly demands that the killers leave her daughter alone from what i ve read the clutters surviving family was particularly bothered by how bonnie clutter was portrayed in the book claiming it was entirely untrue but as an aside both of the killers related to the police how mr clutter asked them to not bother his wife because of her long illness capote might make up that fiction to make the character of bonnie more interesting but certainly the killers had no reason to falsely portray mrs clutter and no doubt much of the conversation in the book duplicated in the movies is right off the taped confessions of the killers so it would ve been nonsensical for herb to have said that and not have it be true'\n",
            " b'the pilot is extremely well done it lays out how the characters bond in future episodes i don t think anyone could have created a better pilot for this show it displays remarkable creativity on the writers part although not everything was straightened out because it was the very first episode a lot of events that happen in future seasons were demonstrated in the pilot an example would be ross and rachels future relationship even though the nervousness of a first episode appeared it was overcome by an amazing plot and outstanding cast choice br br bravo br br a great start to an unbeatable comedy'\n",
            " b'this miserable film is a remake of a 1927 film they should have let it remain that way br br what a colossal bomb douglas fairbanks displays absolutely no charisma here cesar romero is subjected to a role as a real jerk and bette grable sings with a chorus what i ll do to that hungarian br br the ridiculous plot deals with a picture of a woman in a castle in 1561 rome that saved the day by killing a conqueror fairbanks now let s fast forward to 300 years later where grable just married to the count romero faces a similar situation when on her wedding night there is an invasion by hungarian soldiers br br romero acts cowardly and flees before the army arrives he disguises himself as a gypsy and is made to remain at the castle when his violin playing pleases fairbanks the ending is worse than the entire wretched film when grable meets fairbanks to tell him the good news an enraged romero has annulled the marriage br br this poor imitation of a movie was made in 1948 as harry davenport a veteran supporting player who is in it died in 1949 this must have been his last film what a bomb to go out with after such a distinguished career br br walter abel co stars but he can do little with such poor writing the costumes look more like those that would come out of the stone age i can t fathom what fairbanks was wearing'\n",
            " b'i have to start off by apologizing because i thought the first 75 80 of this film was hilarious it s mostly because of brad pitt s performance spot on br br the acting by all involved was quite good but brad stole the movie the atmosphere was perfect in all respects i m not a giant pitt fan but this has got to be one of his best roles ever br br brutal honest gritty all good words to describe this movie br br i was reading a previous review and the person said that the reasoning behind early s violence isn t explained it is explained but they thankfully don t have to go into graphic detail to get their point across br br overall i gave this a 9 because every scene bar 1 or 2 was effective i think the humor in the first half or so is perfect for this movie underrated'\n",
            " b'this is burt reynolds citizen kane tragically nothing else he was ever involved in came close to approaching sharkey s machine it seemed to me that he put everything he had into it it is a movie that is in love with movies the opening sequence where detective sharkey single handedly rescues a bus load of hostages is an immensely exciting piece of cinema everything moves so quickly once it has started to go wrong that it appears to take on a life of its own a brilliantly achieved effect it looks cold tense and dangerous on mr reynolds streets the precinct house looks dirty and tired full of desperate people on both sides of the law shouting cursing out trying to do deals or just stay alive into this underworld descends the recently demoted sharkey a reward for a bungled drugs bust caused by a corrupt cop he and his team are part of the vice squad information they pick up concerning a crooked politician leads them into the world of high class call girls and ruthless drug barons watching the apartment of one such call girl rachel ward sharkey falls in love with her portrait on the wall i know i know and when a woman s body is found with its face shot off in one of the rooms he thinks its her well i did say it was a movie that loved movies the scene where she walks in on him works beautifully even if you have seen the original the film is full of good touches i particularly like charles durning s war story subtly acted and shot in sharp contrast to sharkey s abduction and torture which is suitably harsh and brutal i must mention vittorio gassman and henry silva as two disparate but equally evil brothers with absolutely no redeeming features whatsoever they are full on every time they re on screen and are no loss to society when their time comes mr silva s end being extra special indeed as has been mention this is a clint eastwood movie that clint never made the biggest compliment i can pay sharkey s machine is to point out that in my opinion clint eastwood couldn t have made a better job of it the soundtrack is of an equally high standard featuring sarah vaughan joe williams julie london chet baker and other top class artists randy crawford s street life plays behind the title sequence and i can never hear it without in my mind s eye seeing sharkey striding along the sidewalk like other correspondents i have never understood why this film was a bit of a flop i hope it is due for a critical revision particularly at a time when so many cop movies and shows without a quarter of its energy freshness and sheer joie de vivre are lauded from the rooftops if you re ever tempted to think of burt reynolds as a burnt out one trick pony put sharkey s machine in your video machine i promise you won t be disappointed'\n",
            " b'without a doubt one of tobe hoppor s best epic storytellng great special effects and the spacegirl vamp me baby'\n",
            " b'this must rank as one of cinema s greatest debacles i was wandering europe at the time and had the misfortune to stumble upon the crew making this movie in what was even then one of the world s idyllic unspoiled settings i was enlisted as an extra and what followed was an exhibition of modern day debauchery forget all the accusations you ve ever heard of peter mayall s intrusions on this rare piece of french life geoff reeve and his cohorts embarked on a level of revelry at the restaurant at les beaux that left the maitre d slack jawed in disbelief they were quite simply awful uncultured and undeserving of french hospitality'\n",
            " b'this anime is a must see for fans of evangelion it s an earlier work of anno hideaki but his unrestrained dramatic style is quite in place also those who didn t like evangelion might find this release to bit slightly more palatable gunbuster is rather unique to sci fi anime in that it s actually based on real science in fact the show has several little science lesson interludes explaining the physics behind some of the events in the movie one of the big dramatic points in the film is the relative passage of time at speeds near that of light the series does a wonderful job of dealing with the imaginably traumatic experience of leaving earth on a six month mission traveling near the speed of light and returning to an earth where ten years have passed the main character remains age 17 or 18 throughout the entire series while almost all of the other characters age considerably be warned this show is heavy on the sap at times it also has a couple of the most wholly unmerited breast shots that i have ever seen i found it fairly easy to ignore the skimpy uniforms and boo hoo scenes because the series is otherwise very good but viewers with a low sap tolerance might want to stay away from this one on an interesting note gainax as always managed to run out of money in the last couple of episodes however they managed to use black and white film and still action sketches to produce a good resolution anyway the ending is a bit silly but it left me with such a good feeling in my gut i couldn t help but love it gunbuster is in my opinion one of the finest pieces of anime around'\n",
            " b'don t see this movie bad acting and stupid gore effects a complete waste of time i was hoping to see a lot of cool murders and hot chicks instead the director depended on animal slaughter videos to shock you the watcher disgusting the murders are pretty lame basically strangulation one woman he stuffs worms in her mouth one he puts raw hamburgers on her face and strangles her btk btk broiler burger king s killer new sandwich ha ha i don t think this movie relied too much on actual facts i mean he real btk killer didn t carry around a bunch of rodents scorpions and worms and oh yeah a slaughtered cow head too go figure'\n",
            " b'i haven t any idea how commentators could regard this as a decent b western or how one commentator said the plot was more cohesive than most nothing could be farther from the truth this movie is one huge non sequitur it is an affront to the noble b western films of the 30 s i have seen many of wayne s early lone star and republic westerns and this one is easily the worst br br the bad guy is known as the shadow for crying out loud initially the shadow s scheme is holding up open sided stage coaches simultaneously his gang rustles all of the cattle in the territory then they decide to move on to bank robbery to do this they need to shoot up the town with a machine gun no explanation of why that s necessary or how he got that neato little toy br br no single scheme is revealed in enough detail to suggest a plot here the shadow is obviously just a generally bad guy with all kinds of generally evil schemes br br he imparts his instructions to his gang through a fake wall safe knock knock who s there he is apparently clairvoyant because whenever his henchmen need to talk to him they knock on the wall the safe opens and presto he s there i can just imagine that he has met them face to face and says i have some secret nefarious instructions to give you about our next evil deed meet me at the wall safe and i ll give em to you just why the shadow requires the safe to communicate with his army of outlaws is like most of the elements of this mess never explained br br he has a nifty tunnel to the ol hollow stump across the street from which vantage point various of his baddies perform assassinations he also has a hidden panel not in his secret lair behind the fake safe but out in the main room br br when not behind the safe he hangs out on his cow less ranch masquerading as rancher matlock we learn that he has murdered the true owners of the ranch two brothers and assumed the identity of one the daughter of the dead brother has recently arrived from 1930 s nyc judging by her wardrobe and she apparently never met her real uncle because he dupes her too br br if you thought that bad guys always wore black hats and good guys white hats you need to see this movie here the good guys all ditch their hats in favor of white head bands that make them look like they have all suffered head wounds before any shots have been fired it s like a game of pick up basketball only wayne has them tying bandanas round their heads instead of just taking off their shirts br br perhaps the weirdest of all is the ending immediately after subduing the shadow and his gang we jump far enough into the future to see wayne and his wife the erst while niece on the front porch of their home never mind that there has been scant romance there yak is playing with wayne s 3 4 year old son dressed up in injun garb hiyoo skookum fun br br no thanks to this nonsense wayne went on to become a screen legend only a super star packer or not could surmount this entry in a film resume long live the duke'\n",
            " b'office work especially in this era of computers multi functional copy machines e mail voice mail snail mail and temps is territory ripe with satirical possibilities a vein previously tapped in such films as clockwatchers and office space and very successfully this latest addition to the temp humor pool however haiku tunnel directed by josh kornbluth and jacob kornbluth fails to live up to it s predecessors and leaves the laughs somewhere outside the door waiting for a chance to sneak in unfortunately for the audience that chance never comes so what you get is a nice try but as the man once said no cigar br br as the narrator star of the film josh kornbluth playing josh kornbluth points out in the opening frames in a monologue delivered directly into the camera this story is pure fiction and takes place in the fictional city of san franc l isco it s an innovative if not very imaginatively presented disclaimer and not all that funny it is however a harbinger of what is to follow all of which like the disclaimer just isn t all that funny br br kornbluth plays kornbluth an aspiring novelist who supports himself working as a temp it s a job that suits him and it gives him time to slip in some work on his novel from time to time but when he goes to work for a lawyer bob shelby warren keith he does too good a job on the first day and shelby dispatches head secretary marlina d amore helen shumaker to kornbluth to persuade him to go perm the thought of working full time for the same company though initially strikes fear in the heart of kornbluth but he caves in and signs on for the position he s nervous about it but at least now the other secretaries acknowledge his presence which of course they would never do with a temp and if things get too rough he has seventeen important letters he s typed up that now just have to be mailed out to fall back on he s been holding them back because the mailing is the easy part and he needs that something easy to do in reserve in case it all gets to be too much for him these are important letters however and by the end of the week kornbluth still has them in reserve on his desk and it doesn t take a genius to figure out that when shelby finds out about it kornbluth s days as the fair haired boy are going to be over and quick br br the brothers kornbluth who not only directed but along with john bellucci also wrote the screenplay for this film should have taken a page out of the ben stiller book of comedy where it says if you play it straight they will laugh but they didn t and the audience won t because in comedy even looking at it as objectively as possible when the main character as well as most of the supporting characters in this case plays funny as in he knows he s being funny he never is and that s exactly what kornbluth does here so rather than being funny he comes across as insincere and pretentious a grievous error in judgment on the part of the kornbluths because by allowing it they sabotaged their own movie br br in trying to discern exactly why this movie doesn t work it comes down to two basic reasons the directing which if not necessarily bad is at least careless and secondly the performances beginning with that of josh kornbluth quite simply kornbluth just seems too impressed with himself to be effective here unlike stiller or even steve martin both of whom use self deprecating humor very effectively kornbluth apparently has an ego that simply will not allow putting himself in that light he seems to have a need to let his audience know that he the real kornbluth is in reality much more clever than kornbluth the character and being unable to get past that does him in as well as the film rather than give the millions of office workers who may see this film someone to whom they can relate or with whom they can identify kornbluth affects a condescending manner that only serves to alienate the very people he is attempting to reach so what it all comes down to is a case of poor directing and unconvincing acting and when you take into consideration that the screenplay itself was weak to begin with with an inexplicably narrow focus given the potential of the rich subject matter it s easy to understand why this one just doesn t fly br br the one saving grace of the film is the performance by warren keith as shelby whose subtle delivery is convincing and which in and of itself is fairly humorous the effectiveness of it is diminished however inasmuch as keith has to share his scenes with kornbluth which somewhat automatically cancels out his positive contributions to the project br br shumaker and sarah overman julie faustino also manage to keep their heads above water with their respective performances which are commendable if not entirely memorable they at least make their scenes watchable and overman even manages to elevate kornbluth s performance if only momentarily but it s still not enough to save the day or the film br br the supporting cast includes amy resnick mindy brian thorstenson clifford june lomena davonne joe bellan jimmy the mail clerk with a cameo appearance by a disheveled looking harry shearer as the orientation leader a role that begs for an answer to the question what was he thinking when he agreed to this in any work environment there will forever be situations arising that one way or another will unavoidably become fodder for someone s comedic cannon and the films depicting said situations will always be with us the good ones see paragraph one may even become classics in their own right haiku tunnel however will doubtfully remain very long amongst them for it s destiny lies elsewhere in a realm known only as obscurity i rate this one 1 10 br br br br'\n",
            " b'this film was not only one of john ford s own personal favorites but also numbered directors sergei m eisenstein and bertrand tavernier among its high profile admirers ironically i ve just caught up with it myself via criterion s recent 2 disc set after missing out on a couple of original language screenings of it on italian tv many years ago and again a few times on tv while in hollywood br br the film marked ford s first of nine collaborations with henry fonda and is also a quintessential example of ford s folksy americana vein a beautifully made and pictorially quite poetic piece of work the courtroom sequences and eventual revelation in its second half still pack quite a wallop apart from giving stalwart character actor donald meek a memorably meaty role as the prosecuting attorney br br fonda is of course perfectly cast as a bashful inexperienced but rigorous and humanistic lawyer who was destined to become president fonda would go on to portray other fictitious politicians on film most notably in franklin j schaffner s the best man 1964 and sidney lumet s fail safe 1964 and it s surprising now to learn that he was reluctant at the time about accepting the role of lincoln since in his view that was like playing god br br it is interesting to note here that ford had previously tackled abraham lincoln tangentially in the prisoner of shark island 1936 a superb but perhaps little known gem which has luckily just been released as a special edition dvd by the uk s veritable criterion stand in eureka s masters of cinema label besides i also have two more abraham lincoln films in my dvd collection which i ve yet to watch and incidentally both were directed by d w griffith the birth of a nation 1915 and abraham lincoln 1930 and had i not just received a bunch of films i ve never watched before just now i would have gladly given them a spin based on my highly satisfying viewing experience with young mr lincoln'\n",
            " b'this familiar story of an older man younger woman is surprisingly hard edged bikers hippies free love and jail bait mix surprisingly well in this forgotten black and white indie effort lead actress patricia wymer as the titular candy gives the finest performance of her career spanning all of 3 drive in epics wymer was precocious and fetching in the young graduates 1971 but gives a more serious performance in the babysitter the occasional violence and periodic nudity are somewhat surprising but well handled by the director leads wymer and george e carey sell the may december romance believably there are enough similarities between the babysitter and the young graduates to make one wonder if the same director helmed the latter film as well patricia wymer where are you br br hailing from seattle wa miss wymer had appeared as a dancer on the tv rock and roll show malibu u before gracing the cover as well as appearing in an eight page spread of the august 1968 issue of best for men a tasteful adults only magazine she also appeared as a coven witch in the popular 1969 cult drive in shocker the witchmaker br br the babysitter has finally made its home video debut as part of the eight film bci box set drive in cult classics vol 3 which is available from amazon com and some retail stores such as best buy'\n",
            " b'i have to admit that out of the many many thriller movies i have seen this has to be one of the worst i was shocked to discover that this piece of work had a 1 5 mil budget when it started i thought that the opening sequence was pretty good fairly standard for this kind of film but pretty good anyway but as the film progressed i began to feel distinctly uncomfortable with the lack of pace that i was seeing each sequence seemed to take hours the reason for this could have been that by now the film had already bored me to tears nothing was happening other than endless accusations peppered with confusing flashbacks and the occasional fit of bad temper well after wading through what felt like a lifetime of these scenes we finally reached the big finale an all singing all dancing demonstration of how lack of imagination can completely ruin what could have been a good film br br overall i found this movie predictable and tedious and i would not recommend this film to anyone other than those people i personally dislike but if you have a couple of hours to waste and you want to watch a thriller that is not even remotely scary this is the movie for you'\n",
            " b'andy lau and lau ching wan are both superb in johnny to s tautly directed crime thriller which puts most western efforts to shame think of it as the hong kong heat only better everything about the film screams class from the performances to the soundtrack the cinematography to the script the tone remains serious throughout but the film has a nice line in black humour friendship and romance at it s heart sure it gets a little preposterous later on but it would be a hard hearted viewer who didn t find something to love about this movie thank god hollywood hasn t yet re made and ruined a classic do yourself a favour and see this film'\n",
            " b'it could have been a marvelous story based on the ancient races of cat people but it wasn t br br this work could have been just that marvelous and replete with mythological references which kept my fascination fueled the lead characters charles brady played by brian krause and his mother mary played by alice krige were shallowly done had no depth of personality and were hardly likable or drawing not even m dchen amick who played tanya robertson s character fit into that description br br however as i ve said many times before when you adapt a stephen king novel for tv you simply must take into account the fact that his books aren t written for tv and his screenplay talent sadly lacks the fire and depth he exhibits as a novelist br br this is another botched attempt to take the magick of stephen king writing whether that is of his novels or an original screenplay to simply cut and paste his work onto the small screen his novels get completely bastardized in the process and all you end up creating is a nice movie nothing less but certainly nothing more his screenplays are hit and miss unfortunately this screenplay translation was a miss br br sorry sorry sorry movie br br this movie gets a 1 0 10 from br br the fiend'\n",
            " b'speck was apparently intended to be a biopic related to serial killer richard speck there is however not much killing to be found in this movie and none of it is explicitly shown the most disturbing scene in the entire movie is perhaps when speck stomps one of the eight unfortunate nurses to death in her own bathtub yet even this is merely implied and not shown save for a few unconvincing downward thrusts of mr speck s leg the most entertaining part of this movie is most likely the voice over which should be a testament to the mind numbingly boring nature of this movie every aspect of this movie is horrible unless you have a fondness for boredom don t bother this movie only clocks in at 72 minutes but it feels like an eternity'\n",
            " b'fast paced funny sexy and spectacular cagney is always terrific blondel charms you with her wit and energy it s obvious that this is a pre censorship film by the innuendo in the script the costumes and the way they touch each other and bikinis before there were bikinis this is no holds barred fun for everyone i don t understand the john garfield issue though does it matter whether or not he s in this film if he is he screen is so short that he s basically a prop you need to watch it frame by frame to even find him if he s there i m a big cagney fan but had never seen this one before i found it on turner classics i found it by wonderful accident sit back and enjoy the ride'\n",
            " b'as an actor i really like independent films but this one is amateur at best br br the boys go to vermont for a civil service yet when the plane lands it flies over a palm tree were the directors aware that palm trees are not in vermont pines yes palms no and the same for the wedding service again nice grove of palm trees br br when the boys are leaving vt they apparently could not get a ticket on any major airline since the plane that is filmed is federal express did they ship themselves overnight in a crate come on guys little details like this separate an indi film from totally amateur br br the christian brother is far gayer than arthur with his bleached hair and tribal band tattoo the two should have switched roles br br the minor characters are laughable and overact something terrible br br applause to the directors for making a gay film but pay some attention to your locations and casting next time'\n",
            " b'as much as i love ellen barkin who is really underrated i have to boo this movie if you can t tell who did it and why in the first half hour you obviously have never seen a psycho sexual thriller or have never watched 20 20 it s like the filmmakers and actors didn t care that they way they were shooting it and they way they were playing the characters would be a dead giveaway br br overall this movie serves to turn on the dirty perverts who like to mix violence and sex not a fun movie to sit through although if you like ellen barkin it s nice to see her place a tough lady'\n",
            " b'while william shater can always make me smile in anything he appears in and i especially love him as denny crane in boston legal well this show is all about glitz and dancing girls and screaming and jumping up and down br br it has none of the intelligence of millionaire none of the flair of deal or no deal br br this show is all about dancing and stupid things to fill in the time br br i watched it of course just to check it out i did watch it for over 45 minutes then i had to turn it off br br the best part of it was william shatner dancing on the stage he is a hoot unfortunately this show will not make it br br that s a given'\n",
            " b'there seems to be an overwhelming response to this movie yet no one with the insight to critique its methodology which is extremely flawed it simply continues to propogate journalistic style analysis which is that it plays off of the audiences lack of knowledge and prejudice in order to evoke an emotional decry and outburst of negative diatribe br br journalism 101 tell the viewer some fact only in order to predispose them into drawing conclusions which are predictable for instance the idea of civil war chaos looting etc were all supposedly unexpected responses to the collapse of governmental infrastructure following hussein s demise were these not all symptomatic of an already destitute culture doctrinal infighting as symptomatic of these veins of islam itself rather than a failure in police force to restrain and secure would they rather the us have declared marshall law i m sure the papers here would ve exploded with accusations of a police state and fascist force br br aside from the analytical idiocy of the film it takes a few sideliners and leaves the rest out claiming so and so refused to be interviewed yet the questions they would ve asked are no doubt already answered by the hundred inquisitions those individuals have already received would you as vice president deign to be interviewed by a first time writer producer which was most certainly already amped to twist your words they couldn t roll tape of condi to actually show her opinion and answer some of the logistics of the questions perhaps they never watched her hearing br br this is far from a neutral glimpse of the situation on the ground there this is another biased asinine approach by journalists which are by and large unthinking herds br br anyone wanting to comment on war ought at least have based their ideas on things a little more reliable than nbc coverage and cnn commentary these interpretations smack of the same vitriol which simply creates a further bipartisanism of those who want to think and those who want to be told by the media what to think'\n",
            " b'everyone likes the coolly created memorable heist movie alain delon provides the antihero melville provides the cool and a handful of other great talent yves montand gian maria volonte and andre bourvil mostly arrives to add a crisp engaging movie br br with very little dialog this is great because one certain aspect of the genre tends to be a lot of dialog involving the quick witted and their various repartees this movie however could be watched with the sound completely off and not too terribly much would be missed not to say the sound is bad oh no the jazzy soundtrack and the crisp audio catching the little movements makes the slow patient deliberation of the patients very compelling br br what s also really neat about this film is that the color cinematography is pretty fantastic usually when it comes to cinematography black and white movies tend to stick out in my mind but this film has some very strong and beautiful imagery that makes the movie pure visual pleasure to observe br br polarisdib'\n",
            " b'quai des orfevres directed by the brilliant henri georges clouzot is a film to treasure because it is one of the best exponents of french film making of the postwar years m clouzot adapting the steeman s novel longtime defence shows his genius in the way he sets the story and in the way he interconnects all the characters in this deeply satisfying movie that as dbdumonteil has pointed out in this forum it demonstrates how influential cluzot was and how much the next generation of french movie makers are indebted to the master especially claude chabrol br br the crisp black and white cinematography by armand thirard has been magnificently transferred to the criterion dvd we recently watched working with clouzot thirard makes the most of the dark tones and the shadows in most of the key scenes the music by francis lopez a man who created light music and operettas in france works well in the context of the film since the action takes place in the world of the music halls and night clubs br br louis jouvet who is seen as a police detective is perfect in the part this was one of his best screen appearances for an actor who was a pillar of the french theater jouvet clearly understood well the mechanics for the creation of his police inspector who is wiser and can look deeply into the souls of his suspects and ultimately steals the show from the others in an unfair comment by someone in this page jouvet s inspector is compared with peter falk s columbo the television detective frankly and no disrespect to mr falk intended it s like comparing a great champagne to a good house wine br br bernard blier is perfect as the jealous husband blier had the kind of face that one could associate with the man consumed with the passion his wife jenny lamour has awakened in him martineau is vulnerable and doesn t act rationally he is an easy suspect because he has done everything wrong as he finds in the middle of a crime he didn t commit but all the evidence points to the contrary br br the other great character in the film is dora the photographer it s clear by the way she interacts with jenny where her real interest lies simone renant is tragically appealing as this troubled woman and makes an enormous contribution to the film suzy delair playing jenny is appealing as the singer who suddenly leaps from obscurity to celebrity and attracts the kind of men like brignon the old lecher br br the film is one of the best clouzot directed during his distinguished career and one that will live forever because the way he brought all the elements together'\n",
            " b'i admit i had some trepidation when i first saw the previews for this film was vh 1 treading on hollow ground here i mean harris and quinn don t really look or even sound like john or paul but i have to admit this film really surprised me it s far from the exploitation film i expected instead it s a character study a low key whimsical and ultimately bittersweet look at friendship and the ultimate lesson we all learn it s hard if not impossible to capture what we once had and what has passed us by'\n",
            " b'once big action star who fell off the face of the earth ends up in a small town with a problem with drug dealers and a dead body of a federal agent reuniting with some former co stars to clean up the town br br low key often to the point of blandness action comedy mostly just doesn t work part of the problem is the casting chris klien as a former action hero he s not bad but he s really not believable as some one who was taken to be a tough guy as i said he s not bad he s just just miscast for what his back story is the real problem here is the combination of the script which really isn t funny and seems artificial at times and the direction which is pedestrian to the port of dullness there is no life in the way things are set up its as if the director had a list of shots and went by that list it makes for an un engaging film and yet the film occasionally springs to life such as the in the final show down that ends the film that sequence works but because the earlier parts of the film floundered its drained of much of its power br br i can t really recommend the film its worth a shot if you re a fan of the actors or are a huge fan of independent cinema in all its forms but otherwise this is just a disappointment'\n",
            " b'this film is just a shame orlando florida seems to becoming a more recognized filmmaking area like vancouver s rise to prominance the brothers was shot in central florida and this short film is a bit of a setback for the area which made great strides with the indie film walking across africa and the great hbo miniseries from earth to the moon br br i will try to be as honest as possible i think orlando was the perfect place to film the brothers it had the potential to give a new spin on the boy band craze after all both n sync and the backstreet boys come from this area but the brothers falls short probably because of a weak script both lead characters are flat with almost no development part of this could be the amatuer actors but some of it is certainly the way the script was written br br also a problem is the choice of jokes many of the jokes are too repetitive they do come off funny the first time but it does grow to be a bit boring some of the concert scenes are staged poorly and many of these scenes also don t seem to move the story along in any way br br i had high hopes for this one but alas its a disappointing effort i also hope the best for the upcoming feature based on this short but i think the best thing for filmmaker john figg is to move to different genres quickly comedy isn t his strong suit but its indisputable that he definitely is one of the more prominant filmmakers in the orlando area its just a shame that right now he s infamous not famous br br'\n",
            " b'brian keith as cole wlikerson and richard jaeckel as wade matlock make excellent villains they just love intimidating the locals in the most brutal way possible and sneer sexily at any suggestion that there might be a more humane way to achieve their ends it s a pity that goody goody glenn ford gets in their way'\n",
            " b'you can find an anti war statement here without looking too hard that layer is hackneyed or you can find a value neutral comment on the madness of war stripped of judgement that layer is completely uninteresting br br or you can watch this for the darn good entertainment value of duvall s one liners but that s just a coating for commercial mastication br br you can try to view this as a realistic vietnam war film but ask any veteran and he ll swat down that notion most vets will say it stinks br br or view it as a will he or won t he morality play nothing rich there either br br where i found the value was in the superb self reference coppola needed a container with great enough dimensions the war to fit the greatness of the skilled multi dimensional actor playing a great man br br brando the man was as much of a maverick as the kurtz character the studios were uncomfortable with his acting method yet he always excelled and won accolades the generals are uncomfortable with kurtz s unsound methods in spite of his strategic genius br br so coppola makes a movie all about brando s greatness to hammer on the point he places himself in the movie as hopper a manic photojournalist laden with multiple cameras to spout his praises brando himself is only seen in half light and silhouettes brilliant cinematography by storaro that only increases the actor s power and he goes out like the sacrificial bull to complete the narrative equation oh yes the horror br br other pieces of interest the great use of point of view camera perspectives including being in the firefight long before private ryan the ground breaking use of sound notably the ominous flanging sweeps and the sonic depiction of an acid trip br br don t get caught in the outer layers the rich part you should despoil from this is the brilliant core of sound vision and self reference'\n",
            " b'comedy central has a habit of putting on great programs at times chappelle s show the daily show colbert report and then there are those that some people love or hate stella dr katz then there are some shows that have their defenders but are just plain awful mencia and now sarah silverman br br this show is based on the fact silverman is self centered which can be funny colbert report but can be horrible mind of mencia it should shock no one that i believe the latter is the case this show is a parody of a sitcom and society a program so absurd it loses itself in its absurdity and it simply isn t funny a woman farting has been done in comedy many many times because its not something that s common we don t need 25 minutes of it when a criminal is disarmed by a queef it simply loses its appeal we saw it in jay and silent bob strike back except the women were hotter and the whole scene was more absurd making it better but the best comparison of this show is to stella except stella was more subtle which is what made the absurdist comedy funny it had better acting and i suppose a bit more of a fantastical realist view br br perhaps the fact some reviews are so negative i m very skeptical of the critical acclaim but do not dispute fan reaction to this show is the amount of advertising on it very obnoxious ads through many programs far outdo advertising on for other programs many people are wondering why sarah silverman has a career and others are still bitter when better shows have been canceled this show should ve never made it past the unaired pilot stage back to norm showed far more promise yet this show makes it further and as far as critics being correct many things have been universally panned have seen their status rise immensely last i checked britney spears gets good reviews too also take that comparison however you want because someone will no doubt accuse me of being psychotic on imdb for not liking this show'\n",
            " b'anyone who complains about peter jackson making movies too long should sit through this cbs event there s about 45 minutes of story padded by 2 hours of unnecessary subplots featuring bland by the book tv drama clich s bad science is a staple for crappy weather disaster movies so i m not going to complain about that silly science can be fun to watch if it s executed in an amusing fashion what kills this movie is it s 10 subplots all of which could be excised without destroying what is supposed to be the central plot the one character that is entertaining to watch in category 6 is tornado tommy despite being a very annoying stereotype br br note that i also didn t bother commenting on special effects their quality should come as no surprise br br not recommended']\n",
            "-----------------------\n",
            "label:  [0 0 0 0 0 1 1 0 0 0 1 1 0 1 1 1 0 0 1 0 0 1 1 1 0 1 0 1 1 0 1 0 1 1 1 0 1\n",
            " 1 1 0 1 0 0 0 1 1 0 1 0 0 1 0 0 0 0 1 1 1 0 0 1 1 0 0]\n",
            "-----------------------\n",
            "total len:  64\n"
          ]
        }
      ],
      "source": [
        "for example, label in test_dataset.take(1):\n",
        "    print(\"example : \", example.numpy())\n",
        "    print(\"-----------------------\")\n",
        "    print(\"label: \", label.numpy())\n",
        "    print(\"-----------------------\")\n",
        "    print(\"total len: \", len(label.numpy()))"
      ]
    },
    {
      "cell_type": "code",
      "execution_count": 53,
      "id": "outdoor-subject",
      "metadata": {
        "id": "outdoor-subject",
        "colab": {
          "base_uri": "https://localhost:8080/"
        },
        "outputId": "59a08dde-d167-4951-85d1-391b0ca4f924"
      },
      "outputs": [
        {
          "output_type": "stream",
          "name": "stdout",
          "text": [
            "157/157 [==============================] - 17s 108ms/step - loss: 0.6749 - accuracy: 0.4993\n"
          ]
        }
      ],
      "source": [
        "test_loss, test_acc = model.evaluate(test_dataset)"
      ]
    },
    {
      "cell_type": "code",
      "execution_count": 54,
      "id": "compound-settlement",
      "metadata": {
        "id": "compound-settlement",
        "colab": {
          "base_uri": "https://localhost:8080/"
        },
        "outputId": "d35e9c56-4502-47c1-9a75-633a9d57c05f"
      },
      "outputs": [
        {
          "output_type": "stream",
          "name": "stdout",
          "text": [
            "Test Loss: 0.6748691201210022\n",
            "Test Accuracy: 0.4993000030517578\n"
          ]
        }
      ],
      "source": [
        "print(\"Test Loss: {}\".format(test_loss))\n",
        "print(\"Test Accuracy: {}\".format(test_acc))"
      ]
    },
    {
      "cell_type": "code",
      "execution_count": 55,
      "id": "limited-report",
      "metadata": {
        "id": "limited-report",
        "colab": {
          "base_uri": "https://localhost:8080/",
          "height": 728
        },
        "outputId": "8c1ed52d-1cf9-4a2e-9457-3a2958075751"
      },
      "outputs": [
        {
          "output_type": "display_data",
          "data": {
            "text/plain": [
              "<Figure size 1000x800 with 1 Axes>"
            ],
            "image/png": "[encoded data removed]"
          },
          "metadata": {}
        }
      ],
      "source": [
        "# plot the training and validation loss\n",
        "N = np.arange(0, EPOCHS)\n",
        "plt.style.use(\"ggplot\")\n",
        "plt.figure(figsize = [10,8])\n",
        "plt.plot(N, results.history[\"loss\"], label=\"train_loss\")\n",
        "plt.plot(N, results.history[\"val_loss\"], label=\"val_loss\")\n",
        "plt.title(\"RNN: Training & Validation Loss\")\n",
        "plt.xlabel(\"Epoch #\", weight=\"bold\")\n",
        "plt.ylabel(\"Loss\", weight=\"bold\")\n",
        "plt.legend()\n",
        "plt.show()"
      ]
    },
    {
      "cell_type": "code",
      "execution_count": 56,
      "id": "confidential-investment",
      "metadata": {
        "id": "confidential-investment",
        "colab": {
          "base_uri": "https://localhost:8080/",
          "height": 728
        },
        "outputId": "f221a9ec-207a-4560-bdbd-6dff3159b4aa"
      },
      "outputs": [
        {
          "output_type": "display_data",
          "data": {
            "text/plain": [
              "<Figure size 1000x800 with 1 Axes>"
            ],
            "image/png": "[encoded data removed]"
          },
          "metadata": {}
        }
      ],
      "source": [
        "# plot the training and validation accuracy\n",
        "N = np.arange(0, EPOCHS)\n",
        "plt.style.use(\"ggplot\")\n",
        "plt.figure(figsize = [10,8])\n",
        "plt.plot(N, results.history[\"accuracy\"], label=\"train_acc\")\n",
        "plt.plot(N, results.history[\"val_accuracy\"], label=\"val_acc\")\n",
        "plt.title(\"RNN: Training and Validation Accuracy\")\n",
        "plt.xlabel(\"Epoch #\", weight=\"bold\")\n",
        "plt.ylabel(\"Accuracy\", weight=\"bold\")\n",
        "plt.legend()\n",
        "plt.show()"
      ]
    },
    {
      "cell_type": "code",
      "execution_count": 57,
      "id": "opening-creation",
      "metadata": {
        "id": "opening-creation",
        "colab": {
          "base_uri": "https://localhost:8080/"
        },
        "outputId": "c3d9f1ef-0f52-4ea5-dacc-3ffdd5978159"
      },
      "outputs": [
        {
          "output_type": "stream",
          "name": "stdout",
          "text": [
            "1/1 [==============================] - 0s 242ms/step\n",
            "[[-0.21566415]]\n",
            "negative\n"
          ]
        }
      ],
      "source": [
        "# predict on a sample text\n",
        "\n",
        "sample_text = (\"The movie was not Good, I would not recommend this movie.\")\n",
        "\n",
        "prediction = model.predict(np.array([sample_text]))\n",
        "print(prediction)\n",
        "\n",
        "if prediction[0][0] >= 0:\n",
        "    print(\"positive\")\n",
        "else:\n",
        "    print(\"negative\")\n"
      ]
    },
    {
      "cell_type": "code",
      "execution_count": 58,
      "id": "psychological-extra",
      "metadata": {
        "id": "psychological-extra"
      },
      "outputs": [],
      "source": [
        "\n",
        "# for 3 level\n",
        "# if np.argmax(prediction) == 0:\n",
        "#     print(\"Neutral\")\n",
        "# elif np.argmax(prediction) == 1:\n",
        "#     print(\"Positive\")\n",
        "# else:\n",
        "#     print(\"Negative\")"
      ]
    },
    {
      "cell_type": "markdown",
      "id": "nervous-duplicate",
      "metadata": {
        "id": "nervous-duplicate"
      },
      "source": [
        "### 10. Saving the model"
      ]
    },
    {
      "cell_type": "code",
      "execution_count": 61,
      "id": "corporate-timeline",
      "metadata": {
        "scrolled": true,
        "id": "corporate-timeline",
        "colab": {
          "base_uri": "https://localhost:8080/"
        },
        "outputId": "d210d2be-84fa-4c6a-c1d6-94ba6a6d54cb"
      },
      "outputs": [
        {
          "output_type": "stream",
          "name": "stdout",
          "text": [
            "[INFO] serializing network...\n"
          ]
        }
      ],
      "source": [
        "# save the model to disk\n",
        "print(\"[INFO] serializing network...\")\n",
        "model.save(\"sentiment_RNN_1epochs.model\", save_format=\"tf\")"
      ]
    },
    {
      "cell_type": "code",
      "execution_count": 65,
      "id": "sunset-approval",
      "metadata": {
        "id": "sunset-approval",
        "colab": {
          "base_uri": "https://localhost:8080/"
        },
        "outputId": "25b25630-afdb-4e1e-a834-4afeaa459976"
      },
      "outputs": [
        {
          "output_type": "stream",
          "name": "stdout",
          "text": [
            "[INFO] model loaded succesfully..\n"
          ]
        }
      ],
      "source": [
        "from tensorflow.keras.models import load_model\n",
        "new_model = load_model(\"sentiment_RNN_1epochs.model\")\n",
        "print(\"[INFO] model loaded succesfully..\")"
      ]
    },
    {
      "cell_type": "code",
      "execution_count": 66,
      "id": "weekly-newsletter",
      "metadata": {
        "id": "weekly-newsletter",
        "colab": {
          "base_uri": "https://localhost:8080/"
        },
        "outputId": "cec39f92-d6e6-4fed-eeb4-5578b7295673"
      },
      "outputs": [
        {
          "output_type": "stream",
          "name": "stdout",
          "text": [
            "Model: \"sequential\"\n",
            "_________________________________________________________________\n",
            " Layer (type)                Output Shape              Param #   \n",
            "=================================================================\n",
            " text_vectorization (TextVe  (None, None)              0         \n",
            " ctorization)                                                    \n",
            "                                                                 \n",
            " embedding (Embedding)       (None, None, 64)          64000     \n",
            "                                                                 \n",
            " simple_rnn (SimpleRNN)      (None, 64)                8256      \n",
            "                                                                 \n",
            " dense (Dense)               (None, 64)                4160      \n",
            "                                                                 \n",
            " dense_1 (Dense)             (None, 1)                 65        \n",
            "                                                                 \n",
            "=================================================================\n",
            "Total params: 76481 (298.75 KB)\n",
            "Trainable params: 76481 (298.75 KB)\n",
            "Non-trainable params: 0 (0.00 Byte)\n",
            "_________________________________________________________________\n"
          ]
        }
      ],
      "source": [
        "new_model.summary()"
      ]
    },
    {
      "cell_type": "markdown",
      "id": "diverse-period",
      "metadata": {
        "id": "diverse-period"
      },
      "source": [
        "### 11. Making predictions for unseen data"
      ]
    },
    {
      "cell_type": "code",
      "execution_count": 67,
      "id": "registered-screen",
      "metadata": {
        "id": "registered-screen",
        "colab": {
          "base_uri": "https://localhost:8080/"
        },
        "outputId": "643e6e1f-8755-4ace-ed67-b37e75b57448"
      },
      "outputs": [
        {
          "output_type": "execute_result",
          "data": {
            "text/plain": [
              "clean_review    0\n",
              "label           0\n",
              "dtype: int64"
            ]
          },
          "metadata": {},
          "execution_count": 67
        }
      ],
      "source": [
        "# check missing value\n",
        "df_test.isnull().sum()"
      ]
    },
    {
      "cell_type": "code",
      "execution_count": 68,
      "id": "exposed-enhancement",
      "metadata": {
        "id": "exposed-enhancement",
        "colab": {
          "base_uri": "https://localhost:8080/",
          "height": 206
        },
        "outputId": "c55336bd-9ea4-48b7-f54f-37faec1ec08a"
      },
      "outputs": [
        {
          "output_type": "execute_result",
          "data": {
            "text/plain": [
              "                                            clean_review  label\n",
              "40000  first off i want to say that i lean liberal on...      0\n",
              "40001  i was excited to see a sitcom that would hopef...      0\n",
              "40002  when you look at the cover and read stuff abou...      0\n",
              "40003  like many others i counted on the appearance o...      0\n",
              "40004  this movie was on t v the other day and i didn...      0"
            ],
            "text/html": [
              "\n",
              "  <div id=\"df-c3f9c4a8-511a-4387-84eb-82236dc59c11\" class=\"colab-df-container\">\n",
              "    <div>\n",
              "<style scoped>\n",
              "    .dataframe tbody tr th:only-of-type {\n",
              "        vertical-align: middle;\n",
              "    }\n",
              "\n",
              "    .dataframe tbody tr th {\n",
              "        vertical-align: top;\n",
              "    }\n",
              "\n",
              "    .dataframe thead th {\n",
              "        text-align: right;\n",
              "    }\n",
              "</style>\n",
              "<table border=\"1\" class=\"dataframe\">\n",
              "  <thead>\n",
              "    <tr style=\"text-align: right;\">\n",
              "      <th></th>\n",
              "      <th>clean_review</th>\n",
              "      <th>label</th>\n",
              "    </tr>\n",
              "  </thead>\n",
              "  <tbody>\n",
              "    <tr>\n",
              "      <th>40000</th>\n",
              "      <td>first off i want to say that i lean liberal on...</td>\n",
              "      <td>0</td>\n",
              "    </tr>\n",
              "    <tr>\n",
              "      <th>40001</th>\n",
              "      <td>i was excited to see a sitcom that would hopef...</td>\n",
              "      <td>0</td>\n",
              "    </tr>\n",
              "    <tr>\n",
              "      <th>40002</th>\n",
              "      <td>when you look at the cover and read stuff abou...</td>\n",
              "      <td>0</td>\n",
              "    </tr>\n",
              "    <tr>\n",
              "      <th>40003</th>\n",
              "      <td>like many others i counted on the appearance o...</td>\n",
              "      <td>0</td>\n",
              "    </tr>\n",
              "    <tr>\n",
              "      <th>40004</th>\n",
              "      <td>this movie was on t v the other day and i didn...</td>\n",
              "      <td>0</td>\n",
              "    </tr>\n",
              "  </tbody>\n",
              "</table>\n",
              "</div>\n",
              "    <div class=\"colab-df-buttons\">\n",
              "\n",
              "  <div class=\"colab-df-container\">\n",
              "    <button class=\"colab-df-convert\" onclick=\"convertToInteractive('df-c3f9c4a8-511a-4387-84eb-82236dc59c11')\"\n",
              "            title=\"Convert this dataframe to an interactive table.\"\n",
              "            style=\"display:none;\">\n",
              "\n",
              "  <svg xmlns=\"http://www.w3.org/2000/svg\" height=\"24px\" viewBox=\"0 -960 960 960\">\n",
              "    <path d=\"M120-120v-720h720v720H120Zm60-500h600v-160H180v160Zm220 220h160v-160H400v160Zm0 220h160v-160H400v160ZM180-400h160v-160H180v160Zm440 0h160v-160H620v160ZM180-180h160v-160H180v160Zm440 0h160v-160H620v160Z\"/>\n",
              "  </svg>\n",
              "    </button>\n",
              "\n",
              "  <style>\n",
              "    .colab-df-container {\n",
              "      display:flex;\n",
              "      gap: 12px;\n",
              "    }\n",
              "\n",
              "    .colab-df-convert {\n",
              "      background-color: #E8F0FE;\n",
              "      border: none;\n",
              "      border-radius: 50%;\n",
              "      cursor: pointer;\n",
              "      display: none;\n",
              "      fill: #1967D2;\n",
              "      height: 32px;\n",
              "      padding: 0 0 0 0;\n",
              "      width: 32px;\n",
              "    }\n",
              "\n",
              "    .colab-df-convert:hover {\n",
              "      background-color: #E2EBFA;\n",
              "      box-shadow: 0px 1px 2px rgba(60, 64, 67, 0.3), 0px 1px 3px 1px rgba(60, 64, 67, 0.15);\n",
              "      fill: #174EA6;\n",
              "    }\n",
              "\n",
              "    .colab-df-buttons div {\n",
              "      margin-bottom: 4px;\n",
              "    }\n",
              "\n",
              "    [theme=dark] .colab-df-convert {\n",
              "      background-color: #3B4455;\n",
              "      fill: #D2E3FC;\n",
              "    }\n",
              "\n",
              "    [theme=dark] .colab-df-convert:hover {\n",
              "      background-color: #434B5C;\n",
              "      box-shadow: 0px 1px 3px 1px rgba(0, 0, 0, 0.15);\n",
              "      filter: drop-shadow(0px 1px 2px rgba(0, 0, 0, 0.3));\n",
              "      fill: #FFFFFF;\n",
              "    }\n",
              "  </style>\n",
              "\n",
              "    <script>\n",
              "      const buttonEl =\n",
              "        document.querySelector('#df-c3f9c4a8-511a-4387-84eb-82236dc59c11 button.colab-df-convert');\n",
              "      buttonEl.style.display =\n",
              "        google.colab.kernel.accessAllowed ? 'block' : 'none';\n",
              "\n",
              "      async function convertToInteractive(key) {\n",
              "        const element = document.querySelector('#df-c3f9c4a8-511a-4387-84eb-82236dc59c11');\n",
              "        const dataTable =\n",
              "          await google.colab.kernel.invokeFunction('convertToInteractive',\n",
              "                                                    [key], {});\n",
              "        if (!dataTable) return;\n",
              "\n",
              "        const docLinkHtml = 'Like what you see? Visit the ' +\n",
              "          '<a target=\"_blank\" href=https://colab.research.google.com/notebooks/data_table.ipynb>data table notebook</a>'\n",
              "          + ' to learn more about interactive tables.';\n",
              "        element.innerHTML = '';\n",
              "        dataTable['output_type'] = 'display_data';\n",
              "        await google.colab.output.renderOutput(dataTable, element);\n",
              "        const docLink = document.createElement('div');\n",
              "        docLink.innerHTML = docLinkHtml;\n",
              "        element.appendChild(docLink);\n",
              "      }\n",
              "    </script>\n",
              "  </div>\n",
              "\n",
              "\n",
              "<div id=\"df-e973a8aa-5719-43d9-8ca2-8af75dca072f\">\n",
              "  <button class=\"colab-df-quickchart\" onclick=\"quickchart('df-e973a8aa-5719-43d9-8ca2-8af75dca072f')\"\n",
              "            title=\"Suggest charts\"\n",
              "            style=\"display:none;\">\n",
              "\n",
              "<svg xmlns=\"http://www.w3.org/2000/svg\" height=\"24px\"viewBox=\"0 0 24 24\"\n",
              "     width=\"24px\">\n",
              "    <g>\n",
              "        <path d=\"M19 3H5c-1.1 0-2 .9-2 2v14c0 1.1.9 2 2 2h14c1.1 0 2-.9 2-2V5c0-1.1-.9-2-2-2zM9 17H7v-7h2v7zm4 0h-2V7h2v10zm4 0h-2v-4h2v4z\"/>\n",
              "    </g>\n",
              "</svg>\n",
              "  </button>\n",
              "\n",
              "<style>\n",
              "  .colab-df-quickchart {\n",
              "      --bg-color: #E8F0FE;\n",
              "      --fill-color: #1967D2;\n",
              "      --hover-bg-color: #E2EBFA;\n",
              "      --hover-fill-color: #174EA6;\n",
              "      --disabled-fill-color: #AAA;\n",
              "      --disabled-bg-color: #DDD;\n",
              "  }\n",
              "\n",
              "  [theme=dark] .colab-df-quickchart {\n",
              "      --bg-color: #3B4455;\n",
              "      --fill-color: #D2E3FC;\n",
              "      --hover-bg-color: #434B5C;\n",
              "      --hover-fill-color: #FFFFFF;\n",
              "      --disabled-bg-color: #3B4455;\n",
              "      --disabled-fill-color: #666;\n",
              "  }\n",
              "\n",
              "  .colab-df-quickchart {\n",
              "    background-color: var(--bg-color);\n",
              "    border: none;\n",
              "    border-radius: 50%;\n",
              "    cursor: pointer;\n",
              "    display: none;\n",
              "    fill: var(--fill-color);\n",
              "    height: 32px;\n",
              "    padding: 0;\n",
              "    width: 32px;\n",
              "  }\n",
              "\n",
              "  .colab-df-quickchart:hover {\n",
              "    background-color: var(--hover-bg-color);\n",
              "    box-shadow: 0 1px 2px rgba(60, 64, 67, 0.3), 0 1px 3px 1px rgba(60, 64, 67, 0.15);\n",
              "    fill: var(--button-hover-fill-color);\n",
              "  }\n",
              "\n",
              "  .colab-df-quickchart-complete:disabled,\n",
              "  .colab-df-quickchart-complete:disabled:hover {\n",
              "    background-color: var(--disabled-bg-color);\n",
              "    fill: var(--disabled-fill-color);\n",
              "    box-shadow: none;\n",
              "  }\n",
              "\n",
              "  .colab-df-spinner {\n",
              "    border: 2px solid var(--fill-color);\n",
              "    border-color: transparent;\n",
              "    border-bottom-color: var(--fill-color);\n",
              "    animation:\n",
              "      spin 1s steps(1) infinite;\n",
              "  }\n",
              "\n",
              "  @keyframes spin {\n",
              "    0% {\n",
              "      border-color: transparent;\n",
              "      border-bottom-color: var(--fill-color);\n",
              "      border-left-color: var(--fill-color);\n",
              "    }\n",
              "    20% {\n",
              "      border-color: transparent;\n",
              "      border-left-color: var(--fill-color);\n",
              "      border-top-color: var(--fill-color);\n",
              "    }\n",
              "    30% {\n",
              "      border-color: transparent;\n",
              "      border-left-color: var(--fill-color);\n",
              "      border-top-color: var(--fill-color);\n",
              "      border-right-color: var(--fill-color);\n",
              "    }\n",
              "    40% {\n",
              "      border-color: transparent;\n",
              "      border-right-color: var(--fill-color);\n",
              "      border-top-color: var(--fill-color);\n",
              "    }\n",
              "    60% {\n",
              "      border-color: transparent;\n",
              "      border-right-color: var(--fill-color);\n",
              "    }\n",
              "    80% {\n",
              "      border-color: transparent;\n",
              "      border-right-color: var(--fill-color);\n",
              "      border-bottom-color: var(--fill-color);\n",
              "    }\n",
              "    90% {\n",
              "      border-color: transparent;\n",
              "      border-bottom-color: var(--fill-color);\n",
              "    }\n",
              "  }\n",
              "</style>\n",
              "\n",
              "  <script>\n",
              "    async function quickchart(key) {\n",
              "      const quickchartButtonEl =\n",
              "        document.querySelector('#' + key + ' button');\n",
              "      quickchartButtonEl.disabled = true;  // To prevent multiple clicks.\n",
              "      quickchartButtonEl.classList.add('colab-df-spinner');\n",
              "      try {\n",
              "        const charts = await google.colab.kernel.invokeFunction(\n",
              "            'suggestCharts', [key], {});\n",
              "      } catch (error) {\n",
              "        console.error('Error during call to suggestCharts:', error);\n",
              "      }\n",
              "      quickchartButtonEl.classList.remove('colab-df-spinner');\n",
              "      quickchartButtonEl.classList.add('colab-df-quickchart-complete');\n",
              "    }\n",
              "    (() => {\n",
              "      let quickchartButtonEl =\n",
              "        document.querySelector('#df-e973a8aa-5719-43d9-8ca2-8af75dca072f button');\n",
              "      quickchartButtonEl.style.display =\n",
              "        google.colab.kernel.accessAllowed ? 'block' : 'none';\n",
              "    })();\n",
              "  </script>\n",
              "</div>\n",
              "\n",
              "    </div>\n",
              "  </div>\n"
            ],
            "application/vnd.google.colaboratory.intrinsic+json": {
              "type": "dataframe",
              "variable_name": "df_test",
              "summary": "{\n  \"name\": \"df_test\",\n  \"rows\": 10000,\n  \"fields\": [\n    {\n      \"column\": \"clean_review\",\n      \"properties\": {\n        \"dtype\": \"string\",\n        \"num_unique_values\": 9981,\n        \"samples\": [\n          \"what a terrible movie this was i made it about 50 minutes into it and started skipping chapters until the end the plot is nothing special and the dialog from the movie deviates from the main story so much that your head will explode out of rage many useless minutes wasted just listening to characters jabber on about something irrelevant to the plot and or something that could said in a shorter amount of time the camera work is shaky and grainy it seemed mr milligan needed to take his finger off of the zoom button i noticed also that at some points during this movie it seemed that andy was having seizures and would uncontrollably shake the camera the splices between scenes were jumpy and didn t flow the murder scenes were nothing special incredibly and laughably fake barely any gore as the title suggests this movie runs about 1 hour 20 minutes and the murder scenes take up about 1 minute total of the whole movie if that what a wretched piece of garbage this movie was andy milligan is in fact probably one of the worst directors to plague mankind with his talentless directing and camera work usually i can make it through really bad horror movies and laugh about it later bloodthirsty butchers however i can t i am just angry i wasted an hour and a half of my life watching this what i wouldn t do to gain it back take my suggestion and do not see this movie unless you plan on falling asleep terrible\",\n          \"she s not michael jordan br br think of all the marvelous nba players whose career light has been dimmed for no other good reason than the timing of their birth their names might trip as easily off the public s lips as russell cousy byrd magic mchale oscar wilt the list goes on but the volume gets turned down a little for stockton and malone charles patrick and all the other great players who always lost the headlines to michael br br i ve seen it written that gretchen mol s career flamed out in the wake of the cover article in the 1998 vanity fair issue which predicted inevitable superstardom for ms mol it was later said that she had been over hyped i disagree br br i still remember that for some time after i saw the devil s advocate in 97 or 98 i would get confused as to which actress played mary ann lomax was it mol or theron oh yeah charlize theron was the one in 2 days in the valley and mighty joe young and gretchen mol was in donnie brasco celebrity and rounders br br by the time i had seen the thirteenth floor mol and sweet november theron i pretty much had them straightened out but i still put them in the same mental file drawer both were highly talented had sweet faces similar body types short blonde hair and so on br br theron though was offered more work i loved her as sara deever and as adele invergordon her beauty was downright intimidating br br in 2003 monster was released and from that point until the handing of the oscar itself all of filmdom knew who the best actress award was going to and deservedly so theron was aileen wuornos the only way to get a more accurate understanding of what made the real aileen wuornos tick would be to somehow replay the digital video trapped in selby s head and for a major talent to make herself that physically unattractive unheard of br br then in 2005 the notorious bettie page was released mol s performance was extraordinary maybe she was standing in the shadow of ms theron it was like the ballroom for the victory celebration for the losing presidential candidate nobody came and nobody cared it was viewed as a continuation of an old tale once promising actress with a declining career does a nudie part in a b movie ho hum no no no wrong no matter what you may think of the film and i enjoy films about the fifties if you pass on this one you ll be missing one of the better performances of that year ms moll was every bit as much bettie as ms theron was aileen unfortunately aileen to the film going public is the more sympathetic character for whatever reason an amoral sociopathic killer is less embarrassing to us than a na ve unsophisticated uninhibited religious girl whose most capital crime was to live her life totally trusting and completely exposed bettie page was one of the icons of the fifties her photos and films never sexual never pornographic but she presented as a near caricature of all things kinky there was no sense of realism only parody ms moll captured the very essence of the character she gained 20 pounds to add some zaftig to her normally slim figure and when she posed for various photographers in the film her body was bettie s her full frontal lack of any inhibitions accurately fits everything which has been published about bettie cinematic nudity normally depicts eroticism or sexuality in this film it s all about innocence seeing gretchen bettie nude didn t make me want to jump her but instilled a desire to protect her from all the horrors that people can inflict on each other if you pass on this film you ll be missing out on one of the best performances of recent years by the way shame on the mpaa for giving this an r rating\",\n          \"oh where the hell should i begin give a brief summary of the story no either you ve already heard it or don t want to either way it sucks much like the movie i happen to be a semi large horror movie aficionado and i must say this is one of the dumbest and most clumsily executed movies i ve ever had the displeasure of viewing br br the script is horrendously stupid the story starts too fast with absolutely no suspense or build up in the slightest all of those torture scenes would have been a lot more effective if we gave even the tiniest bit of crap for the characters since the first scene in the film is when the teenage girls meet capt howdy how the hell are we supposed to sympathize with them first off they seem stupid for going to a party with a guy they don t even know and second we don t even know their damn names why the hell should i care if they live or die not to mention the fact that they actually have the guts to try and make us feel sympathetic towards capt howdy after he s been reformed please i was cheering when he got his just deserts he deserved them hell he deserved worse also we re forced to sit through a pointless misdirect sequence lifted directly from the silence of the lambs and here it s done horribly of course he s gonna give them a false address and even if he had given them the real one don t you think he d be waiting and not piercing some guy s johnson upstairs retarded br br then there s the dialogue everything captain howdy says is either laughable or just plain stupid the dead are so dreadfully dead when they re dead what the hell kind of crap is that dee snider at one point says knowledge is power well if that s true this film has absolutely no power whatsoever br br then there s the plot holes yes i know this is a horror film well wannabe horror film but damn you could drive a semi truck into these holes first off these have got to be the dumbest cops i have ever seen ever i mean dear god these guys are morons call for backup idiots second how the hell did that humungous septum ring fall out of captain howdy s nose evidentially this piercing expert guy says that s the biggest one i ve ever seen but if it s so damn big how the hell could it have fallen out so easily did capt howdy just leave it at the crime scene because he wanted to get caught they sure didn t make it seem like he did also they would never release capt howdy and i know that for a damn fact he would be in jail for the rest of his life and there s no getting around this much less let him return to his old house where he killed tortured everybody impossible and implausible br br and now the acting dear god did these people suck linda cardellini is the only thing good in this film she s poised and amazing too bad she hardly gets a good chance to act in this piece of crap amy smart shows up for about 10 minutes and then drops out of existence even the usually entertaining robert englund is underused and ineffective here dee snider plays the crazy guy with no talent whatsoever i never felt threatened scared or intimidated i d rather have seen dee snider in alexis arquette s role in bride of chucky it would have been so much more fun to see this talent less hack get it by that lovable psycho doll br br dee snider just plain sucks he can t act one of the least scary villains i have ever seen he can t write did he write this damn movie in his sleep and he s obviously dumber than freaking jessica simpson this film is just a way for dee snider to show off all the weird crap he knows about self mutilation and modern primitives and blah blah blah either it s been done before or it just didn t need to be done i was bored throughout the whole damn thing br br the acting sucks the music sucks the script sucks the pacing sucks the special fx suck the directing sucks basically this movie sucks this film tries to be a serious and sophisticated thriller horror flick and it fails miserably it doesn t manage to scare shock or disturb in any shape way or form this is probably one of the least effective and utterly unoriginal films i have ever seen in my entire life a piece of cinematic garbage captured on celluloid br br strangeland gets a 0 out of 10 avoid at any and all costs not enjoyable in the slightest\"\n        ],\n        \"semantic_type\": \"\",\n        \"description\": \"\"\n      }\n    },\n    {\n      \"column\": \"label\",\n      \"properties\": {\n        \"dtype\": \"number\",\n        \"std\": 0,\n        \"min\": 0,\n        \"max\": 1,\n        \"num_unique_values\": 2,\n        \"samples\": [\n          1,\n          0\n        ],\n        \"semantic_type\": \"\",\n        \"description\": \"\"\n      }\n    }\n  ]\n}"
            }
          },
          "metadata": {},
          "execution_count": 68
        }
      ],
      "source": [
        "df_test.head()"
      ]
    },
    {
      "cell_type": "code",
      "execution_count": 69,
      "id": "thorough-anniversary",
      "metadata": {
        "id": "thorough-anniversary"
      },
      "outputs": [],
      "source": [
        "# Drop rows with any NaN in the clean text column only\n",
        "# df_test = df_test.dropna(how='any', subset=['clean_review'])"
      ]
    },
    {
      "cell_type": "code",
      "execution_count": 70,
      "id": "cutting-addiction",
      "metadata": {
        "id": "cutting-addiction"
      },
      "outputs": [],
      "source": [
        "# check missing value\n",
        "# df_test.isnull().sum()"
      ]
    },
    {
      "cell_type": "code",
      "execution_count": 71,
      "id": "former-seating",
      "metadata": {
        "id": "former-seating",
        "colab": {
          "base_uri": "https://localhost:8080/"
        },
        "outputId": "6de04f0e-dcb0-4ffa-a557-d616bd56ac6d"
      },
      "outputs": [
        {
          "output_type": "stream",
          "name": "stdout",
          "text": [
            "313/313 [==============================] - 24s 76ms/step\n"
          ]
        }
      ],
      "source": [
        "# prediction on unseen data\n",
        "y_pred = model.predict(np.array(df_test[\"clean_review\"]))"
      ]
    },
    {
      "cell_type": "code",
      "execution_count": 72,
      "id": "revolutionary-passenger",
      "metadata": {
        "id": "revolutionary-passenger",
        "colab": {
          "base_uri": "https://localhost:8080/"
        },
        "outputId": "f7405cfe-c878-456a-fdc9-1f6a536ef6a0"
      },
      "outputs": [
        {
          "output_type": "execute_result",
          "data": {
            "text/plain": [
              "array([[ 0.00705833],\n",
              "       [ 0.10177171],\n",
              "       [-0.9562063 ],\n",
              "       [ 0.1361674 ],\n",
              "       [ 0.10890333],\n",
              "       [ 0.13045684],\n",
              "       [ 0.12930599],\n",
              "       [ 0.13999572],\n",
              "       [-0.8113354 ],\n",
              "       [ 0.14657438]], dtype=float32)"
            ]
          },
          "metadata": {},
          "execution_count": 72
        }
      ],
      "source": [
        "y_pred[:10] # confidence for each class"
      ]
    },
    {
      "cell_type": "code",
      "execution_count": 73,
      "id": "rotary-range",
      "metadata": {
        "id": "rotary-range"
      },
      "outputs": [],
      "source": [
        "# convert conf to 1 if +conf else 0\n",
        "y_pred_bool = []\n",
        "for conf in y_pred:\n",
        "    if conf[0] >= 0:\n",
        "        y_pred_bool.append(1)\n",
        "    else:\n",
        "        y_pred_bool.append(0)\n",
        "\n",
        "df_test[\"pred\"] = y_pred_bool"
      ]
    },
    {
      "cell_type": "code",
      "execution_count": 74,
      "id": "temporal-cleaning",
      "metadata": {
        "id": "temporal-cleaning"
      },
      "outputs": [],
      "source": [
        "# create new column for prediction on 3 label\n",
        "# df_test[\"Predicted_label\"] = np.argmax(y_pred, axis=1)"
      ]
    },
    {
      "cell_type": "code",
      "execution_count": 75,
      "id": "saving-station",
      "metadata": {
        "id": "saving-station",
        "colab": {
          "base_uri": "https://localhost:8080/",
          "height": 206
        },
        "outputId": "64e13be6-da5a-4c64-811d-dc2ddc44d8a6"
      },
      "outputs": [
        {
          "output_type": "execute_result",
          "data": {
            "text/plain": [
              "                                            clean_review  label  pred\n",
              "40000  first off i want to say that i lean liberal on...      0     1\n",
              "40001  i was excited to see a sitcom that would hopef...      0     1\n",
              "40002  when you look at the cover and read stuff abou...      0     0\n",
              "40003  like many others i counted on the appearance o...      0     1\n",
              "40004  this movie was on t v the other day and i didn...      0     1"
            ],
            "text/html": [
              "\n",
              "  <div id=\"df-7234d11f-0cfc-4552-9b27-5ef8bd7f61f1\" class=\"colab-df-container\">\n",
              "    <div>\n",
              "<style scoped>\n",
              "    .dataframe tbody tr th:only-of-type {\n",
              "        vertical-align: middle;\n",
              "    }\n",
              "\n",
              "    .dataframe tbody tr th {\n",
              "        vertical-align: top;\n",
              "    }\n",
              "\n",
              "    .dataframe thead th {\n",
              "        text-align: right;\n",
              "    }\n",
              "</style>\n",
              "<table border=\"1\" class=\"dataframe\">\n",
              "  <thead>\n",
              "    <tr style=\"text-align: right;\">\n",
              "      <th></th>\n",
              "      <th>clean_review</th>\n",
              "      <th>label</th>\n",
              "      <th>pred</th>\n",
              "    </tr>\n",
              "  </thead>\n",
              "  <tbody>\n",
              "    <tr>\n",
              "      <th>40000</th>\n",
              "      <td>first off i want to say that i lean liberal on...</td>\n",
              "      <td>0</td>\n",
              "      <td>1</td>\n",
              "    </tr>\n",
              "    <tr>\n",
              "      <th>40001</th>\n",
              "      <td>i was excited to see a sitcom that would hopef...</td>\n",
              "      <td>0</td>\n",
              "      <td>1</td>\n",
              "    </tr>\n",
              "    <tr>\n",
              "      <th>40002</th>\n",
              "      <td>when you look at the cover and read stuff abou...</td>\n",
              "      <td>0</td>\n",
              "      <td>0</td>\n",
              "    </tr>\n",
              "    <tr>\n",
              "      <th>40003</th>\n",
              "      <td>like many others i counted on the appearance o...</td>\n",
              "      <td>0</td>\n",
              "      <td>1</td>\n",
              "    </tr>\n",
              "    <tr>\n",
              "      <th>40004</th>\n",
              "      <td>this movie was on t v the other day and i didn...</td>\n",
              "      <td>0</td>\n",
              "      <td>1</td>\n",
              "    </tr>\n",
              "  </tbody>\n",
              "</table>\n",
              "</div>\n",
              "    <div class=\"colab-df-buttons\">\n",
              "\n",
              "  <div class=\"colab-df-container\">\n",
              "    <button class=\"colab-df-convert\" onclick=\"convertToInteractive('df-7234d11f-0cfc-4552-9b27-5ef8bd7f61f1')\"\n",
              "            title=\"Convert this dataframe to an interactive table.\"\n",
              "            style=\"display:none;\">\n",
              "\n",
              "  <svg xmlns=\"http://www.w3.org/2000/svg\" height=\"24px\" viewBox=\"0 -960 960 960\">\n",
              "    <path d=\"M120-120v-720h720v720H120Zm60-500h600v-160H180v160Zm220 220h160v-160H400v160Zm0 220h160v-160H400v160ZM180-400h160v-160H180v160Zm440 0h160v-160H620v160ZM180-180h160v-160H180v160Zm440 0h160v-160H620v160Z\"/>\n",
              "  </svg>\n",
              "    </button>\n",
              "\n",
              "  <style>\n",
              "    .colab-df-container {\n",
              "      display:flex;\n",
              "      gap: 12px;\n",
              "    }\n",
              "\n",
              "    .colab-df-convert {\n",
              "      background-color: #E8F0FE;\n",
              "      border: none;\n",
              "      border-radius: 50%;\n",
              "      cursor: pointer;\n",
              "      display: none;\n",
              "      fill: #1967D2;\n",
              "      height: 32px;\n",
              "      padding: 0 0 0 0;\n",
              "      width: 32px;\n",
              "    }\n",
              "\n",
              "    .colab-df-convert:hover {\n",
              "      background-color: #E2EBFA;\n",
              "      box-shadow: 0px 1px 2px rgba(60, 64, 67, 0.3), 0px 1px 3px 1px rgba(60, 64, 67, 0.15);\n",
              "      fill: #174EA6;\n",
              "    }\n",
              "\n",
              "    .colab-df-buttons div {\n",
              "      margin-bottom: 4px;\n",
              "    }\n",
              "\n",
              "    [theme=dark] .colab-df-convert {\n",
              "      background-color: #3B4455;\n",
              "      fill: #D2E3FC;\n",
              "    }\n",
              "\n",
              "    [theme=dark] .colab-df-convert:hover {\n",
              "      background-color: #434B5C;\n",
              "      box-shadow: 0px 1px 3px 1px rgba(0, 0, 0, 0.15);\n",
              "      filter: drop-shadow(0px 1px 2px rgba(0, 0, 0, 0.3));\n",
              "      fill: #FFFFFF;\n",
              "    }\n",
              "  </style>\n",
              "\n",
              "    <script>\n",
              "      const buttonEl =\n",
              "        document.querySelector('#df-7234d11f-0cfc-4552-9b27-5ef8bd7f61f1 button.colab-df-convert');\n",
              "      buttonEl.style.display =\n",
              "        google.colab.kernel.accessAllowed ? 'block' : 'none';\n",
              "\n",
              "      async function convertToInteractive(key) {\n",
              "        const element = document.querySelector('#df-7234d11f-0cfc-4552-9b27-5ef8bd7f61f1');\n",
              "        const dataTable =\n",
              "          await google.colab.kernel.invokeFunction('convertToInteractive',\n",
              "                                                    [key], {});\n",
              "        if (!dataTable) return;\n",
              "\n",
              "        const docLinkHtml = 'Like what you see? Visit the ' +\n",
              "          '<a target=\"_blank\" href=https://colab.research.google.com/notebooks/data_table.ipynb>data table notebook</a>'\n",
              "          + ' to learn more about interactive tables.';\n",
              "        element.innerHTML = '';\n",
              "        dataTable['output_type'] = 'display_data';\n",
              "        await google.colab.output.renderOutput(dataTable, element);\n",
              "        const docLink = document.createElement('div');\n",
              "        docLink.innerHTML = docLinkHtml;\n",
              "        element.appendChild(docLink);\n",
              "      }\n",
              "    </script>\n",
              "  </div>\n",
              "\n",
              "\n",
              "<div id=\"df-1381ce2c-c3a1-4f08-8a9d-2412beba5fd8\">\n",
              "  <button class=\"colab-df-quickchart\" onclick=\"quickchart('df-1381ce2c-c3a1-4f08-8a9d-2412beba5fd8')\"\n",
              "            title=\"Suggest charts\"\n",
              "            style=\"display:none;\">\n",
              "\n",
              "<svg xmlns=\"http://www.w3.org/2000/svg\" height=\"24px\"viewBox=\"0 0 24 24\"\n",
              "     width=\"24px\">\n",
              "    <g>\n",
              "        <path d=\"M19 3H5c-1.1 0-2 .9-2 2v14c0 1.1.9 2 2 2h14c1.1 0 2-.9 2-2V5c0-1.1-.9-2-2-2zM9 17H7v-7h2v7zm4 0h-2V7h2v10zm4 0h-2v-4h2v4z\"/>\n",
              "    </g>\n",
              "</svg>\n",
              "  </button>\n",
              "\n",
              "<style>\n",
              "  .colab-df-quickchart {\n",
              "      --bg-color: #E8F0FE;\n",
              "      --fill-color: #1967D2;\n",
              "      --hover-bg-color: #E2EBFA;\n",
              "      --hover-fill-color: #174EA6;\n",
              "      --disabled-fill-color: #AAA;\n",
              "      --disabled-bg-color: #DDD;\n",
              "  }\n",
              "\n",
              "  [theme=dark] .colab-df-quickchart {\n",
              "      --bg-color: #3B4455;\n",
              "      --fill-color: #D2E3FC;\n",
              "      --hover-bg-color: #434B5C;\n",
              "      --hover-fill-color: #FFFFFF;\n",
              "      --disabled-bg-color: #3B4455;\n",
              "      --disabled-fill-color: #666;\n",
              "  }\n",
              "\n",
              "  .colab-df-quickchart {\n",
              "    background-color: var(--bg-color);\n",
              "    border: none;\n",
              "    border-radius: 50%;\n",
              "    cursor: pointer;\n",
              "    display: none;\n",
              "    fill: var(--fill-color);\n",
              "    height: 32px;\n",
              "    padding: 0;\n",
              "    width: 32px;\n",
              "  }\n",
              "\n",
              "  .colab-df-quickchart:hover {\n",
              "    background-color: var(--hover-bg-color);\n",
              "    box-shadow: 0 1px 2px rgba(60, 64, 67, 0.3), 0 1px 3px 1px rgba(60, 64, 67, 0.15);\n",
              "    fill: var(--button-hover-fill-color);\n",
              "  }\n",
              "\n",
              "  .colab-df-quickchart-complete:disabled,\n",
              "  .colab-df-quickchart-complete:disabled:hover {\n",
              "    background-color: var(--disabled-bg-color);\n",
              "    fill: var(--disabled-fill-color);\n",
              "    box-shadow: none;\n",
              "  }\n",
              "\n",
              "  .colab-df-spinner {\n",
              "    border: 2px solid var(--fill-color);\n",
              "    border-color: transparent;\n",
              "    border-bottom-color: var(--fill-color);\n",
              "    animation:\n",
              "      spin 1s steps(1) infinite;\n",
              "  }\n",
              "\n",
              "  @keyframes spin {\n",
              "    0% {\n",
              "      border-color: transparent;\n",
              "      border-bottom-color: var(--fill-color);\n",
              "      border-left-color: var(--fill-color);\n",
              "    }\n",
              "    20% {\n",
              "      border-color: transparent;\n",
              "      border-left-color: var(--fill-color);\n",
              "      border-top-color: var(--fill-color);\n",
              "    }\n",
              "    30% {\n",
              "      border-color: transparent;\n",
              "      border-left-color: var(--fill-color);\n",
              "      border-top-color: var(--fill-color);\n",
              "      border-right-color: var(--fill-color);\n",
              "    }\n",
              "    40% {\n",
              "      border-color: transparent;\n",
              "      border-right-color: var(--fill-color);\n",
              "      border-top-color: var(--fill-color);\n",
              "    }\n",
              "    60% {\n",
              "      border-color: transparent;\n",
              "      border-right-color: var(--fill-color);\n",
              "    }\n",
              "    80% {\n",
              "      border-color: transparent;\n",
              "      border-right-color: var(--fill-color);\n",
              "      border-bottom-color: var(--fill-color);\n",
              "    }\n",
              "    90% {\n",
              "      border-color: transparent;\n",
              "      border-bottom-color: var(--fill-color);\n",
              "    }\n",
              "  }\n",
              "</style>\n",
              "\n",
              "  <script>\n",
              "    async function quickchart(key) {\n",
              "      const quickchartButtonEl =\n",
              "        document.querySelector('#' + key + ' button');\n",
              "      quickchartButtonEl.disabled = true;  // To prevent multiple clicks.\n",
              "      quickchartButtonEl.classList.add('colab-df-spinner');\n",
              "      try {\n",
              "        const charts = await google.colab.kernel.invokeFunction(\n",
              "            'suggestCharts', [key], {});\n",
              "      } catch (error) {\n",
              "        console.error('Error during call to suggestCharts:', error);\n",
              "      }\n",
              "      quickchartButtonEl.classList.remove('colab-df-spinner');\n",
              "      quickchartButtonEl.classList.add('colab-df-quickchart-complete');\n",
              "    }\n",
              "    (() => {\n",
              "      let quickchartButtonEl =\n",
              "        document.querySelector('#df-1381ce2c-c3a1-4f08-8a9d-2412beba5fd8 button');\n",
              "      quickchartButtonEl.style.display =\n",
              "        google.colab.kernel.accessAllowed ? 'block' : 'none';\n",
              "    })();\n",
              "  </script>\n",
              "</div>\n",
              "\n",
              "    </div>\n",
              "  </div>\n"
            ],
            "application/vnd.google.colaboratory.intrinsic+json": {
              "type": "dataframe",
              "variable_name": "df_test",
              "summary": "{\n  \"name\": \"df_test\",\n  \"rows\": 10000,\n  \"fields\": [\n    {\n      \"column\": \"clean_review\",\n      \"properties\": {\n        \"dtype\": \"string\",\n        \"num_unique_values\": 9981,\n        \"samples\": [\n          \"what a terrible movie this was i made it about 50 minutes into it and started skipping chapters until the end the plot is nothing special and the dialog from the movie deviates from the main story so much that your head will explode out of rage many useless minutes wasted just listening to characters jabber on about something irrelevant to the plot and or something that could said in a shorter amount of time the camera work is shaky and grainy it seemed mr milligan needed to take his finger off of the zoom button i noticed also that at some points during this movie it seemed that andy was having seizures and would uncontrollably shake the camera the splices between scenes were jumpy and didn t flow the murder scenes were nothing special incredibly and laughably fake barely any gore as the title suggests this movie runs about 1 hour 20 minutes and the murder scenes take up about 1 minute total of the whole movie if that what a wretched piece of garbage this movie was andy milligan is in fact probably one of the worst directors to plague mankind with his talentless directing and camera work usually i can make it through really bad horror movies and laugh about it later bloodthirsty butchers however i can t i am just angry i wasted an hour and a half of my life watching this what i wouldn t do to gain it back take my suggestion and do not see this movie unless you plan on falling asleep terrible\",\n          \"she s not michael jordan br br think of all the marvelous nba players whose career light has been dimmed for no other good reason than the timing of their birth their names might trip as easily off the public s lips as russell cousy byrd magic mchale oscar wilt the list goes on but the volume gets turned down a little for stockton and malone charles patrick and all the other great players who always lost the headlines to michael br br i ve seen it written that gretchen mol s career flamed out in the wake of the cover article in the 1998 vanity fair issue which predicted inevitable superstardom for ms mol it was later said that she had been over hyped i disagree br br i still remember that for some time after i saw the devil s advocate in 97 or 98 i would get confused as to which actress played mary ann lomax was it mol or theron oh yeah charlize theron was the one in 2 days in the valley and mighty joe young and gretchen mol was in donnie brasco celebrity and rounders br br by the time i had seen the thirteenth floor mol and sweet november theron i pretty much had them straightened out but i still put them in the same mental file drawer both were highly talented had sweet faces similar body types short blonde hair and so on br br theron though was offered more work i loved her as sara deever and as adele invergordon her beauty was downright intimidating br br in 2003 monster was released and from that point until the handing of the oscar itself all of filmdom knew who the best actress award was going to and deservedly so theron was aileen wuornos the only way to get a more accurate understanding of what made the real aileen wuornos tick would be to somehow replay the digital video trapped in selby s head and for a major talent to make herself that physically unattractive unheard of br br then in 2005 the notorious bettie page was released mol s performance was extraordinary maybe she was standing in the shadow of ms theron it was like the ballroom for the victory celebration for the losing presidential candidate nobody came and nobody cared it was viewed as a continuation of an old tale once promising actress with a declining career does a nudie part in a b movie ho hum no no no wrong no matter what you may think of the film and i enjoy films about the fifties if you pass on this one you ll be missing one of the better performances of that year ms moll was every bit as much bettie as ms theron was aileen unfortunately aileen to the film going public is the more sympathetic character for whatever reason an amoral sociopathic killer is less embarrassing to us than a na ve unsophisticated uninhibited religious girl whose most capital crime was to live her life totally trusting and completely exposed bettie page was one of the icons of the fifties her photos and films never sexual never pornographic but she presented as a near caricature of all things kinky there was no sense of realism only parody ms moll captured the very essence of the character she gained 20 pounds to add some zaftig to her normally slim figure and when she posed for various photographers in the film her body was bettie s her full frontal lack of any inhibitions accurately fits everything which has been published about bettie cinematic nudity normally depicts eroticism or sexuality in this film it s all about innocence seeing gretchen bettie nude didn t make me want to jump her but instilled a desire to protect her from all the horrors that people can inflict on each other if you pass on this film you ll be missing out on one of the best performances of recent years by the way shame on the mpaa for giving this an r rating\",\n          \"oh where the hell should i begin give a brief summary of the story no either you ve already heard it or don t want to either way it sucks much like the movie i happen to be a semi large horror movie aficionado and i must say this is one of the dumbest and most clumsily executed movies i ve ever had the displeasure of viewing br br the script is horrendously stupid the story starts too fast with absolutely no suspense or build up in the slightest all of those torture scenes would have been a lot more effective if we gave even the tiniest bit of crap for the characters since the first scene in the film is when the teenage girls meet capt howdy how the hell are we supposed to sympathize with them first off they seem stupid for going to a party with a guy they don t even know and second we don t even know their damn names why the hell should i care if they live or die not to mention the fact that they actually have the guts to try and make us feel sympathetic towards capt howdy after he s been reformed please i was cheering when he got his just deserts he deserved them hell he deserved worse also we re forced to sit through a pointless misdirect sequence lifted directly from the silence of the lambs and here it s done horribly of course he s gonna give them a false address and even if he had given them the real one don t you think he d be waiting and not piercing some guy s johnson upstairs retarded br br then there s the dialogue everything captain howdy says is either laughable or just plain stupid the dead are so dreadfully dead when they re dead what the hell kind of crap is that dee snider at one point says knowledge is power well if that s true this film has absolutely no power whatsoever br br then there s the plot holes yes i know this is a horror film well wannabe horror film but damn you could drive a semi truck into these holes first off these have got to be the dumbest cops i have ever seen ever i mean dear god these guys are morons call for backup idiots second how the hell did that humungous septum ring fall out of captain howdy s nose evidentially this piercing expert guy says that s the biggest one i ve ever seen but if it s so damn big how the hell could it have fallen out so easily did capt howdy just leave it at the crime scene because he wanted to get caught they sure didn t make it seem like he did also they would never release capt howdy and i know that for a damn fact he would be in jail for the rest of his life and there s no getting around this much less let him return to his old house where he killed tortured everybody impossible and implausible br br and now the acting dear god did these people suck linda cardellini is the only thing good in this film she s poised and amazing too bad she hardly gets a good chance to act in this piece of crap amy smart shows up for about 10 minutes and then drops out of existence even the usually entertaining robert englund is underused and ineffective here dee snider plays the crazy guy with no talent whatsoever i never felt threatened scared or intimidated i d rather have seen dee snider in alexis arquette s role in bride of chucky it would have been so much more fun to see this talent less hack get it by that lovable psycho doll br br dee snider just plain sucks he can t act one of the least scary villains i have ever seen he can t write did he write this damn movie in his sleep and he s obviously dumber than freaking jessica simpson this film is just a way for dee snider to show off all the weird crap he knows about self mutilation and modern primitives and blah blah blah either it s been done before or it just didn t need to be done i was bored throughout the whole damn thing br br the acting sucks the music sucks the script sucks the pacing sucks the special fx suck the directing sucks basically this movie sucks this film tries to be a serious and sophisticated thriller horror flick and it fails miserably it doesn t manage to scare shock or disturb in any shape way or form this is probably one of the least effective and utterly unoriginal films i have ever seen in my entire life a piece of cinematic garbage captured on celluloid br br strangeland gets a 0 out of 10 avoid at any and all costs not enjoyable in the slightest\"\n        ],\n        \"semantic_type\": \"\",\n        \"description\": \"\"\n      }\n    },\n    {\n      \"column\": \"label\",\n      \"properties\": {\n        \"dtype\": \"number\",\n        \"std\": 0,\n        \"min\": 0,\n        \"max\": 1,\n        \"num_unique_values\": 2,\n        \"samples\": [\n          1,\n          0\n        ],\n        \"semantic_type\": \"\",\n        \"description\": \"\"\n      }\n    },\n    {\n      \"column\": \"pred\",\n      \"properties\": {\n        \"dtype\": \"number\",\n        \"std\": 0,\n        \"min\": 0,\n        \"max\": 1,\n        \"num_unique_values\": 2,\n        \"samples\": [\n          0,\n          1\n        ],\n        \"semantic_type\": \"\",\n        \"description\": \"\"\n      }\n    }\n  ]\n}"
            }
          },
          "metadata": {},
          "execution_count": 75
        }
      ],
      "source": [
        "df_test.head()"
      ]
    },
    {
      "cell_type": "markdown",
      "id": "soviet-daniel",
      "metadata": {
        "id": "soviet-daniel"
      },
      "source": [
        "### 12. confusion matrix"
      ]
    },
    {
      "cell_type": "code",
      "execution_count": 76,
      "id": "controversial-interface",
      "metadata": {
        "id": "controversial-interface"
      },
      "outputs": [],
      "source": [
        "def plot_confusion_metrix(y_true, y_pred,classes,\n",
        "                         normalize=False,\n",
        "                         title='Confusion Matrix',\n",
        "                         cmap=plt.cm.Blues):\n",
        "    \"\"\"\n",
        "    Objective\n",
        "    ----------\n",
        "    plot confussion matrix, classification report and accuracy score\n",
        "\n",
        "    parameters\n",
        "    ----------\n",
        "    y_true : array-like of shape (n_samples,)\n",
        "        Ground truth (correct) target values.\n",
        "\n",
        "    y_pred : array-like of shape (n_samples,)\n",
        "        Estimated targets as returned by a classifier.\n",
        "\n",
        "    classes : list\n",
        "        List of labels to index the matrix\n",
        "\n",
        "    title : title for matrix\n",
        "    cmap : colormap for matrix\n",
        "\n",
        "    returns\n",
        "    ----------\n",
        "   all accruacy matrix\n",
        "    \"\"\"\n",
        "\n",
        "\n",
        "    cm = confusion_matrix(y_true,y_pred)\n",
        "\n",
        "\n",
        "    if normalize:\n",
        "        cm = cm.astype('float') / cm.sum(axis=1)[:, np.newaxis]\n",
        "        print(\"Normalized Confusion Matrix\")\n",
        "    else:\n",
        "        print(\"Confusion Matrix, Without Normalisation\")\n",
        "\n",
        "\n",
        "    plt.imshow(cm, interpolation='nearest',cmap=cmap)\n",
        "    plt.title(title)\n",
        "    plt.colorbar()\n",
        "    tick_marks = np.arange(len(classes))\n",
        "    plt.xticks(tick_marks,classes,rotation=35)\n",
        "    plt.yticks(tick_marks,classes)\n",
        "\n",
        "    fmt = '.2f' if normalize else 'd'\n",
        "    thresh = cm.max() /2.\n",
        "\n",
        "    for i , j in itertools.product(range(cm.shape[0]), range(cm.shape[0])):\n",
        "        plt.text(j, i, format(cm[i,j], fmt),\n",
        "                 horizontalalignment='center',\n",
        "                 color='white' if cm[i, j] > thresh else 'black')\n",
        "\n",
        "    plt.ylabel('True label')\n",
        "    plt.xlabel('Predicted label')\n",
        "    # plt.tight_layout()\n",
        "\n",
        "    plt.show()\n",
        "\n",
        "    print(\"-----------------------------------------------------\")\n",
        "    print('Classification report')\n",
        "    print(classification_report(y_true,y_pred))\n",
        "\n",
        "    print(\"-----------------------------------------------------\")\n",
        "    acc= accuracy_score(y_true,y_pred)\n",
        "    print(\"Accuracy of the model: \", acc)"
      ]
    },
    {
      "cell_type": "code",
      "execution_count": 77,
      "id": "computational-jenny",
      "metadata": {
        "id": "computational-jenny",
        "colab": {
          "base_uri": "https://localhost:8080/",
          "height": 771
        },
        "outputId": "272bbe27-44df-4583-9224-ebe365dee14b"
      },
      "outputs": [
        {
          "output_type": "stream",
          "name": "stdout",
          "text": [
            "Confusion Matrix, Without Normalisation\n"
          ]
        },
        {
          "output_type": "display_data",
          "data": {
            "text/plain": [
              "<Figure size 640x480 with 2 Axes>"
            ],
            "image/png": "[encoded data removed]"
          },
          "metadata": {}
        },
        {
          "output_type": "stream",
          "name": "stdout",
          "text": [
            "-----------------------------------------------------\n",
            "Classification report\n",
            "              precision    recall  f1-score   support\n",
            "\n",
            "           0       0.66      0.35      0.46      4993\n",
            "           1       0.56      0.82      0.66      5007\n",
            "\n",
            "    accuracy                           0.59     10000\n",
            "   macro avg       0.61      0.58      0.56     10000\n",
            "weighted avg       0.61      0.59      0.56     10000\n",
            "\n",
            "-----------------------------------------------------\n",
            "Accuracy of the model:  0.5852\n"
          ]
        }
      ],
      "source": [
        "plot_confusion_metrix(df_test[\"label\"], df_test[\"pred\"],classes=[\"negative: 0\",\"positive: 1\"])"
      ]
    },
    {
      "cell_type": "markdown",
      "id": "hearing-tours",
      "metadata": {
        "id": "hearing-tours"
      },
      "source": [
        "### 13. final submission"
      ]
    },
    {
      "cell_type": "code",
      "execution_count": 78,
      "id": "composed-tumor",
      "metadata": {
        "id": "composed-tumor"
      },
      "outputs": [],
      "source": [
        "def label(a):\n",
        "    if a==0:\n",
        "        return \"Negative\"\n",
        "    elif a==1:\n",
        "        return \"Positive\"\n"
      ]
    },
    {
      "cell_type": "code",
      "execution_count": 79,
      "id": "protecting-nightlife",
      "metadata": {
        "id": "protecting-nightlife"
      },
      "outputs": [],
      "source": [
        "df_test[\"pred\"] = df_test[\"pred\"].apply(lambda a : label(a))\n",
        "df_test[\"label\"] = df_test[\"label\"].apply(lambda a : label(a))"
      ]
    },
    {
      "cell_type": "code",
      "execution_count": 80,
      "id": "clear-basic",
      "metadata": {
        "id": "clear-basic",
        "colab": {
          "base_uri": "https://localhost:8080/",
          "height": 206
        },
        "outputId": "13ba4ddb-c0eb-440a-e9ae-ea9b2f06a123"
      },
      "outputs": [
        {
          "output_type": "execute_result",
          "data": {
            "text/plain": [
              "                                            clean_review     label      pred\n",
              "40000  first off i want to say that i lean liberal on...  Negative  Positive\n",
              "40001  i was excited to see a sitcom that would hopef...  Negative  Positive\n",
              "40002  when you look at the cover and read stuff abou...  Negative  Negative\n",
              "40003  like many others i counted on the appearance o...  Negative  Positive\n",
              "40004  this movie was on t v the other day and i didn...  Negative  Positive"
            ],
            "text/html": [
              "\n",
              "  <div id=\"df-da248e4f-540a-434a-a460-0e96e4d56a96\" class=\"colab-df-container\">\n",
              "    <div>\n",
              "<style scoped>\n",
              "    .dataframe tbody tr th:only-of-type {\n",
              "        vertical-align: middle;\n",
              "    }\n",
              "\n",
              "    .dataframe tbody tr th {\n",
              "        vertical-align: top;\n",
              "    }\n",
              "\n",
              "    .dataframe thead th {\n",
              "        text-align: right;\n",
              "    }\n",
              "</style>\n",
              "<table border=\"1\" class=\"dataframe\">\n",
              "  <thead>\n",
              "    <tr style=\"text-align: right;\">\n",
              "      <th></th>\n",
              "      <th>clean_review</th>\n",
              "      <th>label</th>\n",
              "      <th>pred</th>\n",
              "    </tr>\n",
              "  </thead>\n",
              "  <tbody>\n",
              "    <tr>\n",
              "      <th>40000</th>\n",
              "      <td>first off i want to say that i lean liberal on...</td>\n",
              "      <td>Negative</td>\n",
              "      <td>Positive</td>\n",
              "    </tr>\n",
              "    <tr>\n",
              "      <th>40001</th>\n",
              "      <td>i was excited to see a sitcom that would hopef...</td>\n",
              "      <td>Negative</td>\n",
              "      <td>Positive</td>\n",
              "    </tr>\n",
              "    <tr>\n",
              "      <th>40002</th>\n",
              "      <td>when you look at the cover and read stuff abou...</td>\n",
              "      <td>Negative</td>\n",
              "      <td>Negative</td>\n",
              "    </tr>\n",
              "    <tr>\n",
              "      <th>40003</th>\n",
              "      <td>like many others i counted on the appearance o...</td>\n",
              "      <td>Negative</td>\n",
              "      <td>Positive</td>\n",
              "    </tr>\n",
              "    <tr>\n",
              "      <th>40004</th>\n",
              "      <td>this movie was on t v the other day and i didn...</td>\n",
              "      <td>Negative</td>\n",
              "      <td>Positive</td>\n",
              "    </tr>\n",
              "  </tbody>\n",
              "</table>\n",
              "</div>\n",
              "    <div class=\"colab-df-buttons\">\n",
              "\n",
              "  <div class=\"colab-df-container\">\n",
              "    <button class=\"colab-df-convert\" onclick=\"convertToInteractive('df-da248e4f-540a-434a-a460-0e96e4d56a96')\"\n",
              "            title=\"Convert this dataframe to an interactive table.\"\n",
              "            style=\"display:none;\">\n",
              "\n",
              "  <svg xmlns=\"http://www.w3.org/2000/svg\" height=\"24px\" viewBox=\"0 -960 960 960\">\n",
              "    <path d=\"M120-120v-720h720v720H120Zm60-500h600v-160H180v160Zm220 220h160v-160H400v160Zm0 220h160v-160H400v160ZM180-400h160v-160H180v160Zm440 0h160v-160H620v160ZM180-180h160v-160H180v160Zm440 0h160v-160H620v160Z\"/>\n",
              "  </svg>\n",
              "    </button>\n",
              "\n",
              "  <style>\n",
              "    .colab-df-container {\n",
              "      display:flex;\n",
              "      gap: 12px;\n",
              "    }\n",
              "\n",
              "    .colab-df-convert {\n",
              "      background-color: #E8F0FE;\n",
              "      border: none;\n",
              "      border-radius: 50%;\n",
              "      cursor: pointer;\n",
              "      display: none;\n",
              "      fill: #1967D2;\n",
              "      height: 32px;\n",
              "      padding: 0 0 0 0;\n",
              "      width: 32px;\n",
              "    }\n",
              "\n",
              "    .colab-df-convert:hover {\n",
              "      background-color: #E2EBFA;\n",
              "      box-shadow: 0px 1px 2px rgba(60, 64, 67, 0.3), 0px 1px 3px 1px rgba(60, 64, 67, 0.15);\n",
              "      fill: #174EA6;\n",
              "    }\n",
              "\n",
              "    .colab-df-buttons div {\n",
              "      margin-bottom: 4px;\n",
              "    }\n",
              "\n",
              "    [theme=dark] .colab-df-convert {\n",
              "      background-color: #3B4455;\n",
              "      fill: #D2E3FC;\n",
              "    }\n",
              "\n",
              "    [theme=dark] .colab-df-convert:hover {\n",
              "      background-color: #434B5C;\n",
              "      box-shadow: 0px 1px 3px 1px rgba(0, 0, 0, 0.15);\n",
              "      filter: drop-shadow(0px 1px 2px rgba(0, 0, 0, 0.3));\n",
              "      fill: #FFFFFF;\n",
              "    }\n",
              "  </style>\n",
              "\n",
              "    <script>\n",
              "      const buttonEl =\n",
              "        document.querySelector('#df-da248e4f-540a-434a-a460-0e96e4d56a96 button.colab-df-convert');\n",
              "      buttonEl.style.display =\n",
              "        google.colab.kernel.accessAllowed ? 'block' : 'none';\n",
              "\n",
              "      async function convertToInteractive(key) {\n",
              "        const element = document.querySelector('#df-da248e4f-540a-434a-a460-0e96e4d56a96');\n",
              "        const dataTable =\n",
              "          await google.colab.kernel.invokeFunction('convertToInteractive',\n",
              "                                                    [key], {});\n",
              "        if (!dataTable) return;\n",
              "\n",
              "        const docLinkHtml = 'Like what you see? Visit the ' +\n",
              "          '<a target=\"_blank\" href=https://colab.research.google.com/notebooks/data_table.ipynb>data table notebook</a>'\n",
              "          + ' to learn more about interactive tables.';\n",
              "        element.innerHTML = '';\n",
              "        dataTable['output_type'] = 'display_data';\n",
              "        await google.colab.output.renderOutput(dataTable, element);\n",
              "        const docLink = document.createElement('div');\n",
              "        docLink.innerHTML = docLinkHtml;\n",
              "        element.appendChild(docLink);\n",
              "      }\n",
              "    </script>\n",
              "  </div>\n",
              "\n",
              "\n",
              "<div id=\"df-d7cc91d6-2da5-4d2a-99a5-80c11af72293\">\n",
              "  <button class=\"colab-df-quickchart\" onclick=\"quickchart('df-d7cc91d6-2da5-4d2a-99a5-80c11af72293')\"\n",
              "            title=\"Suggest charts\"\n",
              "            style=\"display:none;\">\n",
              "\n",
              "<svg xmlns=\"http://www.w3.org/2000/svg\" height=\"24px\"viewBox=\"0 0 24 24\"\n",
              "     width=\"24px\">\n",
              "    <g>\n",
              "        <path d=\"M19 3H5c-1.1 0-2 .9-2 2v14c0 1.1.9 2 2 2h14c1.1 0 2-.9 2-2V5c0-1.1-.9-2-2-2zM9 17H7v-7h2v7zm4 0h-2V7h2v10zm4 0h-2v-4h2v4z\"/>\n",
              "    </g>\n",
              "</svg>\n",
              "  </button>\n",
              "\n",
              "<style>\n",
              "  .colab-df-quickchart {\n",
              "      --bg-color: #E8F0FE;\n",
              "      --fill-color: #1967D2;\n",
              "      --hover-bg-color: #E2EBFA;\n",
              "      --hover-fill-color: #174EA6;\n",
              "      --disabled-fill-color: #AAA;\n",
              "      --disabled-bg-color: #DDD;\n",
              "  }\n",
              "\n",
              "  [theme=dark] .colab-df-quickchart {\n",
              "      --bg-color: #3B4455;\n",
              "      --fill-color: #D2E3FC;\n",
              "      --hover-bg-color: #434B5C;\n",
              "      --hover-fill-color: #FFFFFF;\n",
              "      --disabled-bg-color: #3B4455;\n",
              "      --disabled-fill-color: #666;\n",
              "  }\n",
              "\n",
              "  .colab-df-quickchart {\n",
              "    background-color: var(--bg-color);\n",
              "    border: none;\n",
              "    border-radius: 50%;\n",
              "    cursor: pointer;\n",
              "    display: none;\n",
              "    fill: var(--fill-color);\n",
              "    height: 32px;\n",
              "    padding: 0;\n",
              "    width: 32px;\n",
              "  }\n",
              "\n",
              "  .colab-df-quickchart:hover {\n",
              "    background-color: var(--hover-bg-color);\n",
              "    box-shadow: 0 1px 2px rgba(60, 64, 67, 0.3), 0 1px 3px 1px rgba(60, 64, 67, 0.15);\n",
              "    fill: var(--button-hover-fill-color);\n",
              "  }\n",
              "\n",
              "  .colab-df-quickchart-complete:disabled,\n",
              "  .colab-df-quickchart-complete:disabled:hover {\n",
              "    background-color: var(--disabled-bg-color);\n",
              "    fill: var(--disabled-fill-color);\n",
              "    box-shadow: none;\n",
              "  }\n",
              "\n",
              "  .colab-df-spinner {\n",
              "    border: 2px solid var(--fill-color);\n",
              "    border-color: transparent;\n",
              "    border-bottom-color: var(--fill-color);\n",
              "    animation:\n",
              "      spin 1s steps(1) infinite;\n",
              "  }\n",
              "\n",
              "  @keyframes spin {\n",
              "    0% {\n",
              "      border-color: transparent;\n",
              "      border-bottom-color: var(--fill-color);\n",
              "      border-left-color: var(--fill-color);\n",
              "    }\n",
              "    20% {\n",
              "      border-color: transparent;\n",
              "      border-left-color: var(--fill-color);\n",
              "      border-top-color: var(--fill-color);\n",
              "    }\n",
              "    30% {\n",
              "      border-color: transparent;\n",
              "      border-left-color: var(--fill-color);\n",
              "      border-top-color: var(--fill-color);\n",
              "      border-right-color: var(--fill-color);\n",
              "    }\n",
              "    40% {\n",
              "      border-color: transparent;\n",
              "      border-right-color: var(--fill-color);\n",
              "      border-top-color: var(--fill-color);\n",
              "    }\n",
              "    60% {\n",
              "      border-color: transparent;\n",
              "      border-right-color: var(--fill-color);\n",
              "    }\n",
              "    80% {\n",
              "      border-color: transparent;\n",
              "      border-right-color: var(--fill-color);\n",
              "      border-bottom-color: var(--fill-color);\n",
              "    }\n",
              "    90% {\n",
              "      border-color: transparent;\n",
              "      border-bottom-color: var(--fill-color);\n",
              "    }\n",
              "  }\n",
              "</style>\n",
              "\n",
              "  <script>\n",
              "    async function quickchart(key) {\n",
              "      const quickchartButtonEl =\n",
              "        document.querySelector('#' + key + ' button');\n",
              "      quickchartButtonEl.disabled = true;  // To prevent multiple clicks.\n",
              "      quickchartButtonEl.classList.add('colab-df-spinner');\n",
              "      try {\n",
              "        const charts = await google.colab.kernel.invokeFunction(\n",
              "            'suggestCharts', [key], {});\n",
              "      } catch (error) {\n",
              "        console.error('Error during call to suggestCharts:', error);\n",
              "      }\n",
              "      quickchartButtonEl.classList.remove('colab-df-spinner');\n",
              "      quickchartButtonEl.classList.add('colab-df-quickchart-complete');\n",
              "    }\n",
              "    (() => {\n",
              "      let quickchartButtonEl =\n",
              "        document.querySelector('#df-d7cc91d6-2da5-4d2a-99a5-80c11af72293 button');\n",
              "      quickchartButtonEl.style.display =\n",
              "        google.colab.kernel.accessAllowed ? 'block' : 'none';\n",
              "    })();\n",
              "  </script>\n",
              "</div>\n",
              "\n",
              "    </div>\n",
              "  </div>\n"
            ],
            "application/vnd.google.colaboratory.intrinsic+json": {
              "type": "dataframe",
              "variable_name": "df_test",
              "summary": "{\n  \"name\": \"df_test\",\n  \"rows\": 10000,\n  \"fields\": [\n    {\n      \"column\": \"clean_review\",\n      \"properties\": {\n        \"dtype\": \"string\",\n        \"num_unique_values\": 9981,\n        \"samples\": [\n          \"what a terrible movie this was i made it about 50 minutes into it and started skipping chapters until the end the plot is nothing special and the dialog from the movie deviates from the main story so much that your head will explode out of rage many useless minutes wasted just listening to characters jabber on about something irrelevant to the plot and or something that could said in a shorter amount of time the camera work is shaky and grainy it seemed mr milligan needed to take his finger off of the zoom button i noticed also that at some points during this movie it seemed that andy was having seizures and would uncontrollably shake the camera the splices between scenes were jumpy and didn t flow the murder scenes were nothing special incredibly and laughably fake barely any gore as the title suggests this movie runs about 1 hour 20 minutes and the murder scenes take up about 1 minute total of the whole movie if that what a wretched piece of garbage this movie was andy milligan is in fact probably one of the worst directors to plague mankind with his talentless directing and camera work usually i can make it through really bad horror movies and laugh about it later bloodthirsty butchers however i can t i am just angry i wasted an hour and a half of my life watching this what i wouldn t do to gain it back take my suggestion and do not see this movie unless you plan on falling asleep terrible\",\n          \"she s not michael jordan br br think of all the marvelous nba players whose career light has been dimmed for no other good reason than the timing of their birth their names might trip as easily off the public s lips as russell cousy byrd magic mchale oscar wilt the list goes on but the volume gets turned down a little for stockton and malone charles patrick and all the other great players who always lost the headlines to michael br br i ve seen it written that gretchen mol s career flamed out in the wake of the cover article in the 1998 vanity fair issue which predicted inevitable superstardom for ms mol it was later said that she had been over hyped i disagree br br i still remember that for some time after i saw the devil s advocate in 97 or 98 i would get confused as to which actress played mary ann lomax was it mol or theron oh yeah charlize theron was the one in 2 days in the valley and mighty joe young and gretchen mol was in donnie brasco celebrity and rounders br br by the time i had seen the thirteenth floor mol and sweet november theron i pretty much had them straightened out but i still put them in the same mental file drawer both were highly talented had sweet faces similar body types short blonde hair and so on br br theron though was offered more work i loved her as sara deever and as adele invergordon her beauty was downright intimidating br br in 2003 monster was released and from that point until the handing of the oscar itself all of filmdom knew who the best actress award was going to and deservedly so theron was aileen wuornos the only way to get a more accurate understanding of what made the real aileen wuornos tick would be to somehow replay the digital video trapped in selby s head and for a major talent to make herself that physically unattractive unheard of br br then in 2005 the notorious bettie page was released mol s performance was extraordinary maybe she was standing in the shadow of ms theron it was like the ballroom for the victory celebration for the losing presidential candidate nobody came and nobody cared it was viewed as a continuation of an old tale once promising actress with a declining career does a nudie part in a b movie ho hum no no no wrong no matter what you may think of the film and i enjoy films about the fifties if you pass on this one you ll be missing one of the better performances of that year ms moll was every bit as much bettie as ms theron was aileen unfortunately aileen to the film going public is the more sympathetic character for whatever reason an amoral sociopathic killer is less embarrassing to us than a na ve unsophisticated uninhibited religious girl whose most capital crime was to live her life totally trusting and completely exposed bettie page was one of the icons of the fifties her photos and films never sexual never pornographic but she presented as a near caricature of all things kinky there was no sense of realism only parody ms moll captured the very essence of the character she gained 20 pounds to add some zaftig to her normally slim figure and when she posed for various photographers in the film her body was bettie s her full frontal lack of any inhibitions accurately fits everything which has been published about bettie cinematic nudity normally depicts eroticism or sexuality in this film it s all about innocence seeing gretchen bettie nude didn t make me want to jump her but instilled a desire to protect her from all the horrors that people can inflict on each other if you pass on this film you ll be missing out on one of the best performances of recent years by the way shame on the mpaa for giving this an r rating\",\n          \"oh where the hell should i begin give a brief summary of the story no either you ve already heard it or don t want to either way it sucks much like the movie i happen to be a semi large horror movie aficionado and i must say this is one of the dumbest and most clumsily executed movies i ve ever had the displeasure of viewing br br the script is horrendously stupid the story starts too fast with absolutely no suspense or build up in the slightest all of those torture scenes would have been a lot more effective if we gave even the tiniest bit of crap for the characters since the first scene in the film is when the teenage girls meet capt howdy how the hell are we supposed to sympathize with them first off they seem stupid for going to a party with a guy they don t even know and second we don t even know their damn names why the hell should i care if they live or die not to mention the fact that they actually have the guts to try and make us feel sympathetic towards capt howdy after he s been reformed please i was cheering when he got his just deserts he deserved them hell he deserved worse also we re forced to sit through a pointless misdirect sequence lifted directly from the silence of the lambs and here it s done horribly of course he s gonna give them a false address and even if he had given them the real one don t you think he d be waiting and not piercing some guy s johnson upstairs retarded br br then there s the dialogue everything captain howdy says is either laughable or just plain stupid the dead are so dreadfully dead when they re dead what the hell kind of crap is that dee snider at one point says knowledge is power well if that s true this film has absolutely no power whatsoever br br then there s the plot holes yes i know this is a horror film well wannabe horror film but damn you could drive a semi truck into these holes first off these have got to be the dumbest cops i have ever seen ever i mean dear god these guys are morons call for backup idiots second how the hell did that humungous septum ring fall out of captain howdy s nose evidentially this piercing expert guy says that s the biggest one i ve ever seen but if it s so damn big how the hell could it have fallen out so easily did capt howdy just leave it at the crime scene because he wanted to get caught they sure didn t make it seem like he did also they would never release capt howdy and i know that for a damn fact he would be in jail for the rest of his life and there s no getting around this much less let him return to his old house where he killed tortured everybody impossible and implausible br br and now the acting dear god did these people suck linda cardellini is the only thing good in this film she s poised and amazing too bad she hardly gets a good chance to act in this piece of crap amy smart shows up for about 10 minutes and then drops out of existence even the usually entertaining robert englund is underused and ineffective here dee snider plays the crazy guy with no talent whatsoever i never felt threatened scared or intimidated i d rather have seen dee snider in alexis arquette s role in bride of chucky it would have been so much more fun to see this talent less hack get it by that lovable psycho doll br br dee snider just plain sucks he can t act one of the least scary villains i have ever seen he can t write did he write this damn movie in his sleep and he s obviously dumber than freaking jessica simpson this film is just a way for dee snider to show off all the weird crap he knows about self mutilation and modern primitives and blah blah blah either it s been done before or it just didn t need to be done i was bored throughout the whole damn thing br br the acting sucks the music sucks the script sucks the pacing sucks the special fx suck the directing sucks basically this movie sucks this film tries to be a serious and sophisticated thriller horror flick and it fails miserably it doesn t manage to scare shock or disturb in any shape way or form this is probably one of the least effective and utterly unoriginal films i have ever seen in my entire life a piece of cinematic garbage captured on celluloid br br strangeland gets a 0 out of 10 avoid at any and all costs not enjoyable in the slightest\"\n        ],\n        \"semantic_type\": \"\",\n        \"description\": \"\"\n      }\n    },\n    {\n      \"column\": \"label\",\n      \"properties\": {\n        \"dtype\": \"category\",\n        \"num_unique_values\": 2,\n        \"samples\": [\n          \"Positive\",\n          \"Negative\"\n        ],\n        \"semantic_type\": \"\",\n        \"description\": \"\"\n      }\n    },\n    {\n      \"column\": \"pred\",\n      \"properties\": {\n        \"dtype\": \"category\",\n        \"num_unique_values\": 2,\n        \"samples\": [\n          \"Negative\",\n          \"Positive\"\n        ],\n        \"semantic_type\": \"\",\n        \"description\": \"\"\n      }\n    }\n  ]\n}"
            }
          },
          "metadata": {},
          "execution_count": 80
        }
      ],
      "source": [
        "df_test.head()"
      ]
    },
    {
      "cell_type": "code",
      "execution_count": 82,
      "id": "frozen-edgar",
      "metadata": {
        "id": "frozen-edgar"
      },
      "outputs": [],
      "source": [
        "df_test.to_csv(\"Test_Predictioin.csv\", index=False)"
      ]
    },
    {
      "cell_type": "markdown",
      "id": "classical-avenue",
      "metadata": {
        "id": "classical-avenue"
      },
      "source": [
        "### 14. Future scope"
      ]
    },
    {
      "cell_type": "raw",
      "id": "australian-integration",
      "metadata": {
        "id": "australian-integration"
      },
      "source": [
        "\n",
        "1. parameter tunning\n",
        "2. use lstm layer insted of rnn\n",
        "3. stack two or more lstm layers\n",
        "4. add dropout\n",
        "5. change learning rate and epochs\n",
        "6. deploye the model"
      ]
    },
    {
      "cell_type": "raw",
      "id": "promising-gauge",
      "metadata": {
        "id": "promising-gauge"
      },
      "source": [
        "# use simple lstm\n",
        "\n",
        "model = tf.keras.Sequential([\n",
        "    encoder,\n",
        "    tf.keras.layers.Embedding(input_dim=len(encoder.get_vocabulary()), output_dim=64, mask_zero=True), # word2vec\n",
        "    tf.keras.layers.LSTM(64)\n",
        "    tf.keras.layers.Dense(64, activation=\"relu\"),\n",
        "    tf.keras.layers.Dense(1) # tf.keras.layers.Dense(3, activation=\"softmax\")\n",
        "])"
      ]
    },
    {
      "cell_type": "raw",
      "id": "awful-privilege",
      "metadata": {
        "id": "awful-privilege"
      },
      "source": [
        "#  stack two or more lstm layers\n",
        "model = tf.keras.Sequential([\n",
        "    encoder,\n",
        "    tf.keras.layers.Embedding(input_dim=len(encoder.get_vocabulary()), output_dim=64, mask_zero=True), # word2vec\n",
        "    tf.keras.layers.Bidirectional(tf.keras.layers.LSTM(64, return_sequence=True))\n",
        "    tf.keras.layers.Bidirectional(tf.keras.layers.LSTM(32))\n",
        "    tf.keras.layers.Dense(64, activation=\"relu\"),\n",
        "    tf.keras.layers.Dropout(0.4)\n",
        "    tf.keras.layers.Dense(1) # tf.keras.layers.Dense(3, activation=\"softmax\")\n",
        "])"
      ]
    },
    {
      "cell_type": "markdown",
      "id": "satellite-therapy",
      "metadata": {
        "id": "satellite-therapy"
      },
      "source": [
        "return_sequence :\n",
        "    - false: it returns only the last output for each input sequence (a 2D tensor of shape (batch_size, output_features)). this is the default\n",
        "        used in previous model\n",
        "    - true: the full sequences of successive outputs for each timestep is returned (a 3D tensor of shape(batch_size, timesteps, output_features))\n",
        "\n",
        "the intresting thing about using an rnn with return sequences=true is that the output still has 3axes like the input so it can be passed to another rnn layer like this.    "
      ]
    },
    {
      "cell_type": "markdown",
      "id": "computational-bunny",
      "metadata": {
        "id": "computational-bunny"
      },
      "source": [
        "### THE END"
      ]
    },
    {
      "cell_type": "code",
      "source": [],
      "metadata": {
        "id": "zLVVpUrro9KQ"
      },
      "id": "zLVVpUrro9KQ",
      "execution_count": null,
      "outputs": []
    },
    {
      "cell_type": "code",
      "source": [],
      "metadata": {
        "id": "5cFzgpwsoDrU"
      },
      "id": "5cFzgpwsoDrU",
      "execution_count": null,
      "outputs": []
    },
    {
      "cell_type": "code",
      "execution_count": null,
      "id": "unusual-effects",
      "metadata": {
        "id": "unusual-effects"
      },
      "outputs": [],
      "source": []
    },
    {
      "cell_type": "code",
      "execution_count": null,
      "id": "thorough-witch",
      "metadata": {
        "id": "thorough-witch"
      },
      "outputs": [],
      "source": []
    },
    {
      "cell_type": "code",
      "execution_count": null,
      "id": "subjective-birthday",
      "metadata": {
        "id": "subjective-birthday"
      },
      "outputs": [],
      "source": []
    },
    {
      "cell_type": "code",
      "execution_count": null,
      "id": "gross-location",
      "metadata": {
        "id": "gross-location"
      },
      "outputs": [],
      "source": []
    },
    {
      "cell_type": "code",
      "execution_count": null,
      "id": "genuine-sherman",
      "metadata": {
        "id": "genuine-sherman"
      },
      "outputs": [],
      "source": []
    },
    {
      "cell_type": "code",
      "execution_count": null,
      "id": "minimal-evaluation",
      "metadata": {
        "id": "minimal-evaluation"
      },
      "outputs": [],
      "source": []
    },
    {
      "cell_type": "code",
      "execution_count": null,
      "id": "derived-trustee",
      "metadata": {
        "id": "derived-trustee"
      },
      "outputs": [],
      "source": []
    },
    {
      "cell_type": "code",
      "execution_count": null,
      "id": "boolean-excuse",
      "metadata": {
        "id": "boolean-excuse"
      },
      "outputs": [],
      "source": []
    },
    {
      "cell_type": "code",
      "execution_count": null,
      "id": "polished-injury",
      "metadata": {
        "id": "polished-injury"
      },
      "outputs": [],
      "source": []
    },
    {
      "cell_type": "code",
      "execution_count": null,
      "id": "consolidated-sodium",
      "metadata": {
        "id": "consolidated-sodium"
      },
      "outputs": [],
      "source": []
    },
    {
      "cell_type": "code",
      "execution_count": null,
      "id": "preliminary-inflation",
      "metadata": {
        "id": "preliminary-inflation"
      },
      "outputs": [],
      "source": []
    },
    {
      "cell_type": "code",
      "execution_count": null,
      "id": "private-fraction",
      "metadata": {
        "id": "private-fraction"
      },
      "outputs": [],
      "source": []
    }
  ],
  "metadata": {
    "kernelspec": {
      "display_name": "tf24",
      "language": "python",
      "name": "tf24"
    },
    "language_info": {
      "codemirror_mode": {
        "name": "ipython",
        "version": 3
      },
      "file_extension": ".py",
      "mimetype": "text/x-python",
      "name": "python",
      "nbconvert_exporter": "python",
      "pygments_lexer": "ipython3",
      "version": "3.7.9"
    },
    "colab": {
      "provenance": [],
      "collapsed_sections": [
        "frozen-oliver",
        "nervous-duplicate",
        "diverse-period",
        "soviet-daniel",
        "hearing-tours",
        "classical-avenue"
      ]
    },
    "accelerator": "GPU"
  },
  "nbformat": 4,
  "nbformat_minor": 5
}